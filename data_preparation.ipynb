{
 "cells": [
  {
   "cell_type": "markdown",
   "id": "6c10b41a",
   "metadata": {},
   "source": [
    "# 1. Genotype"
   ]
  },
  {
   "cell_type": "markdown",
   "id": "06c085b2",
   "metadata": {},
   "source": [
    "First we load the eids of patients with a pathogenic variant in the Whole Exome 450K data"
   ]
  },
  {
   "cell_type": "code",
   "execution_count": 98,
   "id": "5535012c",
   "metadata": {},
   "outputs": [
    {
     "data": {
      "text/html": [
       "<table class=\"dataframe\">\n",
       "<caption>A data.frame: 6 × 5</caption>\n",
       "<thead>\n",
       "\t<tr><th></th><th scope=col>eid</th><th scope=col>LDLR</th><th scope=col>APOB</th><th scope=col>PCSK9</th><th scope=col>ANY</th></tr>\n",
       "\t<tr><th></th><th scope=col>&lt;int&gt;</th><th scope=col>&lt;dbl&gt;</th><th scope=col>&lt;dbl&gt;</th><th scope=col>&lt;dbl&gt;</th><th scope=col>&lt;dbl&gt;</th></tr>\n",
       "</thead>\n",
       "<tbody>\n",
       "\t<tr><th scope=row>1</th><td>1000016</td><td>0</td><td>0</td><td>0</td><td>0</td></tr>\n",
       "\t<tr><th scope=row>2</th><td>1000021</td><td>0</td><td>0</td><td>0</td><td>0</td></tr>\n",
       "\t<tr><th scope=row>3</th><td>1000033</td><td>0</td><td>0</td><td>0</td><td>0</td></tr>\n",
       "\t<tr><th scope=row>4</th><td>1000049</td><td>0</td><td>0</td><td>0</td><td>0</td></tr>\n",
       "\t<tr><th scope=row>5</th><td>1000057</td><td>0</td><td>0</td><td>0</td><td>0</td></tr>\n",
       "\t<tr><th scope=row>6</th><td>1000065</td><td>0</td><td>0</td><td>0</td><td>0</td></tr>\n",
       "</tbody>\n",
       "</table>\n"
      ],
      "text/latex": [
       "A data.frame: 6 × 5\n",
       "\\begin{tabular}{r|lllll}\n",
       "  & eid & LDLR & APOB & PCSK9 & ANY\\\\\n",
       "  & <int> & <dbl> & <dbl> & <dbl> & <dbl>\\\\\n",
       "\\hline\n",
       "\t1 & 1000016 & 0 & 0 & 0 & 0\\\\\n",
       "\t2 & 1000021 & 0 & 0 & 0 & 0\\\\\n",
       "\t3 & 1000033 & 0 & 0 & 0 & 0\\\\\n",
       "\t4 & 1000049 & 0 & 0 & 0 & 0\\\\\n",
       "\t5 & 1000057 & 0 & 0 & 0 & 0\\\\\n",
       "\t6 & 1000065 & 0 & 0 & 0 & 0\\\\\n",
       "\\end{tabular}\n"
      ],
      "text/markdown": [
       "\n",
       "A data.frame: 6 × 5\n",
       "\n",
       "| <!--/--> | eid &lt;int&gt; | LDLR &lt;dbl&gt; | APOB &lt;dbl&gt; | PCSK9 &lt;dbl&gt; | ANY &lt;dbl&gt; |\n",
       "|---|---|---|---|---|---|\n",
       "| 1 | 1000016 | 0 | 0 | 0 | 0 |\n",
       "| 2 | 1000021 | 0 | 0 | 0 | 0 |\n",
       "| 3 | 1000033 | 0 | 0 | 0 | 0 |\n",
       "| 4 | 1000049 | 0 | 0 | 0 | 0 |\n",
       "| 5 | 1000057 | 0 | 0 | 0 | 0 |\n",
       "| 6 | 1000065 | 0 | 0 | 0 | 0 |\n",
       "\n"
      ],
      "text/plain": [
       "  eid     LDLR APOB PCSK9 ANY\n",
       "1 1000016 0    0    0     0  \n",
       "2 1000021 0    0    0     0  \n",
       "3 1000033 0    0    0     0  \n",
       "4 1000049 0    0    0     0  \n",
       "5 1000057 0    0    0     0  \n",
       "6 1000065 0    0    0     0  "
      ]
     },
     "metadata": {},
     "output_type": "display_data"
    }
   ],
   "source": [
    "outcome <- readRDS(\"outcome.rds\")\n",
    "head(outcome)"
   ]
  },
  {
   "cell_type": "markdown",
   "id": "6885ce7e",
   "metadata": {},
   "source": [
    "# 2. Phenotype\n",
    "\n",
    "We then load the phenotype data"
   ]
  },
  {
   "cell_type": "code",
   "execution_count": 99,
   "id": "3616dcef",
   "metadata": {},
   "outputs": [
    {
     "name": "stderr",
     "output_type": "stream",
     "text": [
      "Loading required package: data.table\n",
      "\n",
      "\n",
      "Attaching package: ‘data.table’\n",
      "\n",
      "\n",
      "The following objects are masked from ‘package:dplyr’:\n",
      "\n",
      "    between, first, last\n",
      "\n",
      "\n"
     ]
    }
   ],
   "source": [
    "require(data.table)\n",
    "phenotype  <- as.data.frame(fread(\"data_participant.tsv\"))\n",
    "phenotype2 <- as.data.frame(fread(\"data2_participant.tsv\"))\n",
    "data <- subset(phenotype, eid %in% outcome$eid)\n",
    "data2 <- subset(phenotype2, eid %in% outcome$eid)\n",
    "data <- merge(data,data2, by=\"eid\")"
   ]
  },
  {
   "cell_type": "markdown",
   "id": "ba1cc5ef",
   "metadata": {},
   "source": [
    "## 2.1 Prepare Phenotype"
   ]
  },
  {
   "cell_type": "markdown",
   "id": "e54d2ab2",
   "metadata": {},
   "source": [
    "We create a new function to remove levels from factors"
   ]
  },
  {
   "cell_type": "code",
   "execution_count": 100,
   "id": "cdb4519e",
   "metadata": {},
   "outputs": [],
   "source": [
    "require(dplyr)\n",
    "removeLevels <- function(data, variable, excl.values){\n",
    "  data[which(data[,variable] %in% excl.values),variable]<- NA\n",
    "  data[,variable] <- droplevels(data[,variable])\n",
    "}"
   ]
  },
  {
   "cell_type": "markdown",
   "id": "f8273875",
   "metadata": {},
   "source": [
    "### 2.1.1 Demographics"
   ]
  },
  {
   "cell_type": "markdown",
   "id": "7b6b7e13",
   "metadata": {},
   "source": [
    "#### 2.1.2  Gender"
   ]
  },
  {
   "cell_type": "code",
   "execution_count": 4,
   "id": "9f5807c3",
   "metadata": {},
   "outputs": [
    {
     "data": {
      "text/plain": [
       "\n",
       "Female   Male \n",
       "246590 208120 "
      ]
     },
     "metadata": {},
     "output_type": "display_data"
    }
   ],
   "source": [
    "data$gender <- data$p31\n",
    "data$gender <- as.factor(data$gender)\n",
    "table(data$gender) # need to recode as in FHSC"
   ]
  },
  {
   "cell_type": "markdown",
   "id": "56f7c01b",
   "metadata": {},
   "source": [
    "#### 2.1.3 Country"
   ]
  },
  {
   "cell_type": "code",
   "execution_count": 5,
   "id": "14143926",
   "metadata": {},
   "outputs": [
    {
     "data": {
      "text/plain": [
       "\n",
       "       Elsewhere          England Northern Ireland         Scotland \n",
       "           40344           353778             2794            36508 \n",
       "           Wales \n",
       "           20034 "
      ]
     },
     "metadata": {},
     "output_type": "display_data"
    }
   ],
   "source": [
    "data$country <- data$p1647_i0\n",
    "data$country[data$country==\"\"] <- \"Unknown\"\n",
    "data$country <- as.factor(data$country )\n",
    "\n",
    "data$country <- recode_factor(data$country,\n",
    "                              'Republic of Ireland'=\"Elsewhere\", \n",
    "                              'Do not know'='unknown/missing',\n",
    "                              'Prefer not to answer'='unknown/missing')\n",
    "\n",
    "data$country <- removeLevels(data, \"country\", c(\"unknown/missing\",\"Unknown\")) \n",
    "table(data$country)\n",
    "#unique(data$country)  # not very useful either UK or elsewhere!"
   ]
  },
  {
   "cell_type": "markdown",
   "id": "7ec1a478",
   "metadata": {},
   "source": [
    "#### 2.1.4 Ethnicity"
   ]
  },
  {
   "cell_type": "code",
   "execution_count": 6,
   "id": "435f44ac",
   "metadata": {},
   "outputs": [
    {
     "data": {
      "text/plain": [
       "\n",
       "         black          white          mixed oriental/Asian \n",
       "          7111         428443           2637          10284 "
      ]
     },
     "metadata": {},
     "output_type": "display_data"
    }
   ],
   "source": [
    "data$ethnicity <- data$p21000_i0\n",
    "data$ethnicity[data$ethnicity==\"\"] <- \"unknown\"\n",
    "data$ethnicity <- as.factor(data$ethnicity )\n",
    "\n",
    "data$ethnicity <- recode_factor(data$ethnicity,\n",
    "                                  'Do not know'='unknown',\n",
    "                                  'Prefer not to answer'='unknown/missing',\n",
    "                                  \"Other ethnic group\"=\"unknown/missing\",\n",
    "                                  \"African\"=\"black\",\n",
    "                                  \"Caribbean\"=\"black\",\n",
    "                                  \"Black or Black British\"=\"black\",\n",
    "                                  \"Any other Black background\"=\"black\",\n",
    "                                  \"British\"=\"white\",\n",
    "                                  \"White\"=\"white\",\n",
    "                                  \"Any other white background\"=\"white\",\n",
    "                                  \"Irish\"=\"white\",\n",
    "                                  \"White and Black Caribbean\"=\"mixed\",\n",
    "                                  \"White and Black African\"=\"mixed\",\n",
    "                                  \"Any other mixed background\"=\"mixed\",\n",
    "                                  \"Mixed\"=\"mixed\",\n",
    "                                  \"White and Asian\"=\"mixed\",\n",
    "                                  \"Chinese\"=\"oriental/Asian\",\n",
    "                                  \"Indian\"=\"oriental/Asian\",\n",
    "                                  \"Pakistani\"=\"oriental/Asian\",\n",
    "                                  \"Bangladeshi\"=\"oriental/Asian\",\n",
    "                                  \"Asian or Asian British\"=\"oriental/Asian\",\n",
    "                                  \"Any other Asian background\"=\"oriental/Asian\")\n",
    "data$ethnicity <- removeLevels(data, \"ethnicity\", c(\"unknown/missing\",\"unknown\")) \n",
    "\n",
    "table(data$ethnicity) # useful "
   ]
  },
  {
   "cell_type": "markdown",
   "id": "b5238ca1",
   "metadata": {},
   "source": [
    "#### 2.1.5  Occupation"
   ]
  },
  {
   "cell_type": "code",
   "execution_count": 7,
   "id": "44f81d64",
   "metadata": {},
   "outputs": [
    {
     "data": {
      "text/plain": [
       "\n",
       "      Administrative and Secretarial Occupations \n",
       "                                           45926 \n",
       "Associate Professional and Technical Occupations \n",
       "                                           51042 \n",
       "                          Elementary Occupations \n",
       "                                           15023 \n",
       "                   Managers and Senior Officials \n",
       "                                           50789 \n",
       "                    Personal Service Occupations \n",
       "                                           18056 \n",
       "           Process, Plant and Machine Operatives \n",
       "                                           13547 \n",
       "                        Professional Occupations \n",
       "                                           68340 \n",
       "          Sales and Customer Service Occupations \n",
       "                                           10343 \n",
       "                      Skilled Trades Occupations \n",
       "                                           21982 "
      ]
     },
     "metadata": {},
     "output_type": "display_data"
    }
   ],
   "source": [
    "occupation_mapping <- read.csv(\"tables/occupations_table.csv\")\n",
    "data$occupation<- data$p20277_i0\n",
    "data$occupation[data$occupation==\"\"]<-\"unknown/missing\"\n",
    "data$occupation <- sapply(data$occupation, FUN =function(x){gsub(\"-\", \"\", x)} )\n",
    "for(i in 1:nrow(occupation_mapping)){\n",
    "    data$occupation[data$occupation==occupation_mapping[i,1]]<-occupation_mapping[i,2]\n",
    "}\n",
    "data$occupation <- as.factor(data$occupation)\n",
    "data$occupation <- removeLevels(data, \"occupation\", c(\"unknown/missing\")) \n",
    "table(data$occupation)"
   ]
  },
  {
   "cell_type": "markdown",
   "id": "90a08ea8",
   "metadata": {},
   "source": [
    "#### 2.1.6 Education"
   ]
  },
  {
   "cell_type": "code",
   "execution_count": 8,
   "id": "fa395ffd",
   "metadata": {},
   "outputs": [
    {
     "data": {
      "text/plain": [
       "\n",
       "                       A levels/AS levels or equivalent \n",
       "                                                  50590 \n",
       "                           College or University degree \n",
       "                                                 147202 \n",
       "                                     CSEs or equivalent \n",
       "                                                  24531 \n",
       "                                      None of the above \n",
       "                                                  77399 \n",
       "                        NVQ or HND or HNC or equivalent \n",
       "                                                  29862 \n",
       "                           O levels/GCSEs or equivalent \n",
       "                                                  96038 \n",
       "Other professional qualifications eg: nursing, teaching \n",
       "                                                  23589 \n",
       "                                   Prefer not to answer \n",
       "                                                   4942 "
      ]
     },
     "metadata": {},
     "output_type": "display_data"
    }
   ],
   "source": [
    "data$education <- data$p6138_i0\n",
    "# find Highest qualification\n",
    "qualifications <- c(\"College or University degree\", \"A levels/AS levels or equivalent\",\n",
    "                    \"O levels/GCSEs or equivalent\",\"CSEs or equivalent\",\"NVQ or HND or HNC or equivalent\",\n",
    "                    \"Other professional qualifications eg: nursing, teaching\",\"None of the above\",\"Prefer not to answer\")\n",
    "data$education_tmp <- \"unknown/missing\"\n",
    "for( i in length(qualifications):1){\n",
    "    data$education_tmp <- ifelse(grepl(qualifications[i],data$education),qualifications[i],data$education_tmp)\n",
    "}\n",
    "data$education <- as.factor(data$education_tmp)\n",
    "data$education <- removeLevels(data, \"education\", c(\"unknown/missing\")) \n",
    "\n",
    "table(data$education)\n",
    "#sum(!is.na(data$education))\n",
    "#unique(data$education) # -- too many occupation need to regroup"
   ]
  },
  {
   "cell_type": "markdown",
   "id": "49945c43",
   "metadata": {},
   "source": [
    "#### 2.1.7 Year of birth (DOB)"
   ]
  },
  {
   "cell_type": "code",
   "execution_count": 114,
   "id": "7becc7a3",
   "metadata": {},
   "outputs": [
    {
     "data": {
      "image/png": "[encoded data removed]",
      "text/plain": [
       "Plot with title “Histogram of data$dob”"
      ]
     },
     "metadata": {
      "image/png": {
       "height": 420,
       "width": 420
      }
     },
     "output_type": "display_data"
    }
   ],
   "source": [
    "data$dob <- as.numeric(data$p34)\n",
    "hist(data$dob )"
   ]
  },
  {
   "cell_type": "markdown",
   "id": "d881c429",
   "metadata": {},
   "source": [
    "#### 2.1.8  Age at entry"
   ]
  },
  {
   "cell_type": "code",
   "execution_count": 10,
   "id": "3c6f510f",
   "metadata": {},
   "outputs": [
    {
     "data": {
      "image/png": "[encoded data removed]",
      "text/plain": [
       "Plot with title “Histogram of data$age”"
      ]
     },
     "metadata": {
      "image/png": {
       "height": 420,
       "width": 420
      }
     },
     "output_type": "display_data"
    }
   ],
   "source": [
    "data$age <- data$p21003_i0\n",
    "hist(data$age)"
   ]
  },
  {
   "cell_type": "markdown",
   "id": "242578dd",
   "metadata": {},
   "source": [
    "### 2.2 Anthrompometric Measurements"
   ]
  },
  {
   "cell_type": "markdown",
   "id": "c373e318",
   "metadata": {},
   "source": [
    "#### 2.2.1 Waist Circumference"
   ]
  },
  {
   "cell_type": "code",
   "execution_count": 11,
   "id": "dfdb07b9",
   "metadata": {},
   "outputs": [
    {
     "data": {
      "image/png": "[encoded data removed]",
      "text/plain": [
       "Plot with title “Histogram of data$waist”"
      ]
     },
     "metadata": {
      "image/png": {
       "height": 420,
       "width": 420
      }
     },
     "output_type": "display_data"
    }
   ],
   "source": [
    "data$waist <- data$p48_i0\n",
    "hist(data$waist)"
   ]
  },
  {
   "cell_type": "markdown",
   "id": "5e62ed9b",
   "metadata": {},
   "source": [
    "#### 2.2.2 Weight"
   ]
  },
  {
   "cell_type": "code",
   "execution_count": 12,
   "id": "74069a64",
   "metadata": {},
   "outputs": [
    {
     "data": {
      "image/png": "[encoded data removed]",
      "text/plain": [
       "Plot with title “Histogram of data$weight”"
      ]
     },
     "metadata": {
      "image/png": {
       "height": 420,
       "width": 420
      }
     },
     "output_type": "display_data"
    }
   ],
   "source": [
    "data$weight <- data$p21002_i0\n",
    "hist(data$weight)"
   ]
  },
  {
   "cell_type": "markdown",
   "id": "81dc0af0",
   "metadata": {},
   "source": [
    "#### 2.2.3 BMI"
   ]
  },
  {
   "cell_type": "code",
   "execution_count": 13,
   "id": "0d46acbb",
   "metadata": {},
   "outputs": [
    {
     "data": {
      "text/plain": [
       "\n",
       "     normal       obese  overweight underweight \n",
       "     144178      113069      193560        2150 "
      ]
     },
     "metadata": {},
     "output_type": "display_data"
    },
    {
     "data": {
      "image/png": "[encoded data removed]",
      "text/plain": [
       "Plot with title “Histogram of data$bmi”"
      ]
     },
     "metadata": {
      "image/png": {
       "height": 420,
       "width": 420
      }
     },
     "output_type": "display_data"
    }
   ],
   "source": [
    "# max of boy mass index \n",
    "data$bmi <- apply( data[,paste('p21001_i',0:3,sep=\"\")],1, FUN = function(x){\n",
    "  x <- na.omit(x)\n",
    "  if (length(x)>0){max(x)}else{return(NA)}\n",
    "})\n",
    "data$bmi_cat <- ifelse( data$bmi < 18.5, \"underweight\",ifelse( data$bmi < 25, \"normal\", ifelse( data$bmi < 30, \"overweight\", \"obese\")))\n",
    "hist(data$bmi)\n",
    "table(data$bmi_cat)"
   ]
  },
  {
   "cell_type": "markdown",
   "id": "077c1e91",
   "metadata": {},
   "source": [
    "#### 2.2.4 Height"
   ]
  },
  {
   "cell_type": "code",
   "execution_count": 14,
   "id": "7b516f19",
   "metadata": {},
   "outputs": [
    {
     "data": {
      "image/png": "[encoded data removed]",
      "text/plain": [
       "Plot with title “Histogram of data$height”"
      ]
     },
     "metadata": {
      "image/png": {
       "height": 420,
       "width": 420
      }
     },
     "output_type": "display_data"
    }
   ],
   "source": [
    "data$height <- sqrt(data$weight/data$bmi)\n",
    "hist(data$height)"
   ]
  },
  {
   "cell_type": "markdown",
   "id": "2b45f6b8",
   "metadata": {},
   "source": [
    "#### 2.2.5 SBP"
   ]
  },
  {
   "cell_type": "code",
   "execution_count": 15,
   "id": "12d37d27",
   "metadata": {},
   "outputs": [
    {
     "data": {
      "image/png": "[encoded data removed]",
      "text/plain": [
       "Plot with title “Histogram of data$sbp”"
      ]
     },
     "metadata": {
      "image/png": {
       "height": 420,
       "width": 420
      }
     },
     "output_type": "display_data"
    }
   ],
   "source": [
    "columns <- as.vector(sapply(paste('p4080_i',0:2,\"_a\",sep=\"\"), paste, c(\"0\",\"1\"), sep=\"\"))\n",
    "data$sbp <- apply( data[,columns],1, FUN = function(x){\n",
    "  x <- na.omit(x)\n",
    "  if (length(x)>0){max(x)}else{return(NA)}\n",
    "})\n",
    "hist(data$sbp)"
   ]
  },
  {
   "cell_type": "markdown",
   "id": "dfb57146",
   "metadata": {},
   "source": [
    "#### 2.2.6 DBP"
   ]
  },
  {
   "cell_type": "code",
   "execution_count": 16,
   "id": "f712b951",
   "metadata": {},
   "outputs": [
    {
     "data": {
      "image/png": "[encoded data removed]",
      "text/plain": [
       "Plot with title “Histogram of data$dbp”"
      ]
     },
     "metadata": {
      "image/png": {
       "height": 420,
       "width": 420
      }
     },
     "output_type": "display_data"
    }
   ],
   "source": [
    "columns <- as.vector(sapply(paste('p4079_i',0:2,\"_a\",sep=\"\"), paste, c(\"0\",\"1\"), sep=\"\"))\n",
    "data$dbp <- apply( data[,columns],1, FUN = function(x){\n",
    "  x <- na.omit(x)\n",
    "  if (length(x)>0){max(x)}else{return(NA)}\n",
    "})\n",
    "hist(data$dbp)"
   ]
  },
  {
   "cell_type": "markdown",
   "id": "22dd2cdb",
   "metadata": {},
   "source": [
    "#### 2.2.7 HR"
   ]
  },
  {
   "cell_type": "code",
   "execution_count": 17,
   "id": "d42c3b2f",
   "metadata": {},
   "outputs": [
    {
     "data": {
      "image/png": "[encoded data removed]",
      "text/plain": [
       "Plot with title “Histogram of data$hr”"
      ]
     },
     "metadata": {
      "image/png": {
       "height": 420,
       "width": 420
      }
     },
     "output_type": "display_data"
    }
   ],
   "source": [
    "columns <- as.vector(sapply(paste('p102_i',0:2,\"_a\",sep=\"\"), paste, c(\"0\",\"1\"), sep=\"\"))\n",
    "data$hr <- apply( data[,columns],1, FUN = function(x){\n",
    "  x <- na.omit(x)\n",
    "  if (length(x)>0){max(x)}else{return(NA)}\n",
    "})\n",
    "hist(data$hr)"
   ]
  },
  {
   "cell_type": "markdown",
   "id": "89def5c6",
   "metadata": {},
   "source": [
    "### 2.3 Lifestyle\n",
    "#### 2.3.1  Alcohol frequency"
   ]
  },
  {
   "cell_type": "code",
   "execution_count": 18,
   "id": "0632a881",
   "metadata": {},
   "outputs": [
    {
     "data": {
      "text/plain": [
       "\n",
       "     Daily or almost daily                      Never \n",
       "                     92542                      36362 \n",
       "      Once or twice a week One to three times a month \n",
       "                    117102                      50534 \n",
       "      Prefer not to answer     Special occasions only \n",
       "                       526                      52180 \n",
       "Three or four times a week \n",
       "                    104979 "
      ]
     },
     "metadata": {},
     "output_type": "display_data"
    }
   ],
   "source": [
    "data$alcohol <- as.factor(data[,\"p1558_i0\"])\n",
    "data$alcohol <- removeLevels(data, \"alcohol\", c(\"\")) \n",
    "table(data$alcohol)"
   ]
  },
  {
   "cell_type": "markdown",
   "id": "fb7061c7",
   "metadata": {},
   "source": [
    "#### 2.3.2 Smoking status"
   ]
  },
  {
   "cell_type": "code",
   "execution_count": 19,
   "id": "0c3798e5",
   "metadata": {},
   "outputs": [
    {
     "data": {
      "text/plain": [
       "\n",
       "             Current                Never Prefer not to answer \n",
       "               47590               247643                 1853 \n",
       "            Previous \n",
       "              157141 "
      ]
     },
     "metadata": {},
     "output_type": "display_data"
    }
   ],
   "source": [
    "data$smoking <- as.factor(data[,\"p20116_i0\"])\n",
    "data$smoking <- removeLevels(data, \"smoking\", c(\"\")) \n",
    "table(data$smoking )"
   ]
  },
  {
   "cell_type": "markdown",
   "id": "2e456137",
   "metadata": {},
   "source": [
    "#### 2.3.3 Smoking Pack-year"
   ]
  },
  {
   "cell_type": "code",
   "execution_count": 20,
   "id": "895910dd",
   "metadata": {},
   "outputs": [
    {
     "data": {
      "image/png": "[encoded data removed]",
      "text/plain": [
       "Plot with title “Histogram of data$smoking_py”"
      ]
     },
     "metadata": {
      "image/png": {
       "height": 420,
       "width": 420
      }
     },
     "output_type": "display_data"
    }
   ],
   "source": [
    "data$smoking_py <- as.numeric(data[,\"p20161_i0\"])\n",
    "hist(data$smoking_py )"
   ]
  },
  {
   "cell_type": "markdown",
   "id": "c998ea9e",
   "metadata": {},
   "source": [
    "#### 2.3.4 Smoking time"
   ]
  },
  {
   "cell_type": "code",
   "execution_count": 21,
   "id": "591c52eb",
   "metadata": {},
   "outputs": [
    {
     "data": {
      "image/png": "[encoded data removed]",
      "text/plain": [
       "Plot with title “Histogram of data$smoking_time”"
      ]
     },
     "metadata": {
      "image/png": {
       "height": 420,
       "width": 420
      }
     },
     "output_type": "display_data"
    }
   ],
   "source": [
    "options(warn=-1)\n",
    "data$smoking_start <- apply(data[,paste(\"p3436_i\",0:3, sep=\"\")], 1 , FUN= function(x) {\n",
    "    x[x==\"\"] <- NA\n",
    "    x <- na.omit(x)\n",
    "    if(length(x)==0){\n",
    "        return(NA)\n",
    "    }else{\n",
    "        return(min(as.numeric(x)))\n",
    "    }     \n",
    "})\n",
    "data$smoking_quit <- apply(data[,paste(\"p6194_i\",0:3, sep=\"\")], 1 , FUN= function(x) {\n",
    "    x[x==\"\"] <- NA\n",
    "    x <- na.omit(x)\n",
    "    if(length(x)==0){\n",
    "        return(NA)\n",
    "    }else{\n",
    "        return(max(as.numeric(x)))\n",
    "    }     \n",
    "})\n",
    "options(warn=1)\n",
    "\n",
    "data$smoking_time <-  as.numeric(data$smoking_quit-data$smoking_start)\n",
    "hist(data$smoking_time)"
   ]
  },
  {
   "cell_type": "markdown",
   "id": "c8b583e8",
   "metadata": {},
   "source": [
    "#### 2.3.5  Physical Activity "
   ]
  },
  {
   "cell_type": "code",
   "execution_count": 31,
   "id": "8fbf3d37",
   "metadata": {},
   "outputs": [
    {
     "name": "stderr",
     "output_type": "stream",
     "text": [
      "Warning message in eval(expr, envir, enclos):\n",
      "“NAs introduced by coercion”\n",
      "Warning message in eval(expr, envir, enclos):\n",
      "“NAs introduced by coercion”\n"
     ]
    },
    {
     "data": {
      "image/png": "[encoded data removed]",
      "text/plain": [
       "Plot with title “Histogram of data$activity_computer”"
      ]
     },
     "metadata": {
      "image/png": {
       "height": 420,
       "width": 420
      }
     },
     "output_type": "display_data"
    },
    {
     "data": {
      "image/png": "[encoded data removed]",
      "text/plain": [
       "Plot with title “Histogram of data$activity_tv”"
      ]
     },
     "metadata": {
      "image/png": {
       "height": 420,
       "width": 420
      }
     },
     "output_type": "display_data"
    }
   ],
   "source": [
    "data$activity_computer <- as.numeric(data[,'p1080_i0'] )\n",
    "data$activity_tv       <- as.numeric(data[,'p1070_i0'] )\n",
    "hist(data$activity_computer)\n",
    "hist(data$activity_tv)"
   ]
  },
  {
   "cell_type": "markdown",
   "id": "ab011a6e",
   "metadata": {},
   "source": [
    "### 2.3.6 Diet"
   ]
  },
  {
   "cell_type": "code",
   "execution_count": 47,
   "id": "4e973dad",
   "metadata": {},
   "outputs": [],
   "source": [
    "data$diet_meat         <- data[,'p1349_i0']\n",
    "data$diet_oily_fish    <- data[,'p1329_i0']\n",
    "data$diet_nonoily_fish <- data[,'p1339_i0']\n",
    "data$diet_cooked_veg   <- data[,'p1289_i0']\n",
    "data$diet_raw_veg      <- data[,'p1299_i0']"
   ]
  },
  {
   "cell_type": "markdown",
   "id": "6658adca",
   "metadata": {},
   "source": [
    "### 2.4 Comorbidities"
   ]
  },
  {
   "cell_type": "markdown",
   "id": "2eef116b",
   "metadata": {},
   "source": [
    "#### 2.4.1  Comorbidities (ICD10 codes)"
   ]
  },
  {
   "cell_type": "markdown",
   "id": "0c67c148",
   "metadata": {},
   "source": [
    "The code below load the data.frame containing the set of ICD10 code for each co-morbidities variables.\n",
    "For each patient and each variable, it then looks if there is a matching ICD10 code. \n",
    "If there is the age columns at onset are retrieved from another set of UK Biobank fields.     "
   ]
  },
  {
   "cell_type": "code",
   "execution_count": 101,
   "id": "95189b80",
   "metadata": {},
   "outputs": [],
   "source": [
    "file_icd10 <- read.csv(\"tables/morbidities_final.csv\")\n",
    "### Find if ECD10 coded and earliest age \n",
    "getEarliestEventAndDate <- function(data_input, icd10_codes){  \n",
    "    ## provide ICD10\n",
    "    icd10_codes_regex <- paste(\"^.*(\", gsub(\".\",\"\\\\.\",paste(icd10_codes,collapse=\"|\"), fixed=T), \").*$\",sep=\"\")\n",
    "    ## Find which one match\n",
    "    data_input$has_event <- apply( data_input[,c('p41270','p41202','p41204')], 1, FUN = function(x){\n",
    "        newX <- paste(x, collapse= \" |--> \")\n",
    "        return(ifelse(grepl(icd10_codes_regex, newX),1,0))\n",
    "    })\n",
    "    data_input[ data_input$has_event==1, \"age_earliest_event\"] <- apply(data_input[ data_input$has_event==1,c('p41270','p41202',\n",
    "                        \"dob\",\n",
    "                        paste(\"p41280_a\",c(0:180), sep=\"\"),\n",
    "                        paste(\"p41262_a\",c(0:74), sep=\"\"))],1, FUN=function(x){ \n",
    "                                vect1 <- strsplit(as.character(x[1]), \"\\\\|\")\n",
    "                                datesFields1 <- x[4:180+4]\n",
    "                                dates1 <- datesFields1[unlist(sapply(vect1, FUN = function(y) { grep(icd10_codes_regex,y) }))]\n",
    "                                dx_dates1 <- unlist(sapply(dates1, as.Date, origin=\"1970-01-01\"))\n",
    "\n",
    "                                vect2 <- strsplit(as.character(x[2]), \"\\\\|\")\n",
    "                                datesFields2 <- x[180+5:length(x)]\n",
    "                                dates2 <- datesFields2[unlist(sapply(vect2, FUN = function(y2) { grep(icd10_codes_regex,y2) }))]\n",
    "                                dx_dates2 <- unlist(sapply(dates2, as.Date, origin=\"1970-01-01\"))\n",
    "\n",
    "                                allDates <- na.omit(c(dx_dates1,dx_dates2))\n",
    "                                if(length(allDates)>0){\n",
    "                                    minDate <- min(allDates)\n",
    "                                    if (is.null(minDate) | is.na(minDate) | is.infinite(minDate)){\n",
    "                                        return(NA)\n",
    "                                    }else{\n",
    "                                        return(as.numeric(format(as.Date(minDate, origin=\"1970-01-01\"),\"%Y\")) - as.numeric(x[3]) )\n",
    "                                    }\n",
    "                                }else{\n",
    "                                  return(NA)   \n",
    "                                }\n",
    "    })\n",
    "    return(data_input[,c(\"has_event\",\"age_earliest_event\")])\n",
    "}"
   ]
  },
  {
   "cell_type": "code",
   "execution_count": 39,
   "id": "b47937e8",
   "metadata": {},
   "outputs": [
    {
     "name": "stderr",
     "output_type": "stream",
     "text": [
      "starting cvd\n",
      "\n",
      "cvd ready\n",
      "\n",
      "starting ascvd\n",
      "\n",
      "ascvd ready\n",
      "\n",
      "starting lipid_storage_disorder\n",
      "\n",
      "lipid_storage_disorder ready\n",
      "\n",
      "starting psoriasis\n",
      "\n",
      "psoriasis ready\n",
      "\n"
     ]
    }
   ],
   "source": [
    "for ( disease in colnames(file_icd10)[! colnames(file_icd10) %in% c(\"Code\", \"Disease\")]) {\n",
    "    message(paste(\"starting \", disease, sep=\"\"))\n",
    "    icd10_filtered                    <- getEarliestEventAndDate(data, file_icd10[file_icd10[,disease]==1,\"Code\"])\n",
    "    data[, paste(disease, \"_dx\",sep=\"\")]     <- icd10_filtered$has_event\n",
    "    data[, paste(disease, \"_dx\",sep=\"\")]     <- recode_factor(data[, paste(disease, \"_dx\",sep=\"\")], \"0\"=\"no\",\"1\"=\"yes\")\n",
    "    data[, paste(disease, \"_age\",sep=\"\")]    <- icd10_filtered $age_earliest_event\n",
    "    message(paste(disease, \" ready\",sep=\"\"))\n",
    "}"
   ]
  },
  {
   "cell_type": "markdown",
   "id": "1a2cab1e",
   "metadata": {},
   "source": [
    "### 2.5 Operations"
   ]
  },
  {
   "cell_type": "markdown",
   "id": "c45a5f0e",
   "metadata": {},
   "source": [
    "#### 2.5.1  Operations (OPSC4 codes)"
   ]
  },
  {
   "cell_type": "code",
   "execution_count": 40,
   "id": "eb97349a",
   "metadata": {},
   "outputs": [],
   "source": [
    "file_opsc4 <- read.csv(\"tables/operations_final.csv\")\n",
    "getOPSC4   <- function(data_input, opsc4_codes){\n",
    "    opsc4_codes_regex <- paste(\"^.*(\", paste(opsc4_codes,collapse=\"|\"), \").*$\",sep=\"\")\n",
    "    ## Find which one match\n",
    "    return(apply( data_input[,c('p41272','p41200','p41210')], 1, FUN = function(x){\n",
    "        newX <- paste(x, collapse= \" |--> \")\n",
    "        return(ifelse(grepl(opsc4_codes_regex, newX),1,0))\n",
    "    }))\n",
    "}"
   ]
  },
  {
   "cell_type": "code",
   "execution_count": 41,
   "id": "cab51b7e",
   "metadata": {},
   "outputs": [
    {
     "name": "stderr",
     "output_type": "stream",
     "text": [
      "starting heart_percutaneous_procedures\n",
      "\n",
      "heart_percutaneous_procedures ready\n",
      "\n",
      "starting arteries_op\n",
      "\n",
      "arteries_op ready\n",
      "\n",
      "starting arteries_percutaneous_procedures\n",
      "\n",
      "arteries_percutaneous_procedures ready\n",
      "\n",
      "starting vein_op\n",
      "\n",
      "vein_op ready\n",
      "\n"
     ]
    }
   ],
   "source": [
    "for ( operation in colnames(file_opsc4)[! colnames(file_opsc4) %in% c(\"Full.Name\", \"Code\")][2:5]) {\n",
    "    message(paste(\"starting \", operation, sep=\"\"))\n",
    "    data[, operation ]    <- getOPSC4(data, file_opsc4[file_opsc4[,operation]==1,\"Code\"])\n",
    "    data[, operation ]    <- recode_factor(data[, operation ], \"0\"=\"no\",\"1\"=\"yes\")\n",
    "    message(paste(operation, \" ready\",sep=\"\"))\n",
    "}"
   ]
  },
  {
   "cell_type": "markdown",
   "id": "ddbc3e44",
   "metadata": {},
   "source": [
    "### 2.6 Imaging test"
   ]
  },
  {
   "cell_type": "markdown",
   "id": "dc82f5ac",
   "metadata": {},
   "source": [
    "#### 2.6.1 Carotid IMT"
   ]
  },
  {
   "cell_type": "code",
   "execution_count": 42,
   "id": "55e8de72",
   "metadata": {},
   "outputs": [],
   "source": [
    "data$us_carotid_left_img1 <- data[,c(\"p20222_i2\")]\n",
    "data$us_carotid_left_img2 <- data[,c(\"p20222_i3\")]\n",
    "\n",
    "data$us_carotid_right_img1 <- data[,c(\"p20223_i2\")]\n",
    "data$us_carotid_right_img2 <- data[,c(\"p20223_i3\")]"
   ]
  },
  {
   "cell_type": "code",
   "execution_count": 43,
   "id": "336b6bd7",
   "metadata": {},
   "outputs": [],
   "source": [
    "maxIMT <- function(x) { \n",
    "    x <- as.numeric(x)\n",
    "    if(sum(is.na(x)) == 2 )\n",
    "        return(NA)\n",
    "    else\n",
    "        return (max(x, na.rm=T)) \n",
    "}\n",
    "options(warn=-1)\n",
    "data$uscar_imt_120_max <- apply(data[,c(\"p22671_i2\",\"p22671_i3\")], 1, FUN= maxIMT)\n",
    "data$uscar_imt_150_max <- apply(data[,c(\"p22674_i2\",\"p22674_i3\")], 1, FUN= maxIMT)\n",
    "data$uscar_imt_210_max <- apply(data[,c(\"p22677_i2\",\"p22677_i3\")], 1, FUN= maxIMT)\n",
    "data$uscar_imt_240_max <- apply(data[,c(\"p22680_i2\",\"p22680_i3\")], 1, FUN= maxIMT)\n",
    "options(warn=1)"
   ]
  },
  {
   "cell_type": "markdown",
   "id": "9300abc6",
   "metadata": {},
   "source": [
    "#### 2.6.2  Arterial Stifness Index"
   ]
  },
  {
   "cell_type": "code",
   "execution_count": 44,
   "id": "a8ac1e3a",
   "metadata": {},
   "outputs": [],
   "source": [
    "maxIMT <- function(x) { \n",
    "    x <- as.numeric(x)\n",
    "    if(sum(is.na(x)) == 4 )\n",
    "        return(NA)\n",
    "    else\n",
    "        return (max(x, na.rm=T)) \n",
    "}\n",
    "\n",
    "data$max_art_stiffness <- apply(data[,c(\"p21021_i0\", \"p21021_i1\", \"p21021_i2\", \"p21021_i3\")], 1, FUN = maxIMT)"
   ]
  },
  {
   "cell_type": "markdown",
   "id": "28a044ce",
   "metadata": {},
   "source": [
    "#### 2.6.3  ECG"
   ]
  },
  {
   "cell_type": "code",
   "execution_count": 45,
   "id": "4c8b23f7",
   "metadata": {},
   "outputs": [],
   "source": [
    "data$ecg_dataset1 <- data[, 'p20205_i2'] \n",
    "data$ecg_dataset2 <- data[, 'p20205_i3'] "
   ]
  },
  {
   "cell_type": "markdown",
   "id": "3895971a",
   "metadata": {},
   "source": [
    "#### 2.6.4 MRI"
   ]
  },
  {
   "cell_type": "code",
   "execution_count": 46,
   "id": "e60552e0",
   "metadata": {},
   "outputs": [],
   "source": [
    "data$mri_scout_img1 <- data[,'p20207_i2']\n",
    "data$mri_scout_img2 <- data[,'p20207_i3']\n",
    "\n",
    "data$mri_short_axis_img1 <- data[,'p20209_i2' ]\n",
    "data$mri_short_axis_img2 <- data[,'p20209_i3']\n",
    "\n",
    "data$mri_lv_out_img1 <- data[,'p20212_i3' ]\n",
    "data$mri_lv_out_img2 <- data[,'p20212_i2']\n",
    "\n",
    "data$mri_long_axis_img1 <- data[,'p20208_i2']\n",
    "data$mri_long_axis_img2 <- data[,'p20208_i3' ]"
   ]
  },
  {
   "cell_type": "markdown",
   "id": "fb3e0ea2",
   "metadata": {},
   "source": [
    "### 2.7 Family History"
   ]
  },
  {
   "cell_type": "code",
   "execution_count": 48,
   "id": "0e53e9c5",
   "metadata": {},
   "outputs": [],
   "source": [
    "# These seem a little off! \n",
    "relevant_columns <- c(paste(\"p20107_i\",0:3, sep=\"\"),\n",
    "                      paste(\"p20110_i\",0:3, sep=\"\"),\n",
    "                      paste(\"p20111_i\",0:3, sep=\"\"))"
   ]
  },
  {
   "cell_type": "markdown",
   "id": "a1d8828f",
   "metadata": {},
   "source": [
    "#### 2.7.1 Family history of ischaemic heart disease and other diseases of the circulatory system"
   ]
  },
  {
   "cell_type": "code",
   "execution_count": 49,
   "id": "d23be927",
   "metadata": {},
   "outputs": [
    {
     "data": {
      "text/plain": [
       "\n",
       "    no    yes \n",
       "254154 200556 "
      ]
     },
     "metadata": {},
     "output_type": "display_data"
    },
    {
     "data": {
      "text/plain": [
       "\n",
       "    no    yes \n",
       "432082  22628 "
      ]
     },
     "metadata": {},
     "output_type": "display_data"
    }
   ],
   "source": [
    "data$famh_hd_sa <- apply( data[,relevant_columns], 1, FUN = function(x){\n",
    "    ifelse(sum(grepl(\"Heart disease\", x))>=1,1,0)\n",
    "})\n",
    "data$famh_hd_sa    <- recode_factor(data$famh_hd_sa, \"0\"=\"no\",\"1\"=\"yes\")\n",
    "table(data$famh_hd_sa)\n",
    "\n",
    "icd10_fmh_cad <- getEarliestEventAndDate(data, c(paste(\"Z\", c(\"82.4\"), sep=\"\")))\n",
    "data$famh_cad <- icd10_fmh_cad$has_event\n",
    "data$famh_cad <- recode_factor(data$famh_cad, \"0\"=\"no\",\"1\"=\"yes\")\n",
    "table(data$famh_cad)"
   ]
  },
  {
   "cell_type": "markdown",
   "id": "fad81279",
   "metadata": {},
   "source": [
    "#### 2.7.2 Family history of hypercholesterolemia"
   ]
  },
  {
   "cell_type": "code",
   "execution_count": 121,
   "id": "d2b03594",
   "metadata": {},
   "outputs": [],
   "source": [
    "icd10_fmh_cad <- getEarliestEventAndDate(data, c(paste(\"Z\", c(\"83\\\\.43\"), sep=\"\")))\n",
    "sum(icd10_fmh_cad$has_event==1)\n",
    "# no patient found with this code!!!"
   ]
  },
  {
   "cell_type": "markdown",
   "id": "4be83d62",
   "metadata": {},
   "source": [
    "#### 2.7.2 Family history of stroke"
   ]
  },
  {
   "cell_type": "code",
   "execution_count": 50,
   "id": "00f3da28",
   "metadata": {},
   "outputs": [
    {
     "data": {
      "text/plain": [
       "\n",
       "    no    yes \n",
       "331199 123511 "
      ]
     },
     "metadata": {},
     "output_type": "display_data"
    },
    {
     "data": {
      "text/plain": [
       "\n",
       "    no    yes \n",
       "453496   1214 "
      ]
     },
     "metadata": {},
     "output_type": "display_data"
    }
   ],
   "source": [
    "data$famh_stroke_sa <- apply( data[,relevant_columns], 1, FUN = function(x){\n",
    "    ifelse(sum(grepl(\"Stroke\", x))>=1,1,0)\n",
    "})\n",
    "data$famh_stroke_sa <- recode_factor(data$famh_stroke_sa, \"0\"=\"no\",\"1\"=\"yes\")\n",
    "table(data$famh_stroke_sa)\n",
    "\n",
    "icd10_fmh_stroke <- getEarliestEventAndDate(data, c(paste(\"Z\", c(\"82.3\"), sep=\"\")))\n",
    "data$famh_stroke <- icd10_fmh_stroke$has_event\n",
    "data$famh_stroke <- recode_factor(data$famh_stroke, \"0\"=\"no\",\"1\"=\"yes\")\n",
    "table(data$famh_stroke)"
   ]
  },
  {
   "cell_type": "markdown",
   "id": "04c5234b",
   "metadata": {},
   "source": [
    "#### 2.7.3 Family history of Diabetes Melitus"
   ]
  },
  {
   "cell_type": "code",
   "execution_count": 51,
   "id": "4dc4a368",
   "metadata": {},
   "outputs": [
    {
     "data": {
      "text/plain": [
       "\n",
       "    no    yes \n",
       "353740 100970 "
      ]
     },
     "metadata": {},
     "output_type": "display_data"
    },
    {
     "data": {
      "text/plain": [
       "\n",
       "    no    yes \n",
       "453906    804 "
      ]
     },
     "metadata": {},
     "output_type": "display_data"
    }
   ],
   "source": [
    "data$famh_dm_sa <- apply( data[,relevant_columns], 1, FUN = function(x){\n",
    "    ifelse(sum(grepl(\"Diabetes\", x))>=1,1,0)\n",
    "})\n",
    "data$famh_dm_sa <- recode_factor(data$famh_dm_sa, \"0\"=\"no\",\"1\"=\"yes\")\n",
    "table(data$famh_dm_sa)\n",
    "\n",
    "icd10_fmh_dm <- getEarliestEventAndDate(data, c(paste(\"Z\", c(\"83.3\"), sep=\"\")))\n",
    "data$famh_dm <- icd10_fmh_dm$has_event\n",
    "data$famh_dm <- recode_factor(data$famh_dm, \"0\"=\"no\",\"1\"=\"yes\")\n",
    "table(data$famh_dm)"
   ]
  },
  {
   "cell_type": "markdown",
   "id": "c60b1a2b",
   "metadata": {},
   "source": [
    "#### 2.7.4 High blood pressure"
   ]
  },
  {
   "cell_type": "code",
   "execution_count": 52,
   "id": "374df037",
   "metadata": {},
   "outputs": [
    {
     "data": {
      "text/plain": [
       "\n",
       "    no    yes \n",
       "232294 222416 "
      ]
     },
     "metadata": {},
     "output_type": "display_data"
    }
   ],
   "source": [
    "data$famh_ht_sa <- apply( data[,relevant_columns], 1, FUN = function(x){\n",
    "    ifelse(sum(grepl(\"High blood pressure\", x))>=1,1,0)\n",
    "})\n",
    "data$famh_ht_sa <- recode_factor(data$famh_ht_sa, \"0\"=\"no\",\"1\"=\"yes\")\n",
    "\n",
    "table(data$famh_ht_sa)"
   ]
  },
  {
   "cell_type": "markdown",
   "id": "1c97d5c1",
   "metadata": {},
   "source": [
    "#### 2.7.5 Cancer"
   ]
  },
  {
   "cell_type": "code",
   "execution_count": 53,
   "id": "9b0cf499",
   "metadata": {},
   "outputs": [
    {
     "data": {
      "text/plain": [
       "\n",
       "    no    yes \n",
       "292124 162586 "
      ]
     },
     "metadata": {},
     "output_type": "display_data"
    },
    {
     "data": {
      "text/plain": [
       "\n",
       "    no    yes \n",
       "437268  17442 "
      ]
     },
     "metadata": {},
     "output_type": "display_data"
    }
   ],
   "source": [
    "data$famh_cancer_sa <- apply( data[,relevant_columns], 1, FUN = function(x){\n",
    "    ifelse(sum(grepl(\"cancer\", x))>=1,1,0)\n",
    "})\n",
    "data$famh_cancer_sa <- recode_factor(data$famh_cancer_sa, \"0\"=\"no\",\"1\"=\"yes\")\n",
    "table(data$famh_cancer_sa)\n",
    "\n",
    "icd10_fmh_neoplasm <- getEarliestEventAndDate(data, c(paste(\"Z\", c(\"80\"), sep=\"\")))\n",
    "data$famh_cancer   <- icd10_fmh_neoplasm$has_event\n",
    "data$famh_cancer   <- recode_factor(data$famh_cancer, \"0\"=\"no\",\"1\"=\"yes\")\n",
    "table(data$famh_cancer)"
   ]
  },
  {
   "cell_type": "markdown",
   "id": "837e900d",
   "metadata": {},
   "source": [
    "#### 2.7.6 Overall  Death non-accidental"
   ]
  },
  {
   "cell_type": "code",
   "execution_count": 54,
   "id": "44202f16",
   "metadata": {},
   "outputs": [
    {
     "data": {
      "text/plain": [
       "\n",
       "    no    yes \n",
       "402416  52294 "
      ]
     },
     "metadata": {},
     "output_type": "display_data"
    }
   ],
   "source": [
    "relevant_columns <- paste('p4501_i',0:3, sep=\"\")\n",
    "data$famh_death_sa <- apply( data[,relevant_columns], 1, FUN = function(x){\n",
    "    ifelse(sum(grepl(\"Yes\", x))>=1,1,0)\n",
    "})\n",
    "data$famh_death_sa <- recode_factor(data$famh_death_sa, \"0\"=\"no\",\"1\"=\"yes\")\n",
    "table(data$famh_death_sa)"
   ]
  },
  {
   "cell_type": "markdown",
   "id": "047a905c",
   "metadata": {},
   "source": [
    "#### 2.8 Lab measurements"
   ]
  },
  {
   "cell_type": "code",
   "execution_count": 55,
   "id": "d3af1a53",
   "metadata": {},
   "outputs": [],
   "source": [
    "labs <- read.csv(\"tables/labs.csv\")"
   ]
  },
  {
   "cell_type": "code",
   "execution_count": 56,
   "id": "72dbe7e2",
   "metadata": {},
   "outputs": [],
   "source": [
    "for(i in 1:nrow(labs)){\n",
    "    data[,labs[i,\"field\"]] <- apply(data[,paste(labs[i,\"code\"],0:1, sep=\"\")], 1 , FUN= function(x) {\n",
    "    x[x==\"\"] <- NA\n",
    "    x <- na.omit(x)\n",
    "    if(length(x)==0){\n",
    "        return(NA)\n",
    "    }else{\n",
    "        return(max(as.numeric(x)))\n",
    "    }     \n",
    "})\n",
    "}"
   ]
  },
  {
   "cell_type": "code",
   "execution_count": 57,
   "id": "c0da940b",
   "metadata": {},
   "outputs": [
    {
     "data": {
      "text/plain": [
       "\n",
       "     0      1 \n",
       "294941  53667 "
      ]
     },
     "metadata": {},
     "output_type": "display_data"
    }
   ],
   "source": [
    "data$ldl_fw  <- (data %>% mutate(ldl_fw = tc-hdl-tg/2.2))$ldl_fw\n",
    "data$nonhdl  <- data$tc - data$hdl\n",
    "data$lpa_cat <- as.factor(ifelse( data$lpa > 105, 1, 0 ) )\n",
    "table(data$lpa_cat )"
   ]
  },
  {
   "cell_type": "markdown",
   "id": "9ff9cc6a",
   "metadata": {},
   "source": [
    "### 2.8 Medications"
   ]
  },
  {
   "cell_type": "code",
   "execution_count": 60,
   "id": "6a868c13",
   "metadata": {},
   "outputs": [],
   "source": [
    "meds <- read.csv(\"tables/medications_final.csv\")"
   ]
  },
  {
   "cell_type": "code",
   "execution_count": 61,
   "id": "78710c85",
   "metadata": {},
   "outputs": [],
   "source": [
    "columns <- paste(\"p20003_i\",0:3, sep=\"\")\n",
    "getMedications <- function(data, med_names){\n",
    "    apply( data, 1, FUN = function(x){\n",
    "        x[x==\"\"]<-NA\n",
    "        x <- na.omit(x)\n",
    "        collapsed <- paste(x, collapse=\"|\")\n",
    "        vect2 <- unlist(strsplit(collapsed, \"\\\\|\"))\n",
    "        ifelse(any(vect2 %in% med_names),1,0)\n",
    "    })\n",
    "}"
   ]
  },
  {
   "cell_type": "code",
   "execution_count": 62,
   "id": "4e40dc94",
   "metadata": {},
   "outputs": [],
   "source": [
    "for ( med_name in colnames(meds)[! colnames(meds) %in% c(\"Category\",\"Count\",\"ATC\")]) {\n",
    "    data[,med_name] <- getMedications(data[,columns],meds[meds[,med_name]!=\"\",\"Category\"])\n",
    "    data[,med_name] <- as.factor(data[,med_name])\n",
    "}"
   ]
  },
  {
   "cell_type": "markdown",
   "id": "beee8f81",
   "metadata": {},
   "source": [
    "## 3. Finalise And Save Dataset\n",
    "\n",
    "We merge the phenotype dataset with the outcome and save the dataset containing the new columns "
   ]
  },
  {
   "cell_type": "code",
   "execution_count": 64,
   "id": "cf4b2141",
   "metadata": {},
   "outputs": [],
   "source": [
    "prepared_dataset <- merge(data, outcome, by=\"eid\")\n",
    "saveRDS(prepared_dataset, \"prepared_dataset.rds\")"
   ]
  },
  {
   "cell_type": "code",
   "execution_count": 67,
   "id": "dd2da034",
   "metadata": {},
   "outputs": [
    {
     "data": {
      "text/html": [
       "<style>\n",
       ".list-inline {list-style: none; margin:0; padding: 0}\n",
       ".list-inline>li {display: inline-block}\n",
       ".list-inline>li:not(:last-child)::after {content: \"\\00b7\"; padding: 0 .5ex}\n",
       "</style>\n",
       "<ol class=list-inline><li>'eid'</li><li>'p1647_i0'</li><li>'p31'</li><li>'p21000_i0'</li><li>'p52'</li><li>'p34'</li><li>'p20277_i0'</li><li>'p20277_i1'</li><li>'p20277_i2'</li><li>'p20277_i3'</li><li>'p6138_i0'</li><li>'p6138_i1'</li><li>'p6138_i2'</li><li>'p6138_i3'</li><li>'p1807_i0'</li><li>'p1807_i1'</li><li>'p1807_i2'</li><li>'p1807_i3'</li><li>'p20107_i0'</li><li>'p20107_i1'</li><li>'p20107_i2'</li><li>'p20107_i3'</li><li>'p6141_i0'</li><li>'p20110_i0'</li><li>'p20110_i1'</li><li>'p20110_i2'</li><li>'p20110_i3'</li><li>'p3526_i0'</li><li>'p3526_i1'</li><li>'p3526_i2'</li><li>'p3526_i3'</li><li>'p5057_i0'</li><li>'p20111_i0'</li><li>'p20111_i1'</li><li>'p20111_i2'</li><li>'p20111_i3'</li><li>'p4501_i0'</li><li>'p4501_i1'</li><li>'p4501_i2'</li><li>'p4501_i3'</li><li>'p4056_i0'</li><li>'p42006'</li><li>'p42008'</li><li>'p42010'</li><li>'p42012'</li><li>'p5529_i0'</li><li>'p5529_i1'</li><li>'p5529_i2'</li><li>'p5529_i3'</li><li>'p41270'</li><li>'p41280_a0'</li><li>'p41280_a1'</li><li>'p41280_a2'</li><li>'p41280_a3'</li><li>'p41280_a4'</li><li>'p41280_a5'</li><li>'p41280_a6'</li><li>'p41280_a7'</li><li>'p41280_a8'</li><li>'p41280_a9'</li><li>'p41280_a10'</li><li>'p41280_a11'</li><li>'p41280_a12'</li><li>'p41280_a13'</li><li>'p41280_a14'</li><li>'p41280_a15'</li><li>'p41280_a16'</li><li>'p41280_a17'</li><li>'p41280_a18'</li><li>'p41280_a19'</li><li>'p41280_a20'</li><li>'p41280_a21'</li><li>'p41280_a22'</li><li>'p41280_a23'</li><li>'p41280_a24'</li><li>'p41280_a25'</li><li>'p41280_a26'</li><li>'p41280_a27'</li><li>'p41280_a28'</li><li>'p41280_a29'</li><li>'p41280_a30'</li><li>'p41280_a31'</li><li>'p41280_a32'</li><li>'p41280_a33'</li><li>'p41280_a34'</li><li>'p41280_a35'</li><li>'p41280_a36'</li><li>'p41280_a37'</li><li>'p41280_a38'</li><li>'p41280_a39'</li><li>'p41280_a40'</li><li>'p41280_a41'</li><li>'p41280_a42'</li><li>'p41280_a43'</li><li>'p41280_a44'</li><li>'p41280_a45'</li><li>'p41280_a46'</li><li>'p41280_a47'</li><li>'p41280_a48'</li><li>'p41280_a49'</li><li>'p41280_a50'</li><li>'p41280_a51'</li><li>'p41280_a52'</li><li>'p41280_a53'</li><li>'p41280_a54'</li><li>'p41280_a55'</li><li>'p41280_a56'</li><li>'p41280_a57'</li><li>'p41280_a58'</li><li>'p41280_a59'</li><li>'p41280_a60'</li><li>'p41280_a61'</li><li>'p41280_a62'</li><li>'p41280_a63'</li><li>'p41280_a64'</li><li>'p41280_a65'</li><li>'p41280_a66'</li><li>'p41280_a67'</li><li>'p41280_a68'</li><li>'p41280_a69'</li><li>'p41280_a70'</li><li>'p41280_a71'</li><li>'p41280_a72'</li><li>'p41280_a73'</li><li>'p41280_a74'</li><li>'p41280_a75'</li><li>'p41280_a76'</li><li>'p41280_a77'</li><li>'p41280_a78'</li><li>'p41280_a79'</li><li>'p41280_a80'</li><li>'p41280_a81'</li><li>'p41280_a82'</li><li>'p41280_a83'</li><li>'p41280_a84'</li><li>'p41280_a85'</li><li>'p41280_a86'</li><li>'p41280_a87'</li><li>'p41280_a88'</li><li>'p41280_a89'</li><li>'p41280_a90'</li><li>'p41280_a91'</li><li>'p41280_a92'</li><li>'p41280_a93'</li><li>'p41280_a94'</li><li>'p41280_a95'</li><li>'p41280_a96'</li><li>'p41280_a97'</li><li>'p41280_a98'</li><li>'p41280_a99'</li><li>'p41280_a100'</li><li>'p41280_a101'</li><li>'p41280_a102'</li><li>'p41280_a103'</li><li>'p41280_a104'</li><li>'p41280_a105'</li><li>'p41280_a106'</li><li>'p41280_a107'</li><li>'p41280_a108'</li><li>'p41280_a109'</li><li>'p41280_a110'</li><li>'p41280_a111'</li><li>'p41280_a112'</li><li>'p41280_a113'</li><li>'p41280_a114'</li><li>'p41280_a115'</li><li>'p41280_a116'</li><li>'p41280_a117'</li><li>'p41280_a118'</li><li>'p41280_a119'</li><li>'p41280_a120'</li><li>'p41280_a121'</li><li>'p41280_a122'</li><li>'p41280_a123'</li><li>'p41280_a124'</li><li>'p41280_a125'</li><li>'p41280_a126'</li><li>'p41280_a127'</li><li>'p41280_a128'</li><li>'p41280_a129'</li><li>'p41280_a130'</li><li>'p41280_a131'</li><li>'p41280_a132'</li><li>'p41280_a133'</li><li>'p41280_a134'</li><li>'p41280_a135'</li><li>'p41280_a136'</li><li>'p41280_a137'</li><li>'p41280_a138'</li><li>'p41280_a139'</li><li>'p41280_a140'</li><li>'p41280_a141'</li><li>'p41280_a142'</li><li>'p41280_a143'</li><li>'p41280_a144'</li><li>'p41280_a145'</li><li>'p41280_a146'</li><li>'p41280_a147'</li><li>'p41280_a148'</li><li>'p41280_a149'</li><li>⋯</li><li>'p1070_i0'</li><li>'p1070_i1'</li><li>'p1070_i2'</li><li>'p1070_i3'</li><li>'p1349_i0'</li><li>'p1349_i1'</li><li>'p1349_i2'</li><li>'p1349_i3'</li><li>'p1329_i0'</li><li>'p1329_i1'</li><li>'p1329_i2'</li><li>'p1329_i3'</li><li>'p1339_i0'</li><li>'p1339_i1'</li><li>'p1339_i2'</li><li>'p1339_i3'</li><li>'p1289_i0'</li><li>'p1289_i1'</li><li>'p1289_i2'</li><li>'p1289_i3'</li><li>'p1299_i0'</li><li>'p1299_i1'</li><li>'p1299_i2'</li><li>'p1299_i3'</li><li>'p20207_i2'</li><li>'p20207_i3'</li><li>'p20209_i2'</li><li>'p20209_i3'</li><li>'p20212_i3'</li><li>'p20212_i2'</li><li>'p20208_i2'</li><li>'p20208_i3'</li><li>'p12292_i2'</li><li>'p22671_i2'</li><li>'p22671_i3'</li><li>'p22674_i2'</li><li>'p22674_i3'</li><li>'p22677_i2'</li><li>'p22677_i3'</li><li>'p22680_i2'</li><li>'p22680_i3'</li><li>'gender'</li><li>'country'</li><li>'ethnicity'</li><li>'occupation'</li><li>'education'</li><li>'education_tmp'</li><li>'dob'</li><li>'age'</li><li>'waist'</li><li>'weight'</li><li>'bmi'</li><li>'bmi_cat'</li><li>'height'</li><li>'sbp'</li><li>'dbp'</li><li>'hr'</li><li>'alcohol'</li><li>'smoking'</li><li>'smoking_py'</li><li>'smoking_start'</li><li>'smoking_quit'</li><li>'smoking_time'</li><li>'activity_computer'</li><li>'activity_tv'</li><li>'diabetes2_dx'</li><li>'diabetes2_age'</li><li>'diabetesAny_dx'</li><li>'diabetesAny_age'</li><li>'liver_dx'</li><li>'liver_age'</li><li>'renal_dx'</li><li>'renal_age'</li><li>'pure_hyperchol_dx'</li><li>'pure_hyperchol_age'</li><li>'ht_dx'</li><li>'ht_age'</li><li>'ht_heart_dx'</li><li>'ht_heart_age'</li><li>'ht_renal_dx'</li><li>'ht_renal_age'</li><li>'mi_dx'</li><li>'mi_age'</li><li>'angina_dx'</li><li>'angina_age'</li><li>'cad_dx'</li><li>'cad_age'</li><li>'aneurism_dx'</li><li>'aneurism_age'</li><li>'pad_dx'</li><li>'pad_age'</li><li>'cardiac_arrest_dx'</li><li>'cardiac_arrest_age'</li><li>'hf_dx'</li><li>'hf_age'</li><li>'stroke_dx'</li><li>'stroke_age'</li><li>'cbvd_dx'</li><li>'cbvd_age'</li><li>'cvd_dx'</li><li>'cvd_age'</li><li>'ascvd_dx'</li><li>'ascvd_age'</li><li>'lipid_storage_disorder_dx'</li><li>'lipid_storage_disorder_age'</li><li>'psoriasis_dx'</li><li>'psoriasis_age'</li><li>'heart_percutaneous_procedures'</li><li>'arteries_op'</li><li>'arteries_percutaneous_procedures'</li><li>'vein_op'</li><li>'us_carotid_left_img1'</li><li>'us_carotid_left_img2'</li><li>'us_carotid_right_img1'</li><li>'us_carotid_right_img2'</li><li>'uscar_imt_120_max'</li><li>'uscar_imt_150_max'</li><li>'uscar_imt_210_max'</li><li>'uscar_imt_240_max'</li><li>'max_art_stiffness'</li><li>'ecg_dataset1'</li><li>'ecg_dataset2'</li><li>'mri_scout_img1'</li><li>'mri_scout_img2'</li><li>'mri_short_axis_img1'</li><li>'mri_short_axis_img2'</li><li>'mri_lv_out_img1'</li><li>'mri_lv_out_img2'</li><li>'mri_long_axis_img1'</li><li>'mri_long_axis_img2'</li><li>'diet_meat'</li><li>'diet_oily_fish'</li><li>'diet_nonoily_fish'</li><li>'diet_cooked_veg'</li><li>'diet_raw_veg'</li><li>'famh_hd_sa'</li><li>'famh_cad'</li><li>'famh_stroke_sa'</li><li>'famh_stroke'</li><li>'famh_dm_sa'</li><li>'famh_dm'</li><li>'famh_ht_sa'</li><li>'famh_cancer_sa'</li><li>'famh_cancer'</li><li>'famh_death_sa'</li><li>'tc'</li><li>'ldl'</li><li>'hdl'</li><li>'tg'</li><li>'apoa'</li><li>'apob'</li><li>'lpa'</li><li>'crp'</li><li>'gluc'</li><li>'hba1c'</li><li>'ast'</li><li>'alt'</li><li>'ggt'</li><li>'bili_total'</li><li>'bili_direct'</li><li>'creat'</li><li>'microalb'</li><li>'ldl_fw'</li><li>'nonhdl'</li><li>'lpa_cat'</li><li>'ATC_A'</li><li>'ATC_B'</li><li>'ATC_C'</li><li>'ATC_D'</li><li>'ATC_G'</li><li>'ATC_H'</li><li>'ATC_J'</li><li>'ATC_L'</li><li>'ATC_M'</li><li>'ATC_P'</li><li>'ATC_R'</li><li>'ATC_S'</li><li>'ATC_V'</li><li>'statin'</li><li>'ezetimibe'</li><li>'pcsk9'</li><li>'fibrate'</li><li>'bas'</li><li>'niacin'</li><li>'n3fa'</li><li>'glm'</li><li>'insulin'</li><li>'arb'</li><li>'anticoag'</li><li>'diuretic'</li><li>'ccb'</li><li>'bb'</li><li>'antiplatelet'</li><li>'acei'</li><li>'thr'</li><li>'anti_ht'</li><li>'LDLR'</li><li>'APOB'</li><li>'PCSK9'</li><li>'ANY'</li></ol>\n"
      ],
      "text/latex": [
       "\\begin{enumerate*}\n",
       "\\item 'eid'\n",
       "\\item 'p1647\\_i0'\n",
       "\\item 'p31'\n",
       "\\item 'p21000\\_i0'\n",
       "\\item 'p52'\n",
       "\\item 'p34'\n",
       "\\item 'p20277\\_i0'\n",
       "\\item 'p20277\\_i1'\n",
       "\\item 'p20277\\_i2'\n",
       "\\item 'p20277\\_i3'\n",
       "\\item 'p6138\\_i0'\n",
       "\\item 'p6138\\_i1'\n",
       "\\item 'p6138\\_i2'\n",
       "\\item 'p6138\\_i3'\n",
       "\\item 'p1807\\_i0'\n",
       "\\item 'p1807\\_i1'\n",
       "\\item 'p1807\\_i2'\n",
       "\\item 'p1807\\_i3'\n",
       "\\item 'p20107\\_i0'\n",
       "\\item 'p20107\\_i1'\n",
       "\\item 'p20107\\_i2'\n",
       "\\item 'p20107\\_i3'\n",
       "\\item 'p6141\\_i0'\n",
       "\\item 'p20110\\_i0'\n",
       "\\item 'p20110\\_i1'\n",
       "\\item 'p20110\\_i2'\n",
       "\\item 'p20110\\_i3'\n",
       "\\item 'p3526\\_i0'\n",
       "\\item 'p3526\\_i1'\n",
       "\\item 'p3526\\_i2'\n",
       "\\item 'p3526\\_i3'\n",
       "\\item 'p5057\\_i0'\n",
       "\\item 'p20111\\_i0'\n",
       "\\item 'p20111\\_i1'\n",
       "\\item 'p20111\\_i2'\n",
       "\\item 'p20111\\_i3'\n",
       "\\item 'p4501\\_i0'\n",
       "\\item 'p4501\\_i1'\n",
       "\\item 'p4501\\_i2'\n",
       "\\item 'p4501\\_i3'\n",
       "\\item 'p4056\\_i0'\n",
       "\\item 'p42006'\n",
       "\\item 'p42008'\n",
       "\\item 'p42010'\n",
       "\\item 'p42012'\n",
       "\\item 'p5529\\_i0'\n",
       "\\item 'p5529\\_i1'\n",
       "\\item 'p5529\\_i2'\n",
       "\\item 'p5529\\_i3'\n",
       "\\item 'p41270'\n",
       "\\item 'p41280\\_a0'\n",
       "\\item 'p41280\\_a1'\n",
       "\\item 'p41280\\_a2'\n",
       "\\item 'p41280\\_a3'\n",
       "\\item 'p41280\\_a4'\n",
       "\\item 'p41280\\_a5'\n",
       "\\item 'p41280\\_a6'\n",
       "\\item 'p41280\\_a7'\n",
       "\\item 'p41280\\_a8'\n",
       "\\item 'p41280\\_a9'\n",
       "\\item 'p41280\\_a10'\n",
       "\\item 'p41280\\_a11'\n",
       "\\item 'p41280\\_a12'\n",
       "\\item 'p41280\\_a13'\n",
       "\\item 'p41280\\_a14'\n",
       "\\item 'p41280\\_a15'\n",
       "\\item 'p41280\\_a16'\n",
       "\\item 'p41280\\_a17'\n",
       "\\item 'p41280\\_a18'\n",
       "\\item 'p41280\\_a19'\n",
       "\\item 'p41280\\_a20'\n",
       "\\item 'p41280\\_a21'\n",
       "\\item 'p41280\\_a22'\n",
       "\\item 'p41280\\_a23'\n",
       "\\item 'p41280\\_a24'\n",
       "\\item 'p41280\\_a25'\n",
       "\\item 'p41280\\_a26'\n",
       "\\item 'p41280\\_a27'\n",
       "\\item 'p41280\\_a28'\n",
       "\\item 'p41280\\_a29'\n",
       "\\item 'p41280\\_a30'\n",
       "\\item 'p41280\\_a31'\n",
       "\\item 'p41280\\_a32'\n",
       "\\item 'p41280\\_a33'\n",
       "\\item 'p41280\\_a34'\n",
       "\\item 'p41280\\_a35'\n",
       "\\item 'p41280\\_a36'\n",
       "\\item 'p41280\\_a37'\n",
       "\\item 'p41280\\_a38'\n",
       "\\item 'p41280\\_a39'\n",
       "\\item 'p41280\\_a40'\n",
       "\\item 'p41280\\_a41'\n",
       "\\item 'p41280\\_a42'\n",
       "\\item 'p41280\\_a43'\n",
       "\\item 'p41280\\_a44'\n",
       "\\item 'p41280\\_a45'\n",
       "\\item 'p41280\\_a46'\n",
       "\\item 'p41280\\_a47'\n",
       "\\item 'p41280\\_a48'\n",
       "\\item 'p41280\\_a49'\n",
       "\\item 'p41280\\_a50'\n",
       "\\item 'p41280\\_a51'\n",
       "\\item 'p41280\\_a52'\n",
       "\\item 'p41280\\_a53'\n",
       "\\item 'p41280\\_a54'\n",
       "\\item 'p41280\\_a55'\n",
       "\\item 'p41280\\_a56'\n",
       "\\item 'p41280\\_a57'\n",
       "\\item 'p41280\\_a58'\n",
       "\\item 'p41280\\_a59'\n",
       "\\item 'p41280\\_a60'\n",
       "\\item 'p41280\\_a61'\n",
       "\\item 'p41280\\_a62'\n",
       "\\item 'p41280\\_a63'\n",
       "\\item 'p41280\\_a64'\n",
       "\\item 'p41280\\_a65'\n",
       "\\item 'p41280\\_a66'\n",
       "\\item 'p41280\\_a67'\n",
       "\\item 'p41280\\_a68'\n",
       "\\item 'p41280\\_a69'\n",
       "\\item 'p41280\\_a70'\n",
       "\\item 'p41280\\_a71'\n",
       "\\item 'p41280\\_a72'\n",
       "\\item 'p41280\\_a73'\n",
       "\\item 'p41280\\_a74'\n",
       "\\item 'p41280\\_a75'\n",
       "\\item 'p41280\\_a76'\n",
       "\\item 'p41280\\_a77'\n",
       "\\item 'p41280\\_a78'\n",
       "\\item 'p41280\\_a79'\n",
       "\\item 'p41280\\_a80'\n",
       "\\item 'p41280\\_a81'\n",
       "\\item 'p41280\\_a82'\n",
       "\\item 'p41280\\_a83'\n",
       "\\item 'p41280\\_a84'\n",
       "\\item 'p41280\\_a85'\n",
       "\\item 'p41280\\_a86'\n",
       "\\item 'p41280\\_a87'\n",
       "\\item 'p41280\\_a88'\n",
       "\\item 'p41280\\_a89'\n",
       "\\item 'p41280\\_a90'\n",
       "\\item 'p41280\\_a91'\n",
       "\\item 'p41280\\_a92'\n",
       "\\item 'p41280\\_a93'\n",
       "\\item 'p41280\\_a94'\n",
       "\\item 'p41280\\_a95'\n",
       "\\item 'p41280\\_a96'\n",
       "\\item 'p41280\\_a97'\n",
       "\\item 'p41280\\_a98'\n",
       "\\item 'p41280\\_a99'\n",
       "\\item 'p41280\\_a100'\n",
       "\\item 'p41280\\_a101'\n",
       "\\item 'p41280\\_a102'\n",
       "\\item 'p41280\\_a103'\n",
       "\\item 'p41280\\_a104'\n",
       "\\item 'p41280\\_a105'\n",
       "\\item 'p41280\\_a106'\n",
       "\\item 'p41280\\_a107'\n",
       "\\item 'p41280\\_a108'\n",
       "\\item 'p41280\\_a109'\n",
       "\\item 'p41280\\_a110'\n",
       "\\item 'p41280\\_a111'\n",
       "\\item 'p41280\\_a112'\n",
       "\\item 'p41280\\_a113'\n",
       "\\item 'p41280\\_a114'\n",
       "\\item 'p41280\\_a115'\n",
       "\\item 'p41280\\_a116'\n",
       "\\item 'p41280\\_a117'\n",
       "\\item 'p41280\\_a118'\n",
       "\\item 'p41280\\_a119'\n",
       "\\item 'p41280\\_a120'\n",
       "\\item 'p41280\\_a121'\n",
       "\\item 'p41280\\_a122'\n",
       "\\item 'p41280\\_a123'\n",
       "\\item 'p41280\\_a124'\n",
       "\\item 'p41280\\_a125'\n",
       "\\item 'p41280\\_a126'\n",
       "\\item 'p41280\\_a127'\n",
       "\\item 'p41280\\_a128'\n",
       "\\item 'p41280\\_a129'\n",
       "\\item 'p41280\\_a130'\n",
       "\\item 'p41280\\_a131'\n",
       "\\item 'p41280\\_a132'\n",
       "\\item 'p41280\\_a133'\n",
       "\\item 'p41280\\_a134'\n",
       "\\item 'p41280\\_a135'\n",
       "\\item 'p41280\\_a136'\n",
       "\\item 'p41280\\_a137'\n",
       "\\item 'p41280\\_a138'\n",
       "\\item 'p41280\\_a139'\n",
       "\\item 'p41280\\_a140'\n",
       "\\item 'p41280\\_a141'\n",
       "\\item 'p41280\\_a142'\n",
       "\\item 'p41280\\_a143'\n",
       "\\item 'p41280\\_a144'\n",
       "\\item 'p41280\\_a145'\n",
       "\\item 'p41280\\_a146'\n",
       "\\item 'p41280\\_a147'\n",
       "\\item 'p41280\\_a148'\n",
       "\\item 'p41280\\_a149'\n",
       "\\item ⋯\n",
       "\\item 'p1070\\_i0'\n",
       "\\item 'p1070\\_i1'\n",
       "\\item 'p1070\\_i2'\n",
       "\\item 'p1070\\_i3'\n",
       "\\item 'p1349\\_i0'\n",
       "\\item 'p1349\\_i1'\n",
       "\\item 'p1349\\_i2'\n",
       "\\item 'p1349\\_i3'\n",
       "\\item 'p1329\\_i0'\n",
       "\\item 'p1329\\_i1'\n",
       "\\item 'p1329\\_i2'\n",
       "\\item 'p1329\\_i3'\n",
       "\\item 'p1339\\_i0'\n",
       "\\item 'p1339\\_i1'\n",
       "\\item 'p1339\\_i2'\n",
       "\\item 'p1339\\_i3'\n",
       "\\item 'p1289\\_i0'\n",
       "\\item 'p1289\\_i1'\n",
       "\\item 'p1289\\_i2'\n",
       "\\item 'p1289\\_i3'\n",
       "\\item 'p1299\\_i0'\n",
       "\\item 'p1299\\_i1'\n",
       "\\item 'p1299\\_i2'\n",
       "\\item 'p1299\\_i3'\n",
       "\\item 'p20207\\_i2'\n",
       "\\item 'p20207\\_i3'\n",
       "\\item 'p20209\\_i2'\n",
       "\\item 'p20209\\_i3'\n",
       "\\item 'p20212\\_i3'\n",
       "\\item 'p20212\\_i2'\n",
       "\\item 'p20208\\_i2'\n",
       "\\item 'p20208\\_i3'\n",
       "\\item 'p12292\\_i2'\n",
       "\\item 'p22671\\_i2'\n",
       "\\item 'p22671\\_i3'\n",
       "\\item 'p22674\\_i2'\n",
       "\\item 'p22674\\_i3'\n",
       "\\item 'p22677\\_i2'\n",
       "\\item 'p22677\\_i3'\n",
       "\\item 'p22680\\_i2'\n",
       "\\item 'p22680\\_i3'\n",
       "\\item 'gender'\n",
       "\\item 'country'\n",
       "\\item 'ethnicity'\n",
       "\\item 'occupation'\n",
       "\\item 'education'\n",
       "\\item 'education\\_tmp'\n",
       "\\item 'dob'\n",
       "\\item 'age'\n",
       "\\item 'waist'\n",
       "\\item 'weight'\n",
       "\\item 'bmi'\n",
       "\\item 'bmi\\_cat'\n",
       "\\item 'height'\n",
       "\\item 'sbp'\n",
       "\\item 'dbp'\n",
       "\\item 'hr'\n",
       "\\item 'alcohol'\n",
       "\\item 'smoking'\n",
       "\\item 'smoking\\_py'\n",
       "\\item 'smoking\\_start'\n",
       "\\item 'smoking\\_quit'\n",
       "\\item 'smoking\\_time'\n",
       "\\item 'activity\\_computer'\n",
       "\\item 'activity\\_tv'\n",
       "\\item 'diabetes2\\_dx'\n",
       "\\item 'diabetes2\\_age'\n",
       "\\item 'diabetesAny\\_dx'\n",
       "\\item 'diabetesAny\\_age'\n",
       "\\item 'liver\\_dx'\n",
       "\\item 'liver\\_age'\n",
       "\\item 'renal\\_dx'\n",
       "\\item 'renal\\_age'\n",
       "\\item 'pure\\_hyperchol\\_dx'\n",
       "\\item 'pure\\_hyperchol\\_age'\n",
       "\\item 'ht\\_dx'\n",
       "\\item 'ht\\_age'\n",
       "\\item 'ht\\_heart\\_dx'\n",
       "\\item 'ht\\_heart\\_age'\n",
       "\\item 'ht\\_renal\\_dx'\n",
       "\\item 'ht\\_renal\\_age'\n",
       "\\item 'mi\\_dx'\n",
       "\\item 'mi\\_age'\n",
       "\\item 'angina\\_dx'\n",
       "\\item 'angina\\_age'\n",
       "\\item 'cad\\_dx'\n",
       "\\item 'cad\\_age'\n",
       "\\item 'aneurism\\_dx'\n",
       "\\item 'aneurism\\_age'\n",
       "\\item 'pad\\_dx'\n",
       "\\item 'pad\\_age'\n",
       "\\item 'cardiac\\_arrest\\_dx'\n",
       "\\item 'cardiac\\_arrest\\_age'\n",
       "\\item 'hf\\_dx'\n",
       "\\item 'hf\\_age'\n",
       "\\item 'stroke\\_dx'\n",
       "\\item 'stroke\\_age'\n",
       "\\item 'cbvd\\_dx'\n",
       "\\item 'cbvd\\_age'\n",
       "\\item 'cvd\\_dx'\n",
       "\\item 'cvd\\_age'\n",
       "\\item 'ascvd\\_dx'\n",
       "\\item 'ascvd\\_age'\n",
       "\\item 'lipid\\_storage\\_disorder\\_dx'\n",
       "\\item 'lipid\\_storage\\_disorder\\_age'\n",
       "\\item 'psoriasis\\_dx'\n",
       "\\item 'psoriasis\\_age'\n",
       "\\item 'heart\\_percutaneous\\_procedures'\n",
       "\\item 'arteries\\_op'\n",
       "\\item 'arteries\\_percutaneous\\_procedures'\n",
       "\\item 'vein\\_op'\n",
       "\\item 'us\\_carotid\\_left\\_img1'\n",
       "\\item 'us\\_carotid\\_left\\_img2'\n",
       "\\item 'us\\_carotid\\_right\\_img1'\n",
       "\\item 'us\\_carotid\\_right\\_img2'\n",
       "\\item 'uscar\\_imt\\_120\\_max'\n",
       "\\item 'uscar\\_imt\\_150\\_max'\n",
       "\\item 'uscar\\_imt\\_210\\_max'\n",
       "\\item 'uscar\\_imt\\_240\\_max'\n",
       "\\item 'max\\_art\\_stiffness'\n",
       "\\item 'ecg\\_dataset1'\n",
       "\\item 'ecg\\_dataset2'\n",
       "\\item 'mri\\_scout\\_img1'\n",
       "\\item 'mri\\_scout\\_img2'\n",
       "\\item 'mri\\_short\\_axis\\_img1'\n",
       "\\item 'mri\\_short\\_axis\\_img2'\n",
       "\\item 'mri\\_lv\\_out\\_img1'\n",
       "\\item 'mri\\_lv\\_out\\_img2'\n",
       "\\item 'mri\\_long\\_axis\\_img1'\n",
       "\\item 'mri\\_long\\_axis\\_img2'\n",
       "\\item 'diet\\_meat'\n",
       "\\item 'diet\\_oily\\_fish'\n",
       "\\item 'diet\\_nonoily\\_fish'\n",
       "\\item 'diet\\_cooked\\_veg'\n",
       "\\item 'diet\\_raw\\_veg'\n",
       "\\item 'famh\\_hd\\_sa'\n",
       "\\item 'famh\\_cad'\n",
       "\\item 'famh\\_stroke\\_sa'\n",
       "\\item 'famh\\_stroke'\n",
       "\\item 'famh\\_dm\\_sa'\n",
       "\\item 'famh\\_dm'\n",
       "\\item 'famh\\_ht\\_sa'\n",
       "\\item 'famh\\_cancer\\_sa'\n",
       "\\item 'famh\\_cancer'\n",
       "\\item 'famh\\_death\\_sa'\n",
       "\\item 'tc'\n",
       "\\item 'ldl'\n",
       "\\item 'hdl'\n",
       "\\item 'tg'\n",
       "\\item 'apoa'\n",
       "\\item 'apob'\n",
       "\\item 'lpa'\n",
       "\\item 'crp'\n",
       "\\item 'gluc'\n",
       "\\item 'hba1c'\n",
       "\\item 'ast'\n",
       "\\item 'alt'\n",
       "\\item 'ggt'\n",
       "\\item 'bili\\_total'\n",
       "\\item 'bili\\_direct'\n",
       "\\item 'creat'\n",
       "\\item 'microalb'\n",
       "\\item 'ldl\\_fw'\n",
       "\\item 'nonhdl'\n",
       "\\item 'lpa\\_cat'\n",
       "\\item 'ATC\\_A'\n",
       "\\item 'ATC\\_B'\n",
       "\\item 'ATC\\_C'\n",
       "\\item 'ATC\\_D'\n",
       "\\item 'ATC\\_G'\n",
       "\\item 'ATC\\_H'\n",
       "\\item 'ATC\\_J'\n",
       "\\item 'ATC\\_L'\n",
       "\\item 'ATC\\_M'\n",
       "\\item 'ATC\\_P'\n",
       "\\item 'ATC\\_R'\n",
       "\\item 'ATC\\_S'\n",
       "\\item 'ATC\\_V'\n",
       "\\item 'statin'\n",
       "\\item 'ezetimibe'\n",
       "\\item 'pcsk9'\n",
       "\\item 'fibrate'\n",
       "\\item 'bas'\n",
       "\\item 'niacin'\n",
       "\\item 'n3fa'\n",
       "\\item 'glm'\n",
       "\\item 'insulin'\n",
       "\\item 'arb'\n",
       "\\item 'anticoag'\n",
       "\\item 'diuretic'\n",
       "\\item 'ccb'\n",
       "\\item 'bb'\n",
       "\\item 'antiplatelet'\n",
       "\\item 'acei'\n",
       "\\item 'thr'\n",
       "\\item 'anti\\_ht'\n",
       "\\item 'LDLR'\n",
       "\\item 'APOB'\n",
       "\\item 'PCSK9'\n",
       "\\item 'ANY'\n",
       "\\end{enumerate*}\n"
      ],
      "text/markdown": [
       "1. 'eid'\n",
       "2. 'p1647_i0'\n",
       "3. 'p31'\n",
       "4. 'p21000_i0'\n",
       "5. 'p52'\n",
       "6. 'p34'\n",
       "7. 'p20277_i0'\n",
       "8. 'p20277_i1'\n",
       "9. 'p20277_i2'\n",
       "10. 'p20277_i3'\n",
       "11. 'p6138_i0'\n",
       "12. 'p6138_i1'\n",
       "13. 'p6138_i2'\n",
       "14. 'p6138_i3'\n",
       "15. 'p1807_i0'\n",
       "16. 'p1807_i1'\n",
       "17. 'p1807_i2'\n",
       "18. 'p1807_i3'\n",
       "19. 'p20107_i0'\n",
       "20. 'p20107_i1'\n",
       "21. 'p20107_i2'\n",
       "22. 'p20107_i3'\n",
       "23. 'p6141_i0'\n",
       "24. 'p20110_i0'\n",
       "25. 'p20110_i1'\n",
       "26. 'p20110_i2'\n",
       "27. 'p20110_i3'\n",
       "28. 'p3526_i0'\n",
       "29. 'p3526_i1'\n",
       "30. 'p3526_i2'\n",
       "31. 'p3526_i3'\n",
       "32. 'p5057_i0'\n",
       "33. 'p20111_i0'\n",
       "34. 'p20111_i1'\n",
       "35. 'p20111_i2'\n",
       "36. 'p20111_i3'\n",
       "37. 'p4501_i0'\n",
       "38. 'p4501_i1'\n",
       "39. 'p4501_i2'\n",
       "40. 'p4501_i3'\n",
       "41. 'p4056_i0'\n",
       "42. 'p42006'\n",
       "43. 'p42008'\n",
       "44. 'p42010'\n",
       "45. 'p42012'\n",
       "46. 'p5529_i0'\n",
       "47. 'p5529_i1'\n",
       "48. 'p5529_i2'\n",
       "49. 'p5529_i3'\n",
       "50. 'p41270'\n",
       "51. 'p41280_a0'\n",
       "52. 'p41280_a1'\n",
       "53. 'p41280_a2'\n",
       "54. 'p41280_a3'\n",
       "55. 'p41280_a4'\n",
       "56. 'p41280_a5'\n",
       "57. 'p41280_a6'\n",
       "58. 'p41280_a7'\n",
       "59. 'p41280_a8'\n",
       "60. 'p41280_a9'\n",
       "61. 'p41280_a10'\n",
       "62. 'p41280_a11'\n",
       "63. 'p41280_a12'\n",
       "64. 'p41280_a13'\n",
       "65. 'p41280_a14'\n",
       "66. 'p41280_a15'\n",
       "67. 'p41280_a16'\n",
       "68. 'p41280_a17'\n",
       "69. 'p41280_a18'\n",
       "70. 'p41280_a19'\n",
       "71. 'p41280_a20'\n",
       "72. 'p41280_a21'\n",
       "73. 'p41280_a22'\n",
       "74. 'p41280_a23'\n",
       "75. 'p41280_a24'\n",
       "76. 'p41280_a25'\n",
       "77. 'p41280_a26'\n",
       "78. 'p41280_a27'\n",
       "79. 'p41280_a28'\n",
       "80. 'p41280_a29'\n",
       "81. 'p41280_a30'\n",
       "82. 'p41280_a31'\n",
       "83. 'p41280_a32'\n",
       "84. 'p41280_a33'\n",
       "85. 'p41280_a34'\n",
       "86. 'p41280_a35'\n",
       "87. 'p41280_a36'\n",
       "88. 'p41280_a37'\n",
       "89. 'p41280_a38'\n",
       "90. 'p41280_a39'\n",
       "91. 'p41280_a40'\n",
       "92. 'p41280_a41'\n",
       "93. 'p41280_a42'\n",
       "94. 'p41280_a43'\n",
       "95. 'p41280_a44'\n",
       "96. 'p41280_a45'\n",
       "97. 'p41280_a46'\n",
       "98. 'p41280_a47'\n",
       "99. 'p41280_a48'\n",
       "100. 'p41280_a49'\n",
       "101. 'p41280_a50'\n",
       "102. 'p41280_a51'\n",
       "103. 'p41280_a52'\n",
       "104. 'p41280_a53'\n",
       "105. 'p41280_a54'\n",
       "106. 'p41280_a55'\n",
       "107. 'p41280_a56'\n",
       "108. 'p41280_a57'\n",
       "109. 'p41280_a58'\n",
       "110. 'p41280_a59'\n",
       "111. 'p41280_a60'\n",
       "112. 'p41280_a61'\n",
       "113. 'p41280_a62'\n",
       "114. 'p41280_a63'\n",
       "115. 'p41280_a64'\n",
       "116. 'p41280_a65'\n",
       "117. 'p41280_a66'\n",
       "118. 'p41280_a67'\n",
       "119. 'p41280_a68'\n",
       "120. 'p41280_a69'\n",
       "121. 'p41280_a70'\n",
       "122. 'p41280_a71'\n",
       "123. 'p41280_a72'\n",
       "124. 'p41280_a73'\n",
       "125. 'p41280_a74'\n",
       "126. 'p41280_a75'\n",
       "127. 'p41280_a76'\n",
       "128. 'p41280_a77'\n",
       "129. 'p41280_a78'\n",
       "130. 'p41280_a79'\n",
       "131. 'p41280_a80'\n",
       "132. 'p41280_a81'\n",
       "133. 'p41280_a82'\n",
       "134. 'p41280_a83'\n",
       "135. 'p41280_a84'\n",
       "136. 'p41280_a85'\n",
       "137. 'p41280_a86'\n",
       "138. 'p41280_a87'\n",
       "139. 'p41280_a88'\n",
       "140. 'p41280_a89'\n",
       "141. 'p41280_a90'\n",
       "142. 'p41280_a91'\n",
       "143. 'p41280_a92'\n",
       "144. 'p41280_a93'\n",
       "145. 'p41280_a94'\n",
       "146. 'p41280_a95'\n",
       "147. 'p41280_a96'\n",
       "148. 'p41280_a97'\n",
       "149. 'p41280_a98'\n",
       "150. 'p41280_a99'\n",
       "151. 'p41280_a100'\n",
       "152. 'p41280_a101'\n",
       "153. 'p41280_a102'\n",
       "154. 'p41280_a103'\n",
       "155. 'p41280_a104'\n",
       "156. 'p41280_a105'\n",
       "157. 'p41280_a106'\n",
       "158. 'p41280_a107'\n",
       "159. 'p41280_a108'\n",
       "160. 'p41280_a109'\n",
       "161. 'p41280_a110'\n",
       "162. 'p41280_a111'\n",
       "163. 'p41280_a112'\n",
       "164. 'p41280_a113'\n",
       "165. 'p41280_a114'\n",
       "166. 'p41280_a115'\n",
       "167. 'p41280_a116'\n",
       "168. 'p41280_a117'\n",
       "169. 'p41280_a118'\n",
       "170. 'p41280_a119'\n",
       "171. 'p41280_a120'\n",
       "172. 'p41280_a121'\n",
       "173. 'p41280_a122'\n",
       "174. 'p41280_a123'\n",
       "175. 'p41280_a124'\n",
       "176. 'p41280_a125'\n",
       "177. 'p41280_a126'\n",
       "178. 'p41280_a127'\n",
       "179. 'p41280_a128'\n",
       "180. 'p41280_a129'\n",
       "181. 'p41280_a130'\n",
       "182. 'p41280_a131'\n",
       "183. 'p41280_a132'\n",
       "184. 'p41280_a133'\n",
       "185. 'p41280_a134'\n",
       "186. 'p41280_a135'\n",
       "187. 'p41280_a136'\n",
       "188. 'p41280_a137'\n",
       "189. 'p41280_a138'\n",
       "190. 'p41280_a139'\n",
       "191. 'p41280_a140'\n",
       "192. 'p41280_a141'\n",
       "193. 'p41280_a142'\n",
       "194. 'p41280_a143'\n",
       "195. 'p41280_a144'\n",
       "196. 'p41280_a145'\n",
       "197. 'p41280_a146'\n",
       "198. 'p41280_a147'\n",
       "199. 'p41280_a148'\n",
       "200. 'p41280_a149'\n",
       "201. ⋯\n",
       "202. 'p1070_i0'\n",
       "203. 'p1070_i1'\n",
       "204. 'p1070_i2'\n",
       "205. 'p1070_i3'\n",
       "206. 'p1349_i0'\n",
       "207. 'p1349_i1'\n",
       "208. 'p1349_i2'\n",
       "209. 'p1349_i3'\n",
       "210. 'p1329_i0'\n",
       "211. 'p1329_i1'\n",
       "212. 'p1329_i2'\n",
       "213. 'p1329_i3'\n",
       "214. 'p1339_i0'\n",
       "215. 'p1339_i1'\n",
       "216. 'p1339_i2'\n",
       "217. 'p1339_i3'\n",
       "218. 'p1289_i0'\n",
       "219. 'p1289_i1'\n",
       "220. 'p1289_i2'\n",
       "221. 'p1289_i3'\n",
       "222. 'p1299_i0'\n",
       "223. 'p1299_i1'\n",
       "224. 'p1299_i2'\n",
       "225. 'p1299_i3'\n",
       "226. 'p20207_i2'\n",
       "227. 'p20207_i3'\n",
       "228. 'p20209_i2'\n",
       "229. 'p20209_i3'\n",
       "230. 'p20212_i3'\n",
       "231. 'p20212_i2'\n",
       "232. 'p20208_i2'\n",
       "233. 'p20208_i3'\n",
       "234. 'p12292_i2'\n",
       "235. 'p22671_i2'\n",
       "236. 'p22671_i3'\n",
       "237. 'p22674_i2'\n",
       "238. 'p22674_i3'\n",
       "239. 'p22677_i2'\n",
       "240. 'p22677_i3'\n",
       "241. 'p22680_i2'\n",
       "242. 'p22680_i3'\n",
       "243. 'gender'\n",
       "244. 'country'\n",
       "245. 'ethnicity'\n",
       "246. 'occupation'\n",
       "247. 'education'\n",
       "248. 'education_tmp'\n",
       "249. 'dob'\n",
       "250. 'age'\n",
       "251. 'waist'\n",
       "252. 'weight'\n",
       "253. 'bmi'\n",
       "254. 'bmi_cat'\n",
       "255. 'height'\n",
       "256. 'sbp'\n",
       "257. 'dbp'\n",
       "258. 'hr'\n",
       "259. 'alcohol'\n",
       "260. 'smoking'\n",
       "261. 'smoking_py'\n",
       "262. 'smoking_start'\n",
       "263. 'smoking_quit'\n",
       "264. 'smoking_time'\n",
       "265. 'activity_computer'\n",
       "266. 'activity_tv'\n",
       "267. 'diabetes2_dx'\n",
       "268. 'diabetes2_age'\n",
       "269. 'diabetesAny_dx'\n",
       "270. 'diabetesAny_age'\n",
       "271. 'liver_dx'\n",
       "272. 'liver_age'\n",
       "273. 'renal_dx'\n",
       "274. 'renal_age'\n",
       "275. 'pure_hyperchol_dx'\n",
       "276. 'pure_hyperchol_age'\n",
       "277. 'ht_dx'\n",
       "278. 'ht_age'\n",
       "279. 'ht_heart_dx'\n",
       "280. 'ht_heart_age'\n",
       "281. 'ht_renal_dx'\n",
       "282. 'ht_renal_age'\n",
       "283. 'mi_dx'\n",
       "284. 'mi_age'\n",
       "285. 'angina_dx'\n",
       "286. 'angina_age'\n",
       "287. 'cad_dx'\n",
       "288. 'cad_age'\n",
       "289. 'aneurism_dx'\n",
       "290. 'aneurism_age'\n",
       "291. 'pad_dx'\n",
       "292. 'pad_age'\n",
       "293. 'cardiac_arrest_dx'\n",
       "294. 'cardiac_arrest_age'\n",
       "295. 'hf_dx'\n",
       "296. 'hf_age'\n",
       "297. 'stroke_dx'\n",
       "298. 'stroke_age'\n",
       "299. 'cbvd_dx'\n",
       "300. 'cbvd_age'\n",
       "301. 'cvd_dx'\n",
       "302. 'cvd_age'\n",
       "303. 'ascvd_dx'\n",
       "304. 'ascvd_age'\n",
       "305. 'lipid_storage_disorder_dx'\n",
       "306. 'lipid_storage_disorder_age'\n",
       "307. 'psoriasis_dx'\n",
       "308. 'psoriasis_age'\n",
       "309. 'heart_percutaneous_procedures'\n",
       "310. 'arteries_op'\n",
       "311. 'arteries_percutaneous_procedures'\n",
       "312. 'vein_op'\n",
       "313. 'us_carotid_left_img1'\n",
       "314. 'us_carotid_left_img2'\n",
       "315. 'us_carotid_right_img1'\n",
       "316. 'us_carotid_right_img2'\n",
       "317. 'uscar_imt_120_max'\n",
       "318. 'uscar_imt_150_max'\n",
       "319. 'uscar_imt_210_max'\n",
       "320. 'uscar_imt_240_max'\n",
       "321. 'max_art_stiffness'\n",
       "322. 'ecg_dataset1'\n",
       "323. 'ecg_dataset2'\n",
       "324. 'mri_scout_img1'\n",
       "325. 'mri_scout_img2'\n",
       "326. 'mri_short_axis_img1'\n",
       "327. 'mri_short_axis_img2'\n",
       "328. 'mri_lv_out_img1'\n",
       "329. 'mri_lv_out_img2'\n",
       "330. 'mri_long_axis_img1'\n",
       "331. 'mri_long_axis_img2'\n",
       "332. 'diet_meat'\n",
       "333. 'diet_oily_fish'\n",
       "334. 'diet_nonoily_fish'\n",
       "335. 'diet_cooked_veg'\n",
       "336. 'diet_raw_veg'\n",
       "337. 'famh_hd_sa'\n",
       "338. 'famh_cad'\n",
       "339. 'famh_stroke_sa'\n",
       "340. 'famh_stroke'\n",
       "341. 'famh_dm_sa'\n",
       "342. 'famh_dm'\n",
       "343. 'famh_ht_sa'\n",
       "344. 'famh_cancer_sa'\n",
       "345. 'famh_cancer'\n",
       "346. 'famh_death_sa'\n",
       "347. 'tc'\n",
       "348. 'ldl'\n",
       "349. 'hdl'\n",
       "350. 'tg'\n",
       "351. 'apoa'\n",
       "352. 'apob'\n",
       "353. 'lpa'\n",
       "354. 'crp'\n",
       "355. 'gluc'\n",
       "356. 'hba1c'\n",
       "357. 'ast'\n",
       "358. 'alt'\n",
       "359. 'ggt'\n",
       "360. 'bili_total'\n",
       "361. 'bili_direct'\n",
       "362. 'creat'\n",
       "363. 'microalb'\n",
       "364. 'ldl_fw'\n",
       "365. 'nonhdl'\n",
       "366. 'lpa_cat'\n",
       "367. 'ATC_A'\n",
       "368. 'ATC_B'\n",
       "369. 'ATC_C'\n",
       "370. 'ATC_D'\n",
       "371. 'ATC_G'\n",
       "372. 'ATC_H'\n",
       "373. 'ATC_J'\n",
       "374. 'ATC_L'\n",
       "375. 'ATC_M'\n",
       "376. 'ATC_P'\n",
       "377. 'ATC_R'\n",
       "378. 'ATC_S'\n",
       "379. 'ATC_V'\n",
       "380. 'statin'\n",
       "381. 'ezetimibe'\n",
       "382. 'pcsk9'\n",
       "383. 'fibrate'\n",
       "384. 'bas'\n",
       "385. 'niacin'\n",
       "386. 'n3fa'\n",
       "387. 'glm'\n",
       "388. 'insulin'\n",
       "389. 'arb'\n",
       "390. 'anticoag'\n",
       "391. 'diuretic'\n",
       "392. 'ccb'\n",
       "393. 'bb'\n",
       "394. 'antiplatelet'\n",
       "395. 'acei'\n",
       "396. 'thr'\n",
       "397. 'anti_ht'\n",
       "398. 'LDLR'\n",
       "399. 'APOB'\n",
       "400. 'PCSK9'\n",
       "401. 'ANY'\n",
       "\n",
       "\n"
      ],
      "text/plain": [
       "  [1] \"eid\"                              \"p1647_i0\"                        \n",
       "  [3] \"p31\"                              \"p21000_i0\"                       \n",
       "  [5] \"p52\"                              \"p34\"                             \n",
       "  [7] \"p20277_i0\"                        \"p20277_i1\"                       \n",
       "  [9] \"p20277_i2\"                        \"p20277_i3\"                       \n",
       " [11] \"p6138_i0\"                         \"p6138_i1\"                        \n",
       " [13] \"p6138_i2\"                         \"p6138_i3\"                        \n",
       " [15] \"p1807_i0\"                         \"p1807_i1\"                        \n",
       " [17] \"p1807_i2\"                         \"p1807_i3\"                        \n",
       " [19] \"p20107_i0\"                        \"p20107_i1\"                       \n",
       " [21] \"p20107_i2\"                        \"p20107_i3\"                       \n",
       " [23] \"p6141_i0\"                         \"p20110_i0\"                       \n",
       " [25] \"p20110_i1\"                        \"p20110_i2\"                       \n",
       " [27] \"p20110_i3\"                        \"p3526_i0\"                        \n",
       " [29] \"p3526_i1\"                         \"p3526_i2\"                        \n",
       " [31] \"p3526_i3\"                         \"p5057_i0\"                        \n",
       " [33] \"p20111_i0\"                        \"p20111_i1\"                       \n",
       " [35] \"p20111_i2\"                        \"p20111_i3\"                       \n",
       " [37] \"p4501_i0\"                         \"p4501_i1\"                        \n",
       " [39] \"p4501_i2\"                         \"p4501_i3\"                        \n",
       " [41] \"p4056_i0\"                         \"p42006\"                          \n",
       " [43] \"p42008\"                           \"p42010\"                          \n",
       " [45] \"p42012\"                           \"p5529_i0\"                        \n",
       " [47] \"p5529_i1\"                         \"p5529_i2\"                        \n",
       " [49] \"p5529_i3\"                         \"p41270\"                          \n",
       " [51] \"p41280_a0\"                        \"p41280_a1\"                       \n",
       " [53] \"p41280_a2\"                        \"p41280_a3\"                       \n",
       " [55] \"p41280_a4\"                        \"p41280_a5\"                       \n",
       " [57] \"p41280_a6\"                        \"p41280_a7\"                       \n",
       " [59] \"p41280_a8\"                        \"p41280_a9\"                       \n",
       " [61] \"p41280_a10\"                       \"p41280_a11\"                      \n",
       " [63] \"p41280_a12\"                       \"p41280_a13\"                      \n",
       " [65] \"p41280_a14\"                       \"p41280_a15\"                      \n",
       " [67] \"p41280_a16\"                       \"p41280_a17\"                      \n",
       " [69] \"p41280_a18\"                       \"p41280_a19\"                      \n",
       " [71] \"p41280_a20\"                       \"p41280_a21\"                      \n",
       " [73] \"p41280_a22\"                       \"p41280_a23\"                      \n",
       " [75] \"p41280_a24\"                       \"p41280_a25\"                      \n",
       " [77] \"p41280_a26\"                       \"p41280_a27\"                      \n",
       " [79] \"p41280_a28\"                       \"p41280_a29\"                      \n",
       " [81] \"p41280_a30\"                       \"p41280_a31\"                      \n",
       " [83] \"p41280_a32\"                       \"p41280_a33\"                      \n",
       " [85] \"p41280_a34\"                       \"p41280_a35\"                      \n",
       " [87] \"p41280_a36\"                       \"p41280_a37\"                      \n",
       " [89] \"p41280_a38\"                       \"p41280_a39\"                      \n",
       " [91] \"p41280_a40\"                       \"p41280_a41\"                      \n",
       " [93] \"p41280_a42\"                       \"p41280_a43\"                      \n",
       " [95] \"p41280_a44\"                       \"p41280_a45\"                      \n",
       " [97] \"p41280_a46\"                       \"p41280_a47\"                      \n",
       " [99] \"p41280_a48\"                       \"p41280_a49\"                      \n",
       "[101] \"p41280_a50\"                       \"p41280_a51\"                      \n",
       "[103] \"p41280_a52\"                       \"p41280_a53\"                      \n",
       "[105] \"p41280_a54\"                       \"p41280_a55\"                      \n",
       "[107] \"p41280_a56\"                       \"p41280_a57\"                      \n",
       "[109] \"p41280_a58\"                       \"p41280_a59\"                      \n",
       "[111] \"p41280_a60\"                       \"p41280_a61\"                      \n",
       "[113] \"p41280_a62\"                       \"p41280_a63\"                      \n",
       "[115] \"p41280_a64\"                       \"p41280_a65\"                      \n",
       "[117] \"p41280_a66\"                       \"p41280_a67\"                      \n",
       "[119] \"p41280_a68\"                       \"p41280_a69\"                      \n",
       "[121] \"p41280_a70\"                       \"p41280_a71\"                      \n",
       "[123] \"p41280_a72\"                       \"p41280_a73\"                      \n",
       "[125] \"p41280_a74\"                       \"p41280_a75\"                      \n",
       "[127] \"p41280_a76\"                       \"p41280_a77\"                      \n",
       "[129] \"p41280_a78\"                       \"p41280_a79\"                      \n",
       "[131] \"p41280_a80\"                       \"p41280_a81\"                      \n",
       "[133] \"p41280_a82\"                       \"p41280_a83\"                      \n",
       "[135] \"p41280_a84\"                       \"p41280_a85\"                      \n",
       "[137] \"p41280_a86\"                       \"p41280_a87\"                      \n",
       "[139] \"p41280_a88\"                       \"p41280_a89\"                      \n",
       "[141] \"p41280_a90\"                       \"p41280_a91\"                      \n",
       "[143] \"p41280_a92\"                       \"p41280_a93\"                      \n",
       "[145] \"p41280_a94\"                       \"p41280_a95\"                      \n",
       "[147] \"p41280_a96\"                       \"p41280_a97\"                      \n",
       "[149] \"p41280_a98\"                       \"p41280_a99\"                      \n",
       "[151] \"p41280_a100\"                      \"p41280_a101\"                     \n",
       "[153] \"p41280_a102\"                      \"p41280_a103\"                     \n",
       "[155] \"p41280_a104\"                      \"p41280_a105\"                     \n",
       "[157] \"p41280_a106\"                      \"p41280_a107\"                     \n",
       "[159] \"p41280_a108\"                      \"p41280_a109\"                     \n",
       "[161] \"p41280_a110\"                      \"p41280_a111\"                     \n",
       "[163] \"p41280_a112\"                      \"p41280_a113\"                     \n",
       "[165] \"p41280_a114\"                      \"p41280_a115\"                     \n",
       "[167] \"p41280_a116\"                      \"p41280_a117\"                     \n",
       "[169] \"p41280_a118\"                      \"p41280_a119\"                     \n",
       "[171] \"p41280_a120\"                      \"p41280_a121\"                     \n",
       "[173] \"p41280_a122\"                      \"p41280_a123\"                     \n",
       "[175] \"p41280_a124\"                      \"p41280_a125\"                     \n",
       "[177] \"p41280_a126\"                      \"p41280_a127\"                     \n",
       "[179] \"p41280_a128\"                      \"p41280_a129\"                     \n",
       "[181] \"p41280_a130\"                      \"p41280_a131\"                     \n",
       "[183] \"p41280_a132\"                      \"p41280_a133\"                     \n",
       "[185] \"p41280_a134\"                      \"p41280_a135\"                     \n",
       "[187] \"p41280_a136\"                      \"p41280_a137\"                     \n",
       "[189] \"p41280_a138\"                      \"p41280_a139\"                     \n",
       "[191] \"p41280_a140\"                      \"p41280_a141\"                     \n",
       "[193] \"p41280_a142\"                      \"p41280_a143\"                     \n",
       "[195] \"p41280_a144\"                      \"p41280_a145\"                     \n",
       "[197] \"p41280_a146\"                      \"p41280_a147\"                     \n",
       "[199] \"p41280_a148\"                      \"p41280_a149\"                     \n",
       "[201] \"p41280_a150\"                      \"p41280_a151\"                     \n",
       "[203] \"p41280_a152\"                      \"p41280_a153\"                     \n",
       "[205] \"p41280_a154\"                      \"p41280_a155\"                     \n",
       "[207] \"p41280_a156\"                      \"p41280_a157\"                     \n",
       "[209] \"p41280_a158\"                      \"p41280_a159\"                     \n",
       "[211] \"p41280_a160\"                      \"p41280_a161\"                     \n",
       "[213] \"p41280_a162\"                      \"p41280_a163\"                     \n",
       "[215] \"p41280_a164\"                      \"p41280_a165\"                     \n",
       "[217] \"p41280_a166\"                      \"p41280_a167\"                     \n",
       "[219] \"p41280_a168\"                      \"p41280_a169\"                     \n",
       "[221] \"p41280_a170\"                      \"p41280_a171\"                     \n",
       "[223] \"p41280_a172\"                      \"p41280_a173\"                     \n",
       "[225] \"p41280_a174\"                      \"p41280_a175\"                     \n",
       "[227] \"p41280_a176\"                      \"p41280_a177\"                     \n",
       "[229] \"p41280_a178\"                      \"p41280_a179\"                     \n",
       "[231] \"p41280_a180\"                      \"p41280_a182\"                     \n",
       "[233] \"p41280_a183\"                      \"p41280_a184\"                     \n",
       "[235] \"p41280_a185\"                      \"p41280_a186\"                     \n",
       "[237] \"p41280_a187\"                      \"p41280_a188\"                     \n",
       "[239] \"p41280_a189\"                      \"p41280_a190\"                     \n",
       "[241] \"p41280_a191\"                      \"p41280_a192\"                     \n",
       "[243] \"p41280_a193\"                      \"p41280_a194\"                     \n",
       "[245] \"p41280_a195\"                      \"p41280_a196\"                     \n",
       "[247] \"p41280_a197\"                      \"p41280_a198\"                     \n",
       "[249] \"p41280_a199\"                      \"p41280_a200\"                     \n",
       "[251] \"p41280_a201\"                      \"p41280_a202\"                     \n",
       "[253] \"p41280_a203\"                      \"p41280_a204\"                     \n",
       "[255] \"p41280_a205\"                      \"p41280_a206\"                     \n",
       "[257] \"p41280_a207\"                      \"p41280_a208\"                     \n",
       "[259] \"p41280_a209\"                      \"p41280_a210\"                     \n",
       "[261] \"p41280_a211\"                      \"p41280_a212\"                     \n",
       "[263] \"p41280_a213\"                      \"p41280_a214\"                     \n",
       "[265] \"p41280_a215\"                      \"p41280_a216\"                     \n",
       "[267] \"p41280_a217\"                      \"p41280_a218\"                     \n",
       "[269] \"p41280_a219\"                      \"p41280_a220\"                     \n",
       "[271] \"p41280_a221\"                      \"p41280_a222\"                     \n",
       "[273] \"p41280_a223\"                      \"p41280_a224\"                     \n",
       "[275] \"p41280_a225\"                      \"p41202\"                          \n",
       "[277] \"p41262_a0\"                        \"p41262_a1\"                       \n",
       "[279] \"p41262_a2\"                        \"p41262_a3\"                       \n",
       "[281] \"p41262_a4\"                        \"p41262_a5\"                       \n",
       "[283] \"p41262_a6\"                        \"p41262_a7\"                       \n",
       "[285] \"p41262_a8\"                        \"p41262_a9\"                       \n",
       "[287] \"p41262_a10\"                       \"p41262_a11\"                      \n",
       "[289] \"p41262_a12\"                       \"p41262_a13\"                      \n",
       "[291] \"p41262_a14\"                       \"p41262_a15\"                      \n",
       "[293] \"p41262_a16\"                       \"p41262_a17\"                      \n",
       "[295] \"p41262_a18\"                       \"p41262_a19\"                      \n",
       "[297] \"p41262_a20\"                       \"p41262_a21\"                      \n",
       "[299] \"p41262_a22\"                       \"p41262_a23\"                      \n",
       "[301] \"p41262_a24\"                       \"p41262_a25\"                      \n",
       "[303] \"p41262_a26\"                       \"p41262_a27\"                      \n",
       "[305] \"p41262_a28\"                       \"p41262_a29\"                      \n",
       "[307] \"p41262_a30\"                       \"p41262_a31\"                      \n",
       "[309] \"p41262_a32\"                       \"p41262_a33\"                      \n",
       "[311] \"p41262_a34\"                       \"p41262_a35\"                      \n",
       "[313] \"p41262_a36\"                       \"p41262_a37\"                      \n",
       "[315] \"p41262_a38\"                       \"p41262_a39\"                      \n",
       "[317] \"p41262_a40\"                       \"p41262_a41\"                      \n",
       "[319] \"p41262_a42\"                       \"p41262_a43\"                      \n",
       "[321] \"p41262_a44\"                       \"p41262_a45\"                      \n",
       "[323] \"p41262_a46\"                       \"p41262_a47\"                      \n",
       "[325] \"p41262_a48\"                       \"p41262_a49\"                      \n",
       "[327] \"p41262_a50\"                       \"p41262_a51\"                      \n",
       "[329] \"p41262_a52\"                       \"p41262_a53\"                      \n",
       "[331] \"p41262_a54\"                       \"p41262_a55\"                      \n",
       "[333] \"p41262_a56\"                       \"p41262_a57\"                      \n",
       "[335] \"p41262_a58\"                       \"p41262_a59\"                      \n",
       "[337] \"p41262_a60\"                       \"p41262_a61\"                      \n",
       "[339] \"p41262_a62\"                       \"p41262_a63\"                      \n",
       "[341] \"p41262_a64\"                       \"p41262_a65\"                      \n",
       "[343] \"p41262_a66\"                       \"p41262_a67\"                      \n",
       "[345] \"p41262_a68\"                       \"p41262_a69\"                      \n",
       "[347] \"p41262_a70\"                       \"p41262_a71\"                      \n",
       "[349] \"p41262_a72\"                       \"p41262_a73\"                      \n",
       "[351] \"p41262_a74\"                       \"p41204\"                          \n",
       "[353] \"p23400_i0\"                        \"p23400_i1\"                       \n",
       "[355] \"p21022\"                           \"p6177_i0\"                        \n",
       "[357] \"p6177_i1\"                         \"p6177_i2\"                        \n",
       "[359] \"p6177_i3\"                         \"p6153_i0\"                        \n",
       "[361] \"p6153_i1\"                         \"p6153_i2\"                        \n",
       "[363] \"p6153_i3\"                         \"p21003_i0\"                       \n",
       "[365] \"p131286\"                          \"p131294\"                         \n",
       "[367] \"p130706\"                          \"p20002_i0\"                       \n",
       "[369] \"p20002_i1\"                        \"p20002_i2\"                       \n",
       "[371] \"p20002_i3\"                        \"p120007\"                         \n",
       "[373] \"p130708\"                          \"p130710\"                         \n",
       "[375] \"p130712\"                          \"p130714\"                         \n",
       "[377] \"p20160_i0\"                        \"p20160_i1\"                       \n",
       "[379] \"p20160_i2\"                        \"p20160_i3\"                       \n",
       "[381] \"p20162_i0\"                        \"p20162_i1\"                       \n",
       "[383] \"p20162_i2\"                        \"p20162_i3\"                       \n",
       "[385] \"p20161_i0\"                        \"p20161_i1\"                       \n",
       "[387] \"p20161_i2\"                        \"p20161_i3\"                       \n",
       "[389] \"p20116_i0\"                        \"p20116_i1\"                       \n",
       "[391] \"p20116_i2\"                        \"p20116_i3\"                       \n",
       "[393] \"p3436_i0\"                         \"p3436_i1\"                        \n",
       "[395] \"p3436_i2\"                         \"p3436_i3\"                        \n",
       "[397] \"p2897_i0\"                         \"p6194_i0\"                        \n",
       "[399] \"p6194_i1\"                         \"p6194_i2\"                        \n",
       "[401] \"p6194_i3\"                         \"p2867_i0\"                        \n",
       "[403] \"p2867_i1\"                         \"p2867_i2\"                        \n",
       "[405] \"p2867_i3\"                         \"p2897_i1\"                        \n",
       "[407] \"p2897_i2\"                         \"p2897_i3\"                        \n",
       "[409] \"p20117_i0\"                        \"p20117_i1\"                       \n",
       "[411] \"p20117_i2\"                        \"p20117_i3\"                       \n",
       "[413] \"p1558_i0\"                         \"p1558_i2\"                        \n",
       "[415] \"p1558_i3\"                         \"p1558_i1\"                        \n",
       "[417] \"p1100_i0\"                         \"p42000\"                          \n",
       "[419] \"p42002\"                           \"p42004\"                          \n",
       "[421] \"p131298\"                          \"p131300\"                         \n",
       "[423] \"p131302\"                          \"p131334\"                         \n",
       "[425] \"p131336\"                          \"p41272\"                          \n",
       "[427] \"p41200\"                           \"p41210\"                          \n",
       "[429] \"p4056_i2\"                         \"p4056_i1\"                        \n",
       "[431] \"p4056_i3\"                         \"p131278\"                         \n",
       "[433] \"p131324\"                          \"p132532\"                         \n",
       "[435] \"p2306_i0\"                         \"p21002_i0\"                       \n",
       "[437] \"p21002_i1\"                        \"p21002_i2\"                       \n",
       "[439] \"p21002_i3\"                        \"p12144_i2\"                       \n",
       "[441] \"p12144_i3\"                        \"p21001_i0\"                       \n",
       "[443] \"p21001_i1\"                        \"p21001_i2\"                       \n",
       "[445] \"p21001_i3\"                        \"p48_i0\"                          \n",
       "[447] \"p48_i1\"                           \"p48_i2\"                          \n",
       "[449] \"p48_i3\"                           \"p4080_i0_a0\"                     \n",
       "[451] \"p4080_i0_a1\"                      \"p4080_i1_a0\"                     \n",
       "[453] \"p4080_i1_a1\"                      \"p4080_i2_a0\"                     \n",
       "[455] \"p4080_i2_a1\"                      \"p4080_i3_a0\"                     \n",
       "[457] \"p4080_i3_a1\"                      \"p4079_i0_a0\"                     \n",
       "[459] \"p4079_i0_a1\"                      \"p4079_i1_a0\"                     \n",
       "[461] \"p4079_i1_a1\"                      \"p4079_i2_a0\"                     \n",
       "[463] \"p4079_i2_a1\"                      \"p4079_i3_a0\"                     \n",
       "[465] \"p4079_i3_a1\"                      \"p95_i0_a0\"                       \n",
       "[467] \"p4194_i0\"                         \"p102_i0_a0\"                      \n",
       "[469] \"p102_i0_a1\"                       \"p102_i1_a0\"                      \n",
       "[471] \"p102_i1_a1\"                       \"p102_i2_a0\"                      \n",
       "[473] \"p102_i2_a1\"                       \"p102_i3_a0\"                      \n",
       "[475] \"p102_i3_a1\"                       \"p30780_i0\"                       \n",
       "[477] \"p30780_i1\"                        \"p30760_i0\"                       \n",
       "[479] \"p30760_i1\"                        \"p23402_i0\"                       \n",
       "[481] \"p23402_i1\"                        \"p30870_i0\"                       \n",
       "[483] \"p30870_i1\"                        \"p23440_i0\"                       \n",
       "[485] \"p23440_i1\"                        \"p23439_i0\"                       \n",
       "[487] \"p23439_i1\"                        \"p30790_i0\"                       \n",
       "[489] \"p30790_i1\"                        \"p30740_i0\"                       \n",
       "[491] \"p30740_i1\"                        \"p120004\"                         \n",
       "[493] \"p23478_i0\"                        \"p30700_i0\"                       \n",
       "[495] \"p30700_i1\"                        \"p30710_i0\"                       \n",
       "[497] \"p30710_i1\"                        \"p30620_i0\"                       \n",
       "[499] \"p30620_i1\"                        \"p30650_i0\"                       \n",
       "[501] \"p30650_i1\"                        \"p30730_i0\"                       \n",
       "[503] \"p30730_i1\"                        \"p30840_i0\"                       \n",
       "[505] \"p30840_i1\"                        \"p30660_i0\"                       \n",
       "[507] \"p30660_i1\"                        \"p30600_i0\"                       \n",
       "[509] \"p30600_i1\"                        \"p30500_i0\"                       \n",
       "[511] \"p30500_i1\"                        \"p30750_i0\"                       \n",
       "[513] \"p30750_i1\"                        \"p20003_i0\"                       \n",
       "[515] \"p20003_i1\"                        \"p20003_i2\"                       \n",
       "[517] \"p20003_i3\"                        \"p30690_i0\"                       \n",
       "[519] \"p30690_i1\"                        \"p30630_i0\"                       \n",
       "[521] \"p30630_i1\"                        \"p30640_i1\"                       \n",
       "[523] \"p30640_i0\"                        \"p20222_i2\"                       \n",
       "[525] \"p20222_i3\"                        \"p20223_i2\"                       \n",
       "[527] \"p20223_i3\"                        \"p21021_i0\"                       \n",
       "[529] \"p21021_i1\"                        \"p21021_i2\"                       \n",
       "[531] \"p21021_i3\"                        \"p20205_i2\"                       \n",
       "[533] \"p20205_i3\"                        \"p1080_i0\"                        \n",
       "[535] \"p1080_i1\"                         \"p1080_i2\"                        \n",
       "[537] \"p1080_i3\"                         \"p1070_i0\"                        \n",
       "[539] \"p1070_i1\"                         \"p1070_i2\"                        \n",
       "[541] \"p1070_i3\"                         \"p1349_i0\"                        \n",
       "[543] \"p1349_i1\"                         \"p1349_i2\"                        \n",
       "[545] \"p1349_i3\"                         \"p1329_i0\"                        \n",
       "[547] \"p1329_i1\"                         \"p1329_i2\"                        \n",
       "[549] \"p1329_i3\"                         \"p1339_i0\"                        \n",
       "[551] \"p1339_i1\"                         \"p1339_i2\"                        \n",
       "[553] \"p1339_i3\"                         \"p1289_i0\"                        \n",
       "[555] \"p1289_i1\"                         \"p1289_i2\"                        \n",
       "[557] \"p1289_i3\"                         \"p1299_i0\"                        \n",
       "[559] \"p1299_i1\"                         \"p1299_i2\"                        \n",
       "[561] \"p1299_i3\"                         \"p20207_i2\"                       \n",
       "[563] \"p20207_i3\"                        \"p20209_i2\"                       \n",
       "[565] \"p20209_i3\"                        \"p20212_i3\"                       \n",
       "[567] \"p20212_i2\"                        \"p20208_i2\"                       \n",
       "[569] \"p20208_i3\"                        \"p12292_i2\"                       \n",
       "[571] \"p22671_i2\"                        \"p22671_i3\"                       \n",
       "[573] \"p22674_i2\"                        \"p22674_i3\"                       \n",
       "[575] \"p22677_i2\"                        \"p22677_i3\"                       \n",
       "[577] \"p22680_i2\"                        \"p22680_i3\"                       \n",
       "[579] \"gender\"                           \"country\"                         \n",
       "[581] \"ethnicity\"                        \"occupation\"                      \n",
       "[583] \"education\"                        \"education_tmp\"                   \n",
       "[585] \"dob\"                              \"age\"                             \n",
       "[587] \"waist\"                            \"weight\"                          \n",
       "[589] \"bmi\"                              \"bmi_cat\"                         \n",
       "[591] \"height\"                           \"sbp\"                             \n",
       "[593] \"dbp\"                              \"hr\"                              \n",
       "[595] \"alcohol\"                          \"smoking\"                         \n",
       "[597] \"smoking_py\"                       \"smoking_start\"                   \n",
       "[599] \"smoking_quit\"                     \"smoking_time\"                    \n",
       "[601] \"activity_computer\"                \"activity_tv\"                     \n",
       "[603] \"diabetes2_dx\"                     \"diabetes2_age\"                   \n",
       "[605] \"diabetesAny_dx\"                   \"diabetesAny_age\"                 \n",
       "[607] \"liver_dx\"                         \"liver_age\"                       \n",
       "[609] \"renal_dx\"                         \"renal_age\"                       \n",
       "[611] \"pure_hyperchol_dx\"                \"pure_hyperchol_age\"              \n",
       "[613] \"ht_dx\"                            \"ht_age\"                          \n",
       "[615] \"ht_heart_dx\"                      \"ht_heart_age\"                    \n",
       "[617] \"ht_renal_dx\"                      \"ht_renal_age\"                    \n",
       "[619] \"mi_dx\"                            \"mi_age\"                          \n",
       "[621] \"angina_dx\"                        \"angina_age\"                      \n",
       "[623] \"cad_dx\"                           \"cad_age\"                         \n",
       "[625] \"aneurism_dx\"                      \"aneurism_age\"                    \n",
       "[627] \"pad_dx\"                           \"pad_age\"                         \n",
       "[629] \"cardiac_arrest_dx\"                \"cardiac_arrest_age\"              \n",
       "[631] \"hf_dx\"                            \"hf_age\"                          \n",
       "[633] \"stroke_dx\"                        \"stroke_age\"                      \n",
       "[635] \"cbvd_dx\"                          \"cbvd_age\"                        \n",
       "[637] \"cvd_dx\"                           \"cvd_age\"                         \n",
       "[639] \"ascvd_dx\"                         \"ascvd_age\"                       \n",
       "[641] \"lipid_storage_disorder_dx\"        \"lipid_storage_disorder_age\"      \n",
       "[643] \"psoriasis_dx\"                     \"psoriasis_age\"                   \n",
       "[645] \"heart_percutaneous_procedures\"    \"arteries_op\"                     \n",
       "[647] \"arteries_percutaneous_procedures\" \"vein_op\"                         \n",
       "[649] \"us_carotid_left_img1\"             \"us_carotid_left_img2\"            \n",
       "[651] \"us_carotid_right_img1\"            \"us_carotid_right_img2\"           \n",
       "[653] \"uscar_imt_120_max\"                \"uscar_imt_150_max\"               \n",
       "[655] \"uscar_imt_210_max\"                \"uscar_imt_240_max\"               \n",
       "[657] \"max_art_stiffness\"                \"ecg_dataset1\"                    \n",
       "[659] \"ecg_dataset2\"                     \"mri_scout_img1\"                  \n",
       "[661] \"mri_scout_img2\"                   \"mri_short_axis_img1\"             \n",
       "[663] \"mri_short_axis_img2\"              \"mri_lv_out_img1\"                 \n",
       "[665] \"mri_lv_out_img2\"                  \"mri_long_axis_img1\"              \n",
       "[667] \"mri_long_axis_img2\"               \"diet_meat\"                       \n",
       "[669] \"diet_oily_fish\"                   \"diet_nonoily_fish\"               \n",
       "[671] \"diet_cooked_veg\"                  \"diet_raw_veg\"                    \n",
       "[673] \"famh_hd_sa\"                       \"famh_cad\"                        \n",
       "[675] \"famh_stroke_sa\"                   \"famh_stroke\"                     \n",
       "[677] \"famh_dm_sa\"                       \"famh_dm\"                         \n",
       "[679] \"famh_ht_sa\"                       \"famh_cancer_sa\"                  \n",
       "[681] \"famh_cancer\"                      \"famh_death_sa\"                   \n",
       "[683] \"tc\"                               \"ldl\"                             \n",
       "[685] \"hdl\"                              \"tg\"                              \n",
       "[687] \"apoa\"                             \"apob\"                            \n",
       "[689] \"lpa\"                              \"crp\"                             \n",
       "[691] \"gluc\"                             \"hba1c\"                           \n",
       "[693] \"ast\"                              \"alt\"                             \n",
       "[695] \"ggt\"                              \"bili_total\"                      \n",
       "[697] \"bili_direct\"                      \"creat\"                           \n",
       "[699] \"microalb\"                         \"ldl_fw\"                          \n",
       "[701] \"nonhdl\"                           \"lpa_cat\"                         \n",
       "[703] \"ATC_A\"                            \"ATC_B\"                           \n",
       "[705] \"ATC_C\"                            \"ATC_D\"                           \n",
       "[707] \"ATC_G\"                            \"ATC_H\"                           \n",
       "[709] \"ATC_J\"                            \"ATC_L\"                           \n",
       "[711] \"ATC_M\"                            \"ATC_P\"                           \n",
       "[713] \"ATC_R\"                            \"ATC_S\"                           \n",
       "[715] \"ATC_V\"                            \"statin\"                          \n",
       "[717] \"ezetimibe\"                        \"pcsk9\"                           \n",
       "[719] \"fibrate\"                          \"bas\"                             \n",
       "[721] \"niacin\"                           \"n3fa\"                            \n",
       "[723] \"glm\"                              \"insulin\"                         \n",
       "[725] \"arb\"                              \"anticoag\"                        \n",
       "[727] \"diuretic\"                         \"ccb\"                             \n",
       "[729] \"bb\"                               \"antiplatelet\"                    \n",
       "[731] \"acei\"                             \"thr\"                             \n",
       "[733] \"anti_ht\"                          \"LDLR\"                            \n",
       "[735] \"APOB\"                             \"PCSK9\"                           \n",
       "[737] \"ANY\"                             "
      ]
     },
     "metadata": {},
     "output_type": "display_data"
    }
   ],
   "source": [
    "colnames(prepared_dataset)"
   ]
  },
  {
   "cell_type": "markdown",
   "id": "74df4323",
   "metadata": {},
   "source": [
    "# 4. Feature Engineering \n",
    "\n",
    "## 4.1 Load dataset"
   ]
  },
  {
   "cell_type": "code",
   "execution_count": 26,
   "id": "c7a65b93",
   "metadata": {},
   "outputs": [],
   "source": [
    "prepared_dataset <- readRDS(\"prepared_dataset.rds\")"
   ]
  },
  {
   "cell_type": "markdown",
   "id": "661009b8",
   "metadata": {},
   "source": [
    "## 4.2 Remove original columns from UK Biobank and \"image\" columns (we do not need them for this analysis)"
   ]
  },
  {
   "cell_type": "code",
   "execution_count": 27,
   "id": "e58bc8ab",
   "metadata": {},
   "outputs": [
    {
     "data": {
      "text/html": [
       "<style>\n",
       ".list-inline {list-style: none; margin:0; padding: 0}\n",
       ".list-inline>li {display: inline-block}\n",
       ".list-inline>li:not(:last-child)::after {content: \"\\00b7\"; padding: 0 .5ex}\n",
       "</style>\n",
       "<ol class=list-inline><li>'eid'</li><li>'gender'</li><li>'country'</li><li>'ethnicity'</li><li>'occupation'</li><li>'education'</li><li>'education_tmp'</li><li>'dob'</li><li>'age'</li><li>'waist'</li><li>'weight'</li><li>'bmi'</li><li>'bmi_cat'</li><li>'height'</li><li>'sbp'</li><li>'dbp'</li><li>'hr'</li><li>'alcohol'</li><li>'smoking'</li><li>'smoking_py'</li><li>'smoking_start'</li><li>'smoking_quit'</li><li>'smoking_time'</li><li>'activity_computer'</li><li>'activity_tv'</li><li>'diabetes2_dx'</li><li>'diabetes2_age'</li><li>'diabetesAny_dx'</li><li>'diabetesAny_age'</li><li>'liver_dx'</li><li>'liver_age'</li><li>'renal_dx'</li><li>'renal_age'</li><li>'pure_hyperchol_dx'</li><li>'pure_hyperchol_age'</li><li>'ht_dx'</li><li>'ht_age'</li><li>'ht_heart_dx'</li><li>'ht_heart_age'</li><li>'ht_renal_dx'</li><li>'ht_renal_age'</li><li>'mi_dx'</li><li>'mi_age'</li><li>'angina_dx'</li><li>'angina_age'</li><li>'cad_dx'</li><li>'cad_age'</li><li>'aneurism_dx'</li><li>'aneurism_age'</li><li>'pad_dx'</li><li>'pad_age'</li><li>'cardiac_arrest_dx'</li><li>'cardiac_arrest_age'</li><li>'hf_dx'</li><li>'hf_age'</li><li>'stroke_dx'</li><li>'stroke_age'</li><li>'cbvd_dx'</li><li>'cbvd_age'</li><li>'cvd_dx'</li><li>'cvd_age'</li><li>'ascvd_dx'</li><li>'ascvd_age'</li><li>'lipid_storage_disorder_dx'</li><li>'lipid_storage_disorder_age'</li><li>'psoriasis_dx'</li><li>'psoriasis_age'</li><li>'heart_percutaneous_procedures'</li><li>'arteries_op'</li><li>'arteries_percutaneous_procedures'</li><li>'vein_op'</li><li>'uscar_imt_120_max'</li><li>'uscar_imt_150_max'</li><li>'uscar_imt_210_max'</li><li>'uscar_imt_240_max'</li><li>'max_art_stiffness'</li><li>'diet_meat'</li><li>'diet_oily_fish'</li><li>'diet_nonoily_fish'</li><li>'diet_cooked_veg'</li><li>'diet_raw_veg'</li><li>'famh_hd_sa'</li><li>'famh_cad'</li><li>'famh_stroke_sa'</li><li>'famh_stroke'</li><li>'famh_dm_sa'</li><li>'famh_dm'</li><li>'famh_ht_sa'</li><li>'famh_cancer_sa'</li><li>'famh_cancer'</li><li>'famh_death_sa'</li><li>'tc'</li><li>'ldl'</li><li>'hdl'</li><li>'tg'</li><li>'apoa'</li><li>'apob'</li><li>'lpa'</li><li>'crp'</li><li>'gluc'</li><li>'hba1c'</li><li>'ast'</li><li>'alt'</li><li>'ggt'</li><li>'bili_total'</li><li>'bili_direct'</li><li>'creat'</li><li>'microalb'</li><li>'ldl_fw'</li><li>'nonhdl'</li><li>'lpa_cat'</li><li>'ATC_A'</li><li>'ATC_B'</li><li>'ATC_C'</li><li>'ATC_D'</li><li>'ATC_G'</li><li>'ATC_H'</li><li>'ATC_J'</li><li>'ATC_L'</li><li>'ATC_M'</li><li>'ATC_P'</li><li>'ATC_R'</li><li>'ATC_S'</li><li>'ATC_V'</li><li>'statin'</li><li>'ezetimibe'</li><li>'pcsk9'</li><li>'fibrate'</li><li>'bas'</li><li>'niacin'</li><li>'n3fa'</li><li>'glm'</li><li>'insulin'</li><li>'arb'</li><li>'anticoag'</li><li>'diuretic'</li><li>'ccb'</li><li>'bb'</li><li>'antiplatelet'</li><li>'acei'</li><li>'thr'</li><li>'anti_ht'</li><li>'LDLR'</li><li>'APOB'</li><li>'PCSK9'</li><li>'ANY'</li></ol>\n"
      ],
      "text/latex": [
       "\\begin{enumerate*}\n",
       "\\item 'eid'\n",
       "\\item 'gender'\n",
       "\\item 'country'\n",
       "\\item 'ethnicity'\n",
       "\\item 'occupation'\n",
       "\\item 'education'\n",
       "\\item 'education\\_tmp'\n",
       "\\item 'dob'\n",
       "\\item 'age'\n",
       "\\item 'waist'\n",
       "\\item 'weight'\n",
       "\\item 'bmi'\n",
       "\\item 'bmi\\_cat'\n",
       "\\item 'height'\n",
       "\\item 'sbp'\n",
       "\\item 'dbp'\n",
       "\\item 'hr'\n",
       "\\item 'alcohol'\n",
       "\\item 'smoking'\n",
       "\\item 'smoking\\_py'\n",
       "\\item 'smoking\\_start'\n",
       "\\item 'smoking\\_quit'\n",
       "\\item 'smoking\\_time'\n",
       "\\item 'activity\\_computer'\n",
       "\\item 'activity\\_tv'\n",
       "\\item 'diabetes2\\_dx'\n",
       "\\item 'diabetes2\\_age'\n",
       "\\item 'diabetesAny\\_dx'\n",
       "\\item 'diabetesAny\\_age'\n",
       "\\item 'liver\\_dx'\n",
       "\\item 'liver\\_age'\n",
       "\\item 'renal\\_dx'\n",
       "\\item 'renal\\_age'\n",
       "\\item 'pure\\_hyperchol\\_dx'\n",
       "\\item 'pure\\_hyperchol\\_age'\n",
       "\\item 'ht\\_dx'\n",
       "\\item 'ht\\_age'\n",
       "\\item 'ht\\_heart\\_dx'\n",
       "\\item 'ht\\_heart\\_age'\n",
       "\\item 'ht\\_renal\\_dx'\n",
       "\\item 'ht\\_renal\\_age'\n",
       "\\item 'mi\\_dx'\n",
       "\\item 'mi\\_age'\n",
       "\\item 'angina\\_dx'\n",
       "\\item 'angina\\_age'\n",
       "\\item 'cad\\_dx'\n",
       "\\item 'cad\\_age'\n",
       "\\item 'aneurism\\_dx'\n",
       "\\item 'aneurism\\_age'\n",
       "\\item 'pad\\_dx'\n",
       "\\item 'pad\\_age'\n",
       "\\item 'cardiac\\_arrest\\_dx'\n",
       "\\item 'cardiac\\_arrest\\_age'\n",
       "\\item 'hf\\_dx'\n",
       "\\item 'hf\\_age'\n",
       "\\item 'stroke\\_dx'\n",
       "\\item 'stroke\\_age'\n",
       "\\item 'cbvd\\_dx'\n",
       "\\item 'cbvd\\_age'\n",
       "\\item 'cvd\\_dx'\n",
       "\\item 'cvd\\_age'\n",
       "\\item 'ascvd\\_dx'\n",
       "\\item 'ascvd\\_age'\n",
       "\\item 'lipid\\_storage\\_disorder\\_dx'\n",
       "\\item 'lipid\\_storage\\_disorder\\_age'\n",
       "\\item 'psoriasis\\_dx'\n",
       "\\item 'psoriasis\\_age'\n",
       "\\item 'heart\\_percutaneous\\_procedures'\n",
       "\\item 'arteries\\_op'\n",
       "\\item 'arteries\\_percutaneous\\_procedures'\n",
       "\\item 'vein\\_op'\n",
       "\\item 'uscar\\_imt\\_120\\_max'\n",
       "\\item 'uscar\\_imt\\_150\\_max'\n",
       "\\item 'uscar\\_imt\\_210\\_max'\n",
       "\\item 'uscar\\_imt\\_240\\_max'\n",
       "\\item 'max\\_art\\_stiffness'\n",
       "\\item 'diet\\_meat'\n",
       "\\item 'diet\\_oily\\_fish'\n",
       "\\item 'diet\\_nonoily\\_fish'\n",
       "\\item 'diet\\_cooked\\_veg'\n",
       "\\item 'diet\\_raw\\_veg'\n",
       "\\item 'famh\\_hd\\_sa'\n",
       "\\item 'famh\\_cad'\n",
       "\\item 'famh\\_stroke\\_sa'\n",
       "\\item 'famh\\_stroke'\n",
       "\\item 'famh\\_dm\\_sa'\n",
       "\\item 'famh\\_dm'\n",
       "\\item 'famh\\_ht\\_sa'\n",
       "\\item 'famh\\_cancer\\_sa'\n",
       "\\item 'famh\\_cancer'\n",
       "\\item 'famh\\_death\\_sa'\n",
       "\\item 'tc'\n",
       "\\item 'ldl'\n",
       "\\item 'hdl'\n",
       "\\item 'tg'\n",
       "\\item 'apoa'\n",
       "\\item 'apob'\n",
       "\\item 'lpa'\n",
       "\\item 'crp'\n",
       "\\item 'gluc'\n",
       "\\item 'hba1c'\n",
       "\\item 'ast'\n",
       "\\item 'alt'\n",
       "\\item 'ggt'\n",
       "\\item 'bili\\_total'\n",
       "\\item 'bili\\_direct'\n",
       "\\item 'creat'\n",
       "\\item 'microalb'\n",
       "\\item 'ldl\\_fw'\n",
       "\\item 'nonhdl'\n",
       "\\item 'lpa\\_cat'\n",
       "\\item 'ATC\\_A'\n",
       "\\item 'ATC\\_B'\n",
       "\\item 'ATC\\_C'\n",
       "\\item 'ATC\\_D'\n",
       "\\item 'ATC\\_G'\n",
       "\\item 'ATC\\_H'\n",
       "\\item 'ATC\\_J'\n",
       "\\item 'ATC\\_L'\n",
       "\\item 'ATC\\_M'\n",
       "\\item 'ATC\\_P'\n",
       "\\item 'ATC\\_R'\n",
       "\\item 'ATC\\_S'\n",
       "\\item 'ATC\\_V'\n",
       "\\item 'statin'\n",
       "\\item 'ezetimibe'\n",
       "\\item 'pcsk9'\n",
       "\\item 'fibrate'\n",
       "\\item 'bas'\n",
       "\\item 'niacin'\n",
       "\\item 'n3fa'\n",
       "\\item 'glm'\n",
       "\\item 'insulin'\n",
       "\\item 'arb'\n",
       "\\item 'anticoag'\n",
       "\\item 'diuretic'\n",
       "\\item 'ccb'\n",
       "\\item 'bb'\n",
       "\\item 'antiplatelet'\n",
       "\\item 'acei'\n",
       "\\item 'thr'\n",
       "\\item 'anti\\_ht'\n",
       "\\item 'LDLR'\n",
       "\\item 'APOB'\n",
       "\\item 'PCSK9'\n",
       "\\item 'ANY'\n",
       "\\end{enumerate*}\n"
      ],
      "text/markdown": [
       "1. 'eid'\n",
       "2. 'gender'\n",
       "3. 'country'\n",
       "4. 'ethnicity'\n",
       "5. 'occupation'\n",
       "6. 'education'\n",
       "7. 'education_tmp'\n",
       "8. 'dob'\n",
       "9. 'age'\n",
       "10. 'waist'\n",
       "11. 'weight'\n",
       "12. 'bmi'\n",
       "13. 'bmi_cat'\n",
       "14. 'height'\n",
       "15. 'sbp'\n",
       "16. 'dbp'\n",
       "17. 'hr'\n",
       "18. 'alcohol'\n",
       "19. 'smoking'\n",
       "20. 'smoking_py'\n",
       "21. 'smoking_start'\n",
       "22. 'smoking_quit'\n",
       "23. 'smoking_time'\n",
       "24. 'activity_computer'\n",
       "25. 'activity_tv'\n",
       "26. 'diabetes2_dx'\n",
       "27. 'diabetes2_age'\n",
       "28. 'diabetesAny_dx'\n",
       "29. 'diabetesAny_age'\n",
       "30. 'liver_dx'\n",
       "31. 'liver_age'\n",
       "32. 'renal_dx'\n",
       "33. 'renal_age'\n",
       "34. 'pure_hyperchol_dx'\n",
       "35. 'pure_hyperchol_age'\n",
       "36. 'ht_dx'\n",
       "37. 'ht_age'\n",
       "38. 'ht_heart_dx'\n",
       "39. 'ht_heart_age'\n",
       "40. 'ht_renal_dx'\n",
       "41. 'ht_renal_age'\n",
       "42. 'mi_dx'\n",
       "43. 'mi_age'\n",
       "44. 'angina_dx'\n",
       "45. 'angina_age'\n",
       "46. 'cad_dx'\n",
       "47. 'cad_age'\n",
       "48. 'aneurism_dx'\n",
       "49. 'aneurism_age'\n",
       "50. 'pad_dx'\n",
       "51. 'pad_age'\n",
       "52. 'cardiac_arrest_dx'\n",
       "53. 'cardiac_arrest_age'\n",
       "54. 'hf_dx'\n",
       "55. 'hf_age'\n",
       "56. 'stroke_dx'\n",
       "57. 'stroke_age'\n",
       "58. 'cbvd_dx'\n",
       "59. 'cbvd_age'\n",
       "60. 'cvd_dx'\n",
       "61. 'cvd_age'\n",
       "62. 'ascvd_dx'\n",
       "63. 'ascvd_age'\n",
       "64. 'lipid_storage_disorder_dx'\n",
       "65. 'lipid_storage_disorder_age'\n",
       "66. 'psoriasis_dx'\n",
       "67. 'psoriasis_age'\n",
       "68. 'heart_percutaneous_procedures'\n",
       "69. 'arteries_op'\n",
       "70. 'arteries_percutaneous_procedures'\n",
       "71. 'vein_op'\n",
       "72. 'uscar_imt_120_max'\n",
       "73. 'uscar_imt_150_max'\n",
       "74. 'uscar_imt_210_max'\n",
       "75. 'uscar_imt_240_max'\n",
       "76. 'max_art_stiffness'\n",
       "77. 'diet_meat'\n",
       "78. 'diet_oily_fish'\n",
       "79. 'diet_nonoily_fish'\n",
       "80. 'diet_cooked_veg'\n",
       "81. 'diet_raw_veg'\n",
       "82. 'famh_hd_sa'\n",
       "83. 'famh_cad'\n",
       "84. 'famh_stroke_sa'\n",
       "85. 'famh_stroke'\n",
       "86. 'famh_dm_sa'\n",
       "87. 'famh_dm'\n",
       "88. 'famh_ht_sa'\n",
       "89. 'famh_cancer_sa'\n",
       "90. 'famh_cancer'\n",
       "91. 'famh_death_sa'\n",
       "92. 'tc'\n",
       "93. 'ldl'\n",
       "94. 'hdl'\n",
       "95. 'tg'\n",
       "96. 'apoa'\n",
       "97. 'apob'\n",
       "98. 'lpa'\n",
       "99. 'crp'\n",
       "100. 'gluc'\n",
       "101. 'hba1c'\n",
       "102. 'ast'\n",
       "103. 'alt'\n",
       "104. 'ggt'\n",
       "105. 'bili_total'\n",
       "106. 'bili_direct'\n",
       "107. 'creat'\n",
       "108. 'microalb'\n",
       "109. 'ldl_fw'\n",
       "110. 'nonhdl'\n",
       "111. 'lpa_cat'\n",
       "112. 'ATC_A'\n",
       "113. 'ATC_B'\n",
       "114. 'ATC_C'\n",
       "115. 'ATC_D'\n",
       "116. 'ATC_G'\n",
       "117. 'ATC_H'\n",
       "118. 'ATC_J'\n",
       "119. 'ATC_L'\n",
       "120. 'ATC_M'\n",
       "121. 'ATC_P'\n",
       "122. 'ATC_R'\n",
       "123. 'ATC_S'\n",
       "124. 'ATC_V'\n",
       "125. 'statin'\n",
       "126. 'ezetimibe'\n",
       "127. 'pcsk9'\n",
       "128. 'fibrate'\n",
       "129. 'bas'\n",
       "130. 'niacin'\n",
       "131. 'n3fa'\n",
       "132. 'glm'\n",
       "133. 'insulin'\n",
       "134. 'arb'\n",
       "135. 'anticoag'\n",
       "136. 'diuretic'\n",
       "137. 'ccb'\n",
       "138. 'bb'\n",
       "139. 'antiplatelet'\n",
       "140. 'acei'\n",
       "141. 'thr'\n",
       "142. 'anti_ht'\n",
       "143. 'LDLR'\n",
       "144. 'APOB'\n",
       "145. 'PCSK9'\n",
       "146. 'ANY'\n",
       "\n",
       "\n"
      ],
      "text/plain": [
       "  [1] \"eid\"                              \"gender\"                          \n",
       "  [3] \"country\"                          \"ethnicity\"                       \n",
       "  [5] \"occupation\"                       \"education\"                       \n",
       "  [7] \"education_tmp\"                    \"dob\"                             \n",
       "  [9] \"age\"                              \"waist\"                           \n",
       " [11] \"weight\"                           \"bmi\"                             \n",
       " [13] \"bmi_cat\"                          \"height\"                          \n",
       " [15] \"sbp\"                              \"dbp\"                             \n",
       " [17] \"hr\"                               \"alcohol\"                         \n",
       " [19] \"smoking\"                          \"smoking_py\"                      \n",
       " [21] \"smoking_start\"                    \"smoking_quit\"                    \n",
       " [23] \"smoking_time\"                     \"activity_computer\"               \n",
       " [25] \"activity_tv\"                      \"diabetes2_dx\"                    \n",
       " [27] \"diabetes2_age\"                    \"diabetesAny_dx\"                  \n",
       " [29] \"diabetesAny_age\"                  \"liver_dx\"                        \n",
       " [31] \"liver_age\"                        \"renal_dx\"                        \n",
       " [33] \"renal_age\"                        \"pure_hyperchol_dx\"               \n",
       " [35] \"pure_hyperchol_age\"               \"ht_dx\"                           \n",
       " [37] \"ht_age\"                           \"ht_heart_dx\"                     \n",
       " [39] \"ht_heart_age\"                     \"ht_renal_dx\"                     \n",
       " [41] \"ht_renal_age\"                     \"mi_dx\"                           \n",
       " [43] \"mi_age\"                           \"angina_dx\"                       \n",
       " [45] \"angina_age\"                       \"cad_dx\"                          \n",
       " [47] \"cad_age\"                          \"aneurism_dx\"                     \n",
       " [49] \"aneurism_age\"                     \"pad_dx\"                          \n",
       " [51] \"pad_age\"                          \"cardiac_arrest_dx\"               \n",
       " [53] \"cardiac_arrest_age\"               \"hf_dx\"                           \n",
       " [55] \"hf_age\"                           \"stroke_dx\"                       \n",
       " [57] \"stroke_age\"                       \"cbvd_dx\"                         \n",
       " [59] \"cbvd_age\"                         \"cvd_dx\"                          \n",
       " [61] \"cvd_age\"                          \"ascvd_dx\"                        \n",
       " [63] \"ascvd_age\"                        \"lipid_storage_disorder_dx\"       \n",
       " [65] \"lipid_storage_disorder_age\"       \"psoriasis_dx\"                    \n",
       " [67] \"psoriasis_age\"                    \"heart_percutaneous_procedures\"   \n",
       " [69] \"arteries_op\"                      \"arteries_percutaneous_procedures\"\n",
       " [71] \"vein_op\"                          \"uscar_imt_120_max\"               \n",
       " [73] \"uscar_imt_150_max\"                \"uscar_imt_210_max\"               \n",
       " [75] \"uscar_imt_240_max\"                \"max_art_stiffness\"               \n",
       " [77] \"diet_meat\"                        \"diet_oily_fish\"                  \n",
       " [79] \"diet_nonoily_fish\"                \"diet_cooked_veg\"                 \n",
       " [81] \"diet_raw_veg\"                     \"famh_hd_sa\"                      \n",
       " [83] \"famh_cad\"                         \"famh_stroke_sa\"                  \n",
       " [85] \"famh_stroke\"                      \"famh_dm_sa\"                      \n",
       " [87] \"famh_dm\"                          \"famh_ht_sa\"                      \n",
       " [89] \"famh_cancer_sa\"                   \"famh_cancer\"                     \n",
       " [91] \"famh_death_sa\"                    \"tc\"                              \n",
       " [93] \"ldl\"                              \"hdl\"                             \n",
       " [95] \"tg\"                               \"apoa\"                            \n",
       " [97] \"apob\"                             \"lpa\"                             \n",
       " [99] \"crp\"                              \"gluc\"                            \n",
       "[101] \"hba1c\"                            \"ast\"                             \n",
       "[103] \"alt\"                              \"ggt\"                             \n",
       "[105] \"bili_total\"                       \"bili_direct\"                     \n",
       "[107] \"creat\"                            \"microalb\"                        \n",
       "[109] \"ldl_fw\"                           \"nonhdl\"                          \n",
       "[111] \"lpa_cat\"                          \"ATC_A\"                           \n",
       "[113] \"ATC_B\"                            \"ATC_C\"                           \n",
       "[115] \"ATC_D\"                            \"ATC_G\"                           \n",
       "[117] \"ATC_H\"                            \"ATC_J\"                           \n",
       "[119] \"ATC_L\"                            \"ATC_M\"                           \n",
       "[121] \"ATC_P\"                            \"ATC_R\"                           \n",
       "[123] \"ATC_S\"                            \"ATC_V\"                           \n",
       "[125] \"statin\"                           \"ezetimibe\"                       \n",
       "[127] \"pcsk9\"                            \"fibrate\"                         \n",
       "[129] \"bas\"                              \"niacin\"                          \n",
       "[131] \"n3fa\"                             \"glm\"                             \n",
       "[133] \"insulin\"                          \"arb\"                             \n",
       "[135] \"anticoag\"                         \"diuretic\"                        \n",
       "[137] \"ccb\"                              \"bb\"                              \n",
       "[139] \"antiplatelet\"                     \"acei\"                            \n",
       "[141] \"thr\"                              \"anti_ht\"                         \n",
       "[143] \"LDLR\"                             \"APOB\"                            \n",
       "[145] \"PCSK9\"                            \"ANY\"                             "
      ]
     },
     "metadata": {},
     "output_type": "display_data"
    }
   ],
   "source": [
    "cols_remove <- colnames(prepared_dataset)[grep(\"^((p[0-9]{1,7}(_[ai0-9]{0,10}){0,1}(_[ai0-9]{0,10}){0,1})|(.*img.*)|(.*dataset.*))$\", colnames(prepared_dataset)) ]\n",
    "prepared_dataset[ , cols_remove ] <- NULL\n",
    "colnames(prepared_dataset)"
   ]
  },
  {
   "cell_type": "markdown",
   "id": "0bfa2af4",
   "metadata": {},
   "source": [
    "## 4.3 Derive the \"disease\" columns"
   ]
  },
  {
   "cell_type": "code",
   "execution_count": 28,
   "id": "27cf7bdc",
   "metadata": {},
   "outputs": [],
   "source": [
    "cols_disease <- colnames(prepared_dataset)[grep(\"^.*_dx$\", colnames(prepared_dataset)) ]\n",
    "cols_age     <- gsub(\"_dx\",\"_age\", cols_disease)\n",
    "cols         <- gsub(\"_dx\",\"\", cols_disease)\n",
    "df           <- data.frame(dx = cols_disease, age = cols_age, col = cols )\n",
    "gender       <-  prepared_dataset[, \"gender\"]\n",
    "for (cdisease in 1:nrow(df)){\n",
    "    disease <- prepared_dataset[, df[cdisease, \"dx\"]]\n",
    "    onset   <- prepared_dataset[, df[cdisease, \"age\"]]\n",
    "    prepared_dataset[, df[cdisease, \"col\"]]  <- ifelse(   disease == \"no\", \n",
    "                                                           \"no disease\", \n",
    "                                                           ifelse(disease == \"yes\",  \n",
    "                                                                  ifelse(gender == \"Female\",  \n",
    "                                                                         ifelse(onset < 60, \n",
    "                                                                                \"premature disease\", \n",
    "                                                                                ifelse(onset >= 60, \n",
    "                                                                                        \"disease non-premature\",\n",
    "                                                                                        \"disease onset unknown\")),\n",
    "                                                                          ifelse(gender == \"Male\",   \n",
    "                                                                                ifelse(onset < 55, \n",
    "                                                                                        \"premature disease\", \n",
    "                                                                                        ifelse(onset >= 55, \n",
    "                                                                                               \"disease non-premature\",\n",
    "                                                                                               \"disease onset unknown\")),\n",
    "                                                                                \"disease onset unknown\")),\n",
    "                                                                    NA))\n",
    "    prepared_dataset[, df[cdisease, \"col\"]] <- as.factor(prepared_dataset[, df[cdisease, \"col\"]] )\n",
    "}"
   ]
  },
  {
   "cell_type": "markdown",
   "id": "f8d8b3e6",
   "metadata": {},
   "source": [
    " Check values"
   ]
  },
  {
   "cell_type": "code",
   "execution_count": 29,
   "id": "5d903006",
   "metadata": {},
   "outputs": [
    {
     "data": {
      "text/html": [
       "<table class=\"dataframe\">\n",
       "<caption>A tibble: 2 × 3</caption>\n",
       "<thead>\n",
       "\t<tr><th scope=col>gender</th><th scope=col>minage</th><th scope=col>maxage</th></tr>\n",
       "\t<tr><th scope=col>&lt;fct&gt;</th><th scope=col>&lt;dbl&gt;</th><th scope=col>&lt;dbl&gt;</th></tr>\n",
       "</thead>\n",
       "<tbody>\n",
       "\t<tr><td>Female</td><td>28</td><td>59</td></tr>\n",
       "\t<tr><td>Male  </td><td>29</td><td>54</td></tr>\n",
       "</tbody>\n",
       "</table>\n"
      ],
      "text/latex": [
       "A tibble: 2 × 3\n",
       "\\begin{tabular}{lll}\n",
       " gender & minage & maxage\\\\\n",
       " <fct> & <dbl> & <dbl>\\\\\n",
       "\\hline\n",
       "\t Female & 28 & 59\\\\\n",
       "\t Male   & 29 & 54\\\\\n",
       "\\end{tabular}\n"
      ],
      "text/markdown": [
       "\n",
       "A tibble: 2 × 3\n",
       "\n",
       "| gender &lt;fct&gt; | minage &lt;dbl&gt; | maxage &lt;dbl&gt; |\n",
       "|---|---|---|\n",
       "| Female | 28 | 59 |\n",
       "| Male   | 29 | 54 |\n",
       "\n"
      ],
      "text/plain": [
       "  gender minage maxage\n",
       "1 Female 28     59    \n",
       "2 Male   29     54    "
      ]
     },
     "metadata": {},
     "output_type": "display_data"
    }
   ],
   "source": [
    "require(dplyr)\n",
    "subset(prepared_dataset[, c(\"gender\", \"diabetes2_dx\",\"diabetes2\",\"diabetes2_age\")],diabetes2 == \"premature disease\") %>% group_by(gender) %>% summarise(minage=min(diabetes2_age),maxage=max(diabetes2_age))"
   ]
  },
  {
   "cell_type": "markdown",
   "id": "4a19b884",
   "metadata": {},
   "source": [
    "Remove intermediate variables"
   ]
  },
  {
   "cell_type": "code",
   "execution_count": 30,
   "id": "c7386bec",
   "metadata": {},
   "outputs": [],
   "source": [
    "prepared_dataset$education_tmp <- NULL\n",
    "prepared_dataset[, grepl(\"_dx\", colnames(prepared_dataset))] <- NULL\n",
    "prepared_dataset[, grepl(\"_age\", colnames(prepared_dataset))] <- NULL\n",
    "prepared_dataset[,\"eid\"] <- NULL\n",
    "#colnames(prepared_dataset)"
   ]
  },
  {
   "cell_type": "markdown",
   "id": "6f878aae",
   "metadata": {},
   "source": [
    "## 4.4 Remove column with more than 20% missing"
   ]
  },
  {
   "cell_type": "code",
   "execution_count": 31,
   "id": "a4e7ba24",
   "metadata": {},
   "outputs": [
    {
     "data": {
      "text/html": [
       "<style>\n",
       ".list-inline {list-style: none; margin:0; padding: 0}\n",
       ".list-inline>li {display: inline-block}\n",
       ".list-inline>li:not(:last-child)::after {content: \"\\00b7\"; padding: 0 .5ex}\n",
       "</style>\n",
       "<ol class=list-inline><li>'gender'</li><li>'country'</li><li>'ethnicity'</li><li>'education'</li><li>'dob'</li><li>'age'</li><li>'waist'</li><li>'weight'</li><li>'bmi'</li><li>'bmi_cat'</li><li>'height'</li><li>'sbp'</li><li>'dbp'</li><li>'hr'</li><li>'alcohol'</li><li>'smoking'</li><li>'activity_tv'</li><li>'heart_percutaneous_procedures'</li><li>'arteries_op'</li><li>'arteries_percutaneous_procedures'</li><li>'vein_op'</li><li>'diet_meat'</li><li>'diet_oily_fish'</li><li>'diet_nonoily_fish'</li><li>'diet_cooked_veg'</li><li>'diet_raw_veg'</li><li>'famh_hd_sa'</li><li>'famh_cad'</li><li>'famh_stroke_sa'</li><li>'famh_stroke'</li><li>'famh_dm_sa'</li><li>'famh_dm'</li><li>'famh_ht_sa'</li><li>'famh_cancer_sa'</li><li>'famh_cancer'</li><li>'famh_death_sa'</li><li>'tc'</li><li>'ldl'</li><li>'hdl'</li><li>'tg'</li><li>'apoa'</li><li>'apob'</li><li>'crp'</li><li>'gluc'</li><li>'hba1c'</li><li>'ast'</li><li>'alt'</li><li>'ggt'</li><li>'bili_total'</li><li>'bili_direct'</li><li>'creat'</li><li>'ldl_fw'</li><li>'nonhdl'</li><li>'ATC_A'</li><li>'ATC_B'</li><li>'ATC_C'</li><li>'ATC_D'</li><li>'ATC_G'</li><li>'ATC_H'</li><li>'ATC_J'</li><li>'ATC_L'</li><li>'ATC_M'</li><li>'ATC_P'</li><li>'ATC_R'</li><li>'ATC_S'</li><li>'ATC_V'</li><li>'statin'</li><li>'ezetimibe'</li><li>'pcsk9'</li><li>'fibrate'</li><li>'bas'</li><li>'niacin'</li><li>'n3fa'</li><li>'glm'</li><li>'insulin'</li><li>'arb'</li><li>'anticoag'</li><li>'diuretic'</li><li>'ccb'</li><li>'bb'</li><li>'antiplatelet'</li><li>'acei'</li><li>'thr'</li><li>'anti_ht'</li><li>'LDLR'</li><li>'APOB'</li><li>'PCSK9'</li><li>'ANY'</li><li>'diabetes2'</li><li>'diabetesAny'</li><li>'liver'</li><li>'renal'</li><li>'pure_hyperchol'</li><li>'ht'</li><li>'ht_heart'</li><li>'ht_renal'</li><li>'mi'</li><li>'angina'</li><li>'cad'</li><li>'aneurism'</li><li>'pad'</li><li>'cardiac_arrest'</li><li>'hf'</li><li>'stroke'</li><li>'cbvd'</li><li>'cvd'</li><li>'ascvd'</li><li>'lipid_storage_disorder'</li><li>'psoriasis'</li></ol>\n"
      ],
      "text/latex": [
       "\\begin{enumerate*}\n",
       "\\item 'gender'\n",
       "\\item 'country'\n",
       "\\item 'ethnicity'\n",
       "\\item 'education'\n",
       "\\item 'dob'\n",
       "\\item 'age'\n",
       "\\item 'waist'\n",
       "\\item 'weight'\n",
       "\\item 'bmi'\n",
       "\\item 'bmi\\_cat'\n",
       "\\item 'height'\n",
       "\\item 'sbp'\n",
       "\\item 'dbp'\n",
       "\\item 'hr'\n",
       "\\item 'alcohol'\n",
       "\\item 'smoking'\n",
       "\\item 'activity\\_tv'\n",
       "\\item 'heart\\_percutaneous\\_procedures'\n",
       "\\item 'arteries\\_op'\n",
       "\\item 'arteries\\_percutaneous\\_procedures'\n",
       "\\item 'vein\\_op'\n",
       "\\item 'diet\\_meat'\n",
       "\\item 'diet\\_oily\\_fish'\n",
       "\\item 'diet\\_nonoily\\_fish'\n",
       "\\item 'diet\\_cooked\\_veg'\n",
       "\\item 'diet\\_raw\\_veg'\n",
       "\\item 'famh\\_hd\\_sa'\n",
       "\\item 'famh\\_cad'\n",
       "\\item 'famh\\_stroke\\_sa'\n",
       "\\item 'famh\\_stroke'\n",
       "\\item 'famh\\_dm\\_sa'\n",
       "\\item 'famh\\_dm'\n",
       "\\item 'famh\\_ht\\_sa'\n",
       "\\item 'famh\\_cancer\\_sa'\n",
       "\\item 'famh\\_cancer'\n",
       "\\item 'famh\\_death\\_sa'\n",
       "\\item 'tc'\n",
       "\\item 'ldl'\n",
       "\\item 'hdl'\n",
       "\\item 'tg'\n",
       "\\item 'apoa'\n",
       "\\item 'apob'\n",
       "\\item 'crp'\n",
       "\\item 'gluc'\n",
       "\\item 'hba1c'\n",
       "\\item 'ast'\n",
       "\\item 'alt'\n",
       "\\item 'ggt'\n",
       "\\item 'bili\\_total'\n",
       "\\item 'bili\\_direct'\n",
       "\\item 'creat'\n",
       "\\item 'ldl\\_fw'\n",
       "\\item 'nonhdl'\n",
       "\\item 'ATC\\_A'\n",
       "\\item 'ATC\\_B'\n",
       "\\item 'ATC\\_C'\n",
       "\\item 'ATC\\_D'\n",
       "\\item 'ATC\\_G'\n",
       "\\item 'ATC\\_H'\n",
       "\\item 'ATC\\_J'\n",
       "\\item 'ATC\\_L'\n",
       "\\item 'ATC\\_M'\n",
       "\\item 'ATC\\_P'\n",
       "\\item 'ATC\\_R'\n",
       "\\item 'ATC\\_S'\n",
       "\\item 'ATC\\_V'\n",
       "\\item 'statin'\n",
       "\\item 'ezetimibe'\n",
       "\\item 'pcsk9'\n",
       "\\item 'fibrate'\n",
       "\\item 'bas'\n",
       "\\item 'niacin'\n",
       "\\item 'n3fa'\n",
       "\\item 'glm'\n",
       "\\item 'insulin'\n",
       "\\item 'arb'\n",
       "\\item 'anticoag'\n",
       "\\item 'diuretic'\n",
       "\\item 'ccb'\n",
       "\\item 'bb'\n",
       "\\item 'antiplatelet'\n",
       "\\item 'acei'\n",
       "\\item 'thr'\n",
       "\\item 'anti\\_ht'\n",
       "\\item 'LDLR'\n",
       "\\item 'APOB'\n",
       "\\item 'PCSK9'\n",
       "\\item 'ANY'\n",
       "\\item 'diabetes2'\n",
       "\\item 'diabetesAny'\n",
       "\\item 'liver'\n",
       "\\item 'renal'\n",
       "\\item 'pure\\_hyperchol'\n",
       "\\item 'ht'\n",
       "\\item 'ht\\_heart'\n",
       "\\item 'ht\\_renal'\n",
       "\\item 'mi'\n",
       "\\item 'angina'\n",
       "\\item 'cad'\n",
       "\\item 'aneurism'\n",
       "\\item 'pad'\n",
       "\\item 'cardiac\\_arrest'\n",
       "\\item 'hf'\n",
       "\\item 'stroke'\n",
       "\\item 'cbvd'\n",
       "\\item 'cvd'\n",
       "\\item 'ascvd'\n",
       "\\item 'lipid\\_storage\\_disorder'\n",
       "\\item 'psoriasis'\n",
       "\\end{enumerate*}\n"
      ],
      "text/markdown": [
       "1. 'gender'\n",
       "2. 'country'\n",
       "3. 'ethnicity'\n",
       "4. 'education'\n",
       "5. 'dob'\n",
       "6. 'age'\n",
       "7. 'waist'\n",
       "8. 'weight'\n",
       "9. 'bmi'\n",
       "10. 'bmi_cat'\n",
       "11. 'height'\n",
       "12. 'sbp'\n",
       "13. 'dbp'\n",
       "14. 'hr'\n",
       "15. 'alcohol'\n",
       "16. 'smoking'\n",
       "17. 'activity_tv'\n",
       "18. 'heart_percutaneous_procedures'\n",
       "19. 'arteries_op'\n",
       "20. 'arteries_percutaneous_procedures'\n",
       "21. 'vein_op'\n",
       "22. 'diet_meat'\n",
       "23. 'diet_oily_fish'\n",
       "24. 'diet_nonoily_fish'\n",
       "25. 'diet_cooked_veg'\n",
       "26. 'diet_raw_veg'\n",
       "27. 'famh_hd_sa'\n",
       "28. 'famh_cad'\n",
       "29. 'famh_stroke_sa'\n",
       "30. 'famh_stroke'\n",
       "31. 'famh_dm_sa'\n",
       "32. 'famh_dm'\n",
       "33. 'famh_ht_sa'\n",
       "34. 'famh_cancer_sa'\n",
       "35. 'famh_cancer'\n",
       "36. 'famh_death_sa'\n",
       "37. 'tc'\n",
       "38. 'ldl'\n",
       "39. 'hdl'\n",
       "40. 'tg'\n",
       "41. 'apoa'\n",
       "42. 'apob'\n",
       "43. 'crp'\n",
       "44. 'gluc'\n",
       "45. 'hba1c'\n",
       "46. 'ast'\n",
       "47. 'alt'\n",
       "48. 'ggt'\n",
       "49. 'bili_total'\n",
       "50. 'bili_direct'\n",
       "51. 'creat'\n",
       "52. 'ldl_fw'\n",
       "53. 'nonhdl'\n",
       "54. 'ATC_A'\n",
       "55. 'ATC_B'\n",
       "56. 'ATC_C'\n",
       "57. 'ATC_D'\n",
       "58. 'ATC_G'\n",
       "59. 'ATC_H'\n",
       "60. 'ATC_J'\n",
       "61. 'ATC_L'\n",
       "62. 'ATC_M'\n",
       "63. 'ATC_P'\n",
       "64. 'ATC_R'\n",
       "65. 'ATC_S'\n",
       "66. 'ATC_V'\n",
       "67. 'statin'\n",
       "68. 'ezetimibe'\n",
       "69. 'pcsk9'\n",
       "70. 'fibrate'\n",
       "71. 'bas'\n",
       "72. 'niacin'\n",
       "73. 'n3fa'\n",
       "74. 'glm'\n",
       "75. 'insulin'\n",
       "76. 'arb'\n",
       "77. 'anticoag'\n",
       "78. 'diuretic'\n",
       "79. 'ccb'\n",
       "80. 'bb'\n",
       "81. 'antiplatelet'\n",
       "82. 'acei'\n",
       "83. 'thr'\n",
       "84. 'anti_ht'\n",
       "85. 'LDLR'\n",
       "86. 'APOB'\n",
       "87. 'PCSK9'\n",
       "88. 'ANY'\n",
       "89. 'diabetes2'\n",
       "90. 'diabetesAny'\n",
       "91. 'liver'\n",
       "92. 'renal'\n",
       "93. 'pure_hyperchol'\n",
       "94. 'ht'\n",
       "95. 'ht_heart'\n",
       "96. 'ht_renal'\n",
       "97. 'mi'\n",
       "98. 'angina'\n",
       "99. 'cad'\n",
       "100. 'aneurism'\n",
       "101. 'pad'\n",
       "102. 'cardiac_arrest'\n",
       "103. 'hf'\n",
       "104. 'stroke'\n",
       "105. 'cbvd'\n",
       "106. 'cvd'\n",
       "107. 'ascvd'\n",
       "108. 'lipid_storage_disorder'\n",
       "109. 'psoriasis'\n",
       "\n",
       "\n"
      ],
      "text/plain": [
       "  [1] \"gender\"                           \"country\"                         \n",
       "  [3] \"ethnicity\"                        \"education\"                       \n",
       "  [5] \"dob\"                              \"age\"                             \n",
       "  [7] \"waist\"                            \"weight\"                          \n",
       "  [9] \"bmi\"                              \"bmi_cat\"                         \n",
       " [11] \"height\"                           \"sbp\"                             \n",
       " [13] \"dbp\"                              \"hr\"                              \n",
       " [15] \"alcohol\"                          \"smoking\"                         \n",
       " [17] \"activity_tv\"                      \"heart_percutaneous_procedures\"   \n",
       " [19] \"arteries_op\"                      \"arteries_percutaneous_procedures\"\n",
       " [21] \"vein_op\"                          \"diet_meat\"                       \n",
       " [23] \"diet_oily_fish\"                   \"diet_nonoily_fish\"               \n",
       " [25] \"diet_cooked_veg\"                  \"diet_raw_veg\"                    \n",
       " [27] \"famh_hd_sa\"                       \"famh_cad\"                        \n",
       " [29] \"famh_stroke_sa\"                   \"famh_stroke\"                     \n",
       " [31] \"famh_dm_sa\"                       \"famh_dm\"                         \n",
       " [33] \"famh_ht_sa\"                       \"famh_cancer_sa\"                  \n",
       " [35] \"famh_cancer\"                      \"famh_death_sa\"                   \n",
       " [37] \"tc\"                               \"ldl\"                             \n",
       " [39] \"hdl\"                              \"tg\"                              \n",
       " [41] \"apoa\"                             \"apob\"                            \n",
       " [43] \"crp\"                              \"gluc\"                            \n",
       " [45] \"hba1c\"                            \"ast\"                             \n",
       " [47] \"alt\"                              \"ggt\"                             \n",
       " [49] \"bili_total\"                       \"bili_direct\"                     \n",
       " [51] \"creat\"                            \"ldl_fw\"                          \n",
       " [53] \"nonhdl\"                           \"ATC_A\"                           \n",
       " [55] \"ATC_B\"                            \"ATC_C\"                           \n",
       " [57] \"ATC_D\"                            \"ATC_G\"                           \n",
       " [59] \"ATC_H\"                            \"ATC_J\"                           \n",
       " [61] \"ATC_L\"                            \"ATC_M\"                           \n",
       " [63] \"ATC_P\"                            \"ATC_R\"                           \n",
       " [65] \"ATC_S\"                            \"ATC_V\"                           \n",
       " [67] \"statin\"                           \"ezetimibe\"                       \n",
       " [69] \"pcsk9\"                            \"fibrate\"                         \n",
       " [71] \"bas\"                              \"niacin\"                          \n",
       " [73] \"n3fa\"                             \"glm\"                             \n",
       " [75] \"insulin\"                          \"arb\"                             \n",
       " [77] \"anticoag\"                         \"diuretic\"                        \n",
       " [79] \"ccb\"                              \"bb\"                              \n",
       " [81] \"antiplatelet\"                     \"acei\"                            \n",
       " [83] \"thr\"                              \"anti_ht\"                         \n",
       " [85] \"LDLR\"                             \"APOB\"                            \n",
       " [87] \"PCSK9\"                            \"ANY\"                             \n",
       " [89] \"diabetes2\"                        \"diabetesAny\"                     \n",
       " [91] \"liver\"                            \"renal\"                           \n",
       " [93] \"pure_hyperchol\"                   \"ht\"                              \n",
       " [95] \"ht_heart\"                         \"ht_renal\"                        \n",
       " [97] \"mi\"                               \"angina\"                          \n",
       " [99] \"cad\"                              \"aneurism\"                        \n",
       "[101] \"pad\"                              \"cardiac_arrest\"                  \n",
       "[103] \"hf\"                               \"stroke\"                          \n",
       "[105] \"cbvd\"                             \"cvd\"                             \n",
       "[107] \"ascvd\"                            \"lipid_storage_disorder\"          \n",
       "[109] \"psoriasis\"                       "
      ]
     },
     "metadata": {},
     "output_type": "display_data"
    }
   ],
   "source": [
    "missing_columns <- apply(prepared_dataset, 2, function(x) ( sum(is.na(x))/length(x)> 0.20 ) )\n",
    "cols_remove      <- colnames(prepared_dataset)[missing_columns]\n",
    "prepared_dataset[ , cols_remove ] <- NULL      \n",
    "colnames(prepared_dataset)"
   ]
  },
  {
   "cell_type": "markdown",
   "id": "7de4f792",
   "metadata": {},
   "source": [
    "## 4.5 Set correct types for variables"
   ]
  },
  {
   "cell_type": "code",
   "execution_count": 32,
   "id": "c0a118bc",
   "metadata": {},
   "outputs": [
    {
     "name": "stderr",
     "output_type": "stream",
     "text": [
      "Warning message in eval(expr, envir, enclos):\n",
      "“NAs introduced by coercion”\n",
      "Warning message in eval(expr, envir, enclos):\n",
      "“NAs introduced by coercion”\n"
     ]
    }
   ],
   "source": [
    "prepared_dataset$bmi_cat <- as.factor(prepared_dataset$bmi_cat)\n",
    "prepared_dataset$age_cat <- as.factor(prepared_dataset$age_cat)\n",
    "prepared_dataset$diet_meat <- as.factor(prepared_dataset$diet_meat)\n",
    "prepared_dataset$diet_oily_fish <- as.factor(prepared_dataset$diet_oily_fish)\n",
    "prepared_dataset$diet_nonoily_fish <- as.factor(prepared_dataset$diet_nonoily_fish)\n",
    "prepared_dataset$diet_cooked_veg <- as.numeric(prepared_dataset$diet_cooked_veg)\n",
    "prepared_dataset$diet_raw_veg <- as.numeric(prepared_dataset$diet_raw_veg)\n",
    "prepared_dataset$ANY <- as.factor(prepared_dataset$ANY)\n",
    "prepared_dataset$APOB <- as.factor(prepared_dataset$APOB)\n",
    "prepared_dataset$PCSK9 <- as.factor(prepared_dataset$PCSK9)\n",
    "prepared_dataset$LDLR <- as.factor(prepared_dataset$LDLR)\n",
    "prepared_dataset$bmi_cat <- as.factor(prepared_dataset$bmi_cat)"
   ]
  },
  {
   "cell_type": "markdown",
   "id": "66a2d36d",
   "metadata": {},
   "source": [
    "## 4.6 Replace \"Prefer not to answer\" with null (to decrease the number of rare levels)\n",
    "\n",
    "The motivation for doing so is that we do not want some of our dataset (feature importance/derivation/validation) with different levels of factors. \n",
    "Sinc the overall dataset is 500,000 and we have 10 dataset we want to keep levels at least 10 times in the dataset. "
   ]
  },
  {
   "cell_type": "code",
   "execution_count": 34,
   "id": "a81eeae6",
   "metadata": {},
   "outputs": [],
   "source": [
    "col_factors <- colnames(prepared_dataset)[unlist(lapply(prepared_dataset, is.factor))]\n",
    "for (c in col_factors){\n",
    "    if ( \"Prefer not to answer\" %in% levels(prepared_dataset[,c])){\n",
    "        prepared_dataset[ !is.na(prepared_dataset[,c]) & prepared_dataset[,c]==\"Prefer not to answer\", c] <- NA\n",
    "    }\n",
    "}\n",
    "prepared_dataset <- droplevels(prepared_dataset)"
   ]
  },
  {
   "cell_type": "markdown",
   "id": "ed1c390a",
   "metadata": {},
   "source": [
    "## 4.7 Remove variable with rare levels < 1:50,000; \n"
   ]
  },
  {
   "cell_type": "code",
   "execution_count": 43,
   "id": "96100d20",
   "metadata": {},
   "outputs": [
    {
     "name": "stdout",
     "output_type": "stream",
     "text": [
      "\t PCSK9 \n",
      "1 \n"
     ]
    }
   ],
   "source": [
    "for (c in col_factors){\n",
    "    tbl <- table(prepared_dataset[,c])/nrow(prepared_dataset)\n",
    "    if(length(tbl[tbl<0.00002])!=0){\n",
    "        cat(\"\\t\",c, \"\\n\")\n",
    "        cat(names(tbl[tbl<0.00002]),\"\\n\")\n",
    "    }\n",
    "}"
   ]
  },
  {
   "cell_type": "code",
   "execution_count": 49,
   "id": "5edca190",
   "metadata": {},
   "outputs": [],
   "source": [
    "prepared_dataset$PCSK9             <- NULL\n",
    "prepared_dataset$APOB             <- NULL\n",
    "# remove unused levels\n",
    "prepared_dataset <- droplevels(prepared_dataset)"
   ]
  },
  {
   "cell_type": "markdown",
   "id": "3ab4e0a0",
   "metadata": {},
   "source": [
    "# 5. Perform Data Partitioning"
   ]
  },
  {
   "cell_type": "markdown",
   "id": "d4a7595c",
   "metadata": {},
   "source": [
    "## 5.1 Perform stratification by age (median), sex and FH-carrying status"
   ]
  },
  {
   "cell_type": "code",
   "execution_count": 50,
   "id": "168f69d8",
   "metadata": {},
   "outputs": [
    {
     "name": "stderr",
     "output_type": "stream",
     "text": [
      "\u001b[1m\u001b[22m`summarise()` has grouped output by 'gender', 'age_cat'. You can override using\n",
      "the `.groups` argument.\n"
     ]
    },
    {
     "data": {
      "text/html": [
       "<table class=\"dataframe\">\n",
       "<caption>A grouped_df: 8 × 4</caption>\n",
       "<thead>\n",
       "\t<tr><th scope=col>gender</th><th scope=col>age_cat</th><th scope=col>ANY</th><th scope=col>count</th></tr>\n",
       "\t<tr><th scope=col>&lt;fct&gt;</th><th scope=col>&lt;dbl&gt;</th><th scope=col>&lt;fct&gt;</th><th scope=col>&lt;int&gt;</th></tr>\n",
       "</thead>\n",
       "<tbody>\n",
       "\t<tr><td>Female</td><td>0</td><td>0</td><td>123135</td></tr>\n",
       "\t<tr><td>Female</td><td>0</td><td>1</td><td>   306</td></tr>\n",
       "\t<tr><td>Female</td><td>1</td><td>0</td><td>122835</td></tr>\n",
       "\t<tr><td>Female</td><td>1</td><td>1</td><td>   314</td></tr>\n",
       "\t<tr><td>Male  </td><td>0</td><td>0</td><td> 98974</td></tr>\n",
       "\t<tr><td>Male  </td><td>0</td><td>1</td><td>   200</td></tr>\n",
       "\t<tr><td>Male  </td><td>1</td><td>0</td><td>108734</td></tr>\n",
       "\t<tr><td>Male  </td><td>1</td><td>1</td><td>   212</td></tr>\n",
       "</tbody>\n",
       "</table>\n"
      ],
      "text/latex": [
       "A grouped\\_df: 8 × 4\n",
       "\\begin{tabular}{llll}\n",
       " gender & age\\_cat & ANY & count\\\\\n",
       " <fct> & <dbl> & <fct> & <int>\\\\\n",
       "\\hline\n",
       "\t Female & 0 & 0 & 123135\\\\\n",
       "\t Female & 0 & 1 &    306\\\\\n",
       "\t Female & 1 & 0 & 122835\\\\\n",
       "\t Female & 1 & 1 &    314\\\\\n",
       "\t Male   & 0 & 0 &  98974\\\\\n",
       "\t Male   & 0 & 1 &    200\\\\\n",
       "\t Male   & 1 & 0 & 108734\\\\\n",
       "\t Male   & 1 & 1 &    212\\\\\n",
       "\\end{tabular}\n"
      ],
      "text/markdown": [
       "\n",
       "A grouped_df: 8 × 4\n",
       "\n",
       "| gender &lt;fct&gt; | age_cat &lt;dbl&gt; | ANY &lt;fct&gt; | count &lt;int&gt; |\n",
       "|---|---|---|---|\n",
       "| Female | 0 | 0 | 123135 |\n",
       "| Female | 0 | 1 |    306 |\n",
       "| Female | 1 | 0 | 122835 |\n",
       "| Female | 1 | 1 |    314 |\n",
       "| Male   | 0 | 0 |  98974 |\n",
       "| Male   | 0 | 1 |    200 |\n",
       "| Male   | 1 | 0 | 108734 |\n",
       "| Male   | 1 | 1 |    212 |\n",
       "\n"
      ],
      "text/plain": [
       "  gender age_cat ANY count \n",
       "1 Female 0       0   123135\n",
       "2 Female 0       1      306\n",
       "3 Female 1       0   122835\n",
       "4 Female 1       1      314\n",
       "5 Male   0       0    98974\n",
       "6 Male   0       1      200\n",
       "7 Male   1       0   108734\n",
       "8 Male   1       1      212"
      ]
     },
     "metadata": {},
     "output_type": "display_data"
    }
   ],
   "source": [
    "prepared_dataset$age_cat <- ifelse(prepared_dataset$age < 58, 0, 1)\n",
    "strata <-  prepared_dataset %>% group_by(gender, age_cat,ANY) %>% summarise(count= n())\n",
    "strata "
   ]
  },
  {
   "cell_type": "markdown",
   "id": "5f68bf6b",
   "metadata": {},
   "source": [
    "In each strata, for each patient randomly allocated a number between 1 and 10.  "
   ]
  },
  {
   "cell_type": "code",
   "execution_count": 51,
   "id": "418d8105",
   "metadata": {},
   "outputs": [
    {
     "data": {
      "text/html": [
       "454710"
      ],
      "text/latex": [
       "454710"
      ],
      "text/markdown": [
       "454710"
      ],
      "text/plain": [
       "[1] 454710"
      ]
     },
     "metadata": {},
     "output_type": "display_data"
    }
   ],
   "source": [
    "set.seed(123)\n",
    "\n",
    "attributeFold <- function(data, k){\n",
    "    data <- data[sample(1:nrow(data)), ] # shuffling\n",
    "    eachGrp  <- floor(nrow(data)/k)      # find number of individual in each group\n",
    "    reminder <- nrow(data)-eachGrp*k     # find how many cannot fit in a group \n",
    "    return(c(rep(1:k, eachGrp), sample(1:k, reminder,replace=F)))\n",
    "}\n",
    "\n",
    "k <- 10 \n",
    "datasetList <- list()\n",
    "for (i in 1:nrow(strata)){\n",
    "    sdataset <- subset(prepared_dataset, gender ==  strata[i, \"gender\"]$gender & age_cat == strata[i, \"age_cat\"]$age_cat  & ANY == strata[i, \"ANY\"]$ANY)\n",
    "    sdataset$fold <- attributeFold(sdataset, k)\n",
    "    datasetList[[ length( datasetList ) + 1 ]] <- sdataset\n",
    "}\n",
    "sum(unlist(lapply(datasetList, nrow)))"
   ]
  },
  {
   "cell_type": "markdown",
   "id": "02b5d557",
   "metadata": {},
   "source": [
    "Pull all the data frame together"
   ]
  },
  {
   "cell_type": "code",
   "execution_count": 52,
   "id": "e20621a0",
   "metadata": {},
   "outputs": [
    {
     "data": {
      "text/html": [
       "454710"
      ],
      "text/latex": [
       "454710"
      ],
      "text/markdown": [
       "454710"
      ],
      "text/plain": [
       "[1] 454710"
      ]
     },
     "metadata": {},
     "output_type": "display_data"
    }
   ],
   "source": [
    "merged_data <- do.call(rbind, datasetList)\n",
    "nrow(merged_data )"
   ]
  },
  {
   "cell_type": "code",
   "execution_count": 53,
   "id": "41886bfc",
   "metadata": {},
   "outputs": [
    {
     "data": {
      "text/html": [
       "<table class=\"dataframe\">\n",
       "<caption>A tibble: 10 × 4</caption>\n",
       "<thead>\n",
       "\t<tr><th scope=col>fold</th><th scope=col>gender</th><th scope=col>age_cat</th><th scope=col>ANY</th></tr>\n",
       "\t<tr><th scope=col>&lt;int&gt;</th><th scope=col>&lt;dbl&gt;</th><th scope=col>&lt;dbl&gt;</th><th scope=col>&lt;int&gt;</th></tr>\n",
       "</thead>\n",
       "<tbody>\n",
       "\t<tr><td> 1</td><td>20812</td><td>23209</td><td>102</td></tr>\n",
       "\t<tr><td> 2</td><td>20811</td><td>23208</td><td>103</td></tr>\n",
       "\t<tr><td> 3</td><td>20812</td><td>23209</td><td>104</td></tr>\n",
       "\t<tr><td> 4</td><td>20812</td><td>23208</td><td>102</td></tr>\n",
       "\t<tr><td> 5</td><td>20812</td><td>23211</td><td>103</td></tr>\n",
       "\t<tr><td> 6</td><td>20813</td><td>23211</td><td>103</td></tr>\n",
       "\t<tr><td> 7</td><td>20813</td><td>23211</td><td>105</td></tr>\n",
       "\t<tr><td> 8</td><td>20812</td><td>23210</td><td>103</td></tr>\n",
       "\t<tr><td> 9</td><td>20811</td><td>23209</td><td>104</td></tr>\n",
       "\t<tr><td>10</td><td>20812</td><td>23209</td><td>103</td></tr>\n",
       "</tbody>\n",
       "</table>\n"
      ],
      "text/latex": [
       "A tibble: 10 × 4\n",
       "\\begin{tabular}{llll}\n",
       " fold & gender & age\\_cat & ANY\\\\\n",
       " <int> & <dbl> & <dbl> & <int>\\\\\n",
       "\\hline\n",
       "\t  1 & 20812 & 23209 & 102\\\\\n",
       "\t  2 & 20811 & 23208 & 103\\\\\n",
       "\t  3 & 20812 & 23209 & 104\\\\\n",
       "\t  4 & 20812 & 23208 & 102\\\\\n",
       "\t  5 & 20812 & 23211 & 103\\\\\n",
       "\t  6 & 20813 & 23211 & 103\\\\\n",
       "\t  7 & 20813 & 23211 & 105\\\\\n",
       "\t  8 & 20812 & 23210 & 103\\\\\n",
       "\t  9 & 20811 & 23209 & 104\\\\\n",
       "\t 10 & 20812 & 23209 & 103\\\\\n",
       "\\end{tabular}\n"
      ],
      "text/markdown": [
       "\n",
       "A tibble: 10 × 4\n",
       "\n",
       "| fold &lt;int&gt; | gender &lt;dbl&gt; | age_cat &lt;dbl&gt; | ANY &lt;int&gt; |\n",
       "|---|---|---|---|\n",
       "|  1 | 20812 | 23209 | 102 |\n",
       "|  2 | 20811 | 23208 | 103 |\n",
       "|  3 | 20812 | 23209 | 104 |\n",
       "|  4 | 20812 | 23208 | 102 |\n",
       "|  5 | 20812 | 23211 | 103 |\n",
       "|  6 | 20813 | 23211 | 103 |\n",
       "|  7 | 20813 | 23211 | 105 |\n",
       "|  8 | 20812 | 23210 | 103 |\n",
       "|  9 | 20811 | 23209 | 104 |\n",
       "| 10 | 20812 | 23209 | 103 |\n",
       "\n"
      ],
      "text/plain": [
       "   fold gender age_cat ANY\n",
       "1   1   20812  23209   102\n",
       "2   2   20811  23208   103\n",
       "3   3   20812  23209   104\n",
       "4   4   20812  23208   102\n",
       "5   5   20812  23211   103\n",
       "6   6   20813  23211   103\n",
       "7   7   20813  23211   105\n",
       "8   8   20812  23210   103\n",
       "9   9   20811  23209   104\n",
       "10 10   20812  23209   103"
      ]
     },
     "metadata": {},
     "output_type": "display_data"
    }
   ],
   "source": [
    "merged_data  %>% group_by(fold) %>% summarise(gender = sum(ifelse(gender==\"Male\",1,0)), age_cat = sum(age_cat),ANY = sum(ANY==\"1\"))"
   ]
  },
  {
   "cell_type": "markdown",
   "id": "dfe0a342",
   "metadata": {},
   "source": [
    "## 5.2 Attribute subset of dataset by random/stratified folds to the  3 datasets"
   ]
  },
  {
   "cell_type": "code",
   "execution_count": 54,
   "id": "928c7906",
   "metadata": {},
   "outputs": [],
   "source": [
    "feature_importance_dataset <- subset(merged_data, fold %in% 1:2 )\n",
    "derivation_dataset         <- subset(merged_data, fold %in% 3:8)\n",
    "validation_dataset         <- subset(merged_data, fold %in% 9:10)\n",
    "\n",
    "feature_importance_dataset$fold <- NULL\n",
    "derivation_dataset$fold         <- NULL\n",
    "validation_dataset$fold         <- NULL"
   ]
  },
  {
   "cell_type": "markdown",
   "id": "08906d4d",
   "metadata": {},
   "source": [
    "### 5.2.1 Furter stratify the derivation dataset into 5 folds using (median age, sex, FH-carrying status)"
   ]
  },
  {
   "cell_type": "markdown",
   "id": "8d9650a2",
   "metadata": {},
   "source": [
    "In the derivation dataset we want to assign 5 folds for CV. "
   ]
  },
  {
   "cell_type": "code",
   "execution_count": 55,
   "id": "eb013cdb",
   "metadata": {},
   "outputs": [
    {
     "name": "stderr",
     "output_type": "stream",
     "text": [
      "\u001b[1m\u001b[22m`summarise()` has grouped output by 'gender', 'age_cat'. You can override using\n",
      "the `.groups` argument.\n"
     ]
    },
    {
     "data": {
      "text/html": [
       "<table class=\"dataframe\">\n",
       "<caption>A grouped_df: 8 × 4</caption>\n",
       "<thead>\n",
       "\t<tr><th scope=col>gender</th><th scope=col>age_cat</th><th scope=col>ANY</th><th scope=col>count</th></tr>\n",
       "\t<tr><th scope=col>&lt;fct&gt;</th><th scope=col>&lt;dbl&gt;</th><th scope=col>&lt;fct&gt;</th><th scope=col>&lt;int&gt;</th></tr>\n",
       "</thead>\n",
       "<tbody>\n",
       "\t<tr><td>Female</td><td>0</td><td>0</td><td>73881</td></tr>\n",
       "\t<tr><td>Female</td><td>0</td><td>1</td><td>  183</td></tr>\n",
       "\t<tr><td>Female</td><td>1</td><td>0</td><td>73702</td></tr>\n",
       "\t<tr><td>Female</td><td>1</td><td>1</td><td>  189</td></tr>\n",
       "\t<tr><td>Male  </td><td>0</td><td>0</td><td>59385</td></tr>\n",
       "\t<tr><td>Male  </td><td>0</td><td>1</td><td>  120</td></tr>\n",
       "\t<tr><td>Male  </td><td>1</td><td>0</td><td>65241</td></tr>\n",
       "\t<tr><td>Male  </td><td>1</td><td>1</td><td>  128</td></tr>\n",
       "</tbody>\n",
       "</table>\n"
      ],
      "text/latex": [
       "A grouped\\_df: 8 × 4\n",
       "\\begin{tabular}{llll}\n",
       " gender & age\\_cat & ANY & count\\\\\n",
       " <fct> & <dbl> & <fct> & <int>\\\\\n",
       "\\hline\n",
       "\t Female & 0 & 0 & 73881\\\\\n",
       "\t Female & 0 & 1 &   183\\\\\n",
       "\t Female & 1 & 0 & 73702\\\\\n",
       "\t Female & 1 & 1 &   189\\\\\n",
       "\t Male   & 0 & 0 & 59385\\\\\n",
       "\t Male   & 0 & 1 &   120\\\\\n",
       "\t Male   & 1 & 0 & 65241\\\\\n",
       "\t Male   & 1 & 1 &   128\\\\\n",
       "\\end{tabular}\n"
      ],
      "text/markdown": [
       "\n",
       "A grouped_df: 8 × 4\n",
       "\n",
       "| gender &lt;fct&gt; | age_cat &lt;dbl&gt; | ANY &lt;fct&gt; | count &lt;int&gt; |\n",
       "|---|---|---|---|\n",
       "| Female | 0 | 0 | 73881 |\n",
       "| Female | 0 | 1 |   183 |\n",
       "| Female | 1 | 0 | 73702 |\n",
       "| Female | 1 | 1 |   189 |\n",
       "| Male   | 0 | 0 | 59385 |\n",
       "| Male   | 0 | 1 |   120 |\n",
       "| Male   | 1 | 0 | 65241 |\n",
       "| Male   | 1 | 1 |   128 |\n",
       "\n"
      ],
      "text/plain": [
       "  gender age_cat ANY count\n",
       "1 Female 0       0   73881\n",
       "2 Female 0       1     183\n",
       "3 Female 1       0   73702\n",
       "4 Female 1       1     189\n",
       "5 Male   0       0   59385\n",
       "6 Male   0       1     120\n",
       "7 Male   1       0   65241\n",
       "8 Male   1       1     128"
      ]
     },
     "metadata": {},
     "output_type": "display_data"
    }
   ],
   "source": [
    "strata <-  derivation_dataset %>% group_by(gender, age_cat,ANY) %>% summarise(count= n())\n",
    "strata "
   ]
  },
  {
   "cell_type": "code",
   "execution_count": 56,
   "id": "92c89a9e",
   "metadata": {},
   "outputs": [
    {
     "data": {
      "text/html": [
       "272829"
      ],
      "text/latex": [
       "272829"
      ],
      "text/markdown": [
       "272829"
      ],
      "text/plain": [
       "[1] 272829"
      ]
     },
     "metadata": {},
     "output_type": "display_data"
    },
    {
     "data": {
      "text/html": [
       "272829"
      ],
      "text/latex": [
       "272829"
      ],
      "text/markdown": [
       "272829"
      ],
      "text/plain": [
       "[1] 272829"
      ]
     },
     "metadata": {},
     "output_type": "display_data"
    },
    {
     "data": {
      "text/html": [
       "<table class=\"dataframe\">\n",
       "<caption>A tibble: 5 × 4</caption>\n",
       "<thead>\n",
       "\t<tr><th scope=col>fold</th><th scope=col>gender</th><th scope=col>age_cat</th><th scope=col>ANY</th></tr>\n",
       "\t<tr><th scope=col>&lt;int&gt;</th><th scope=col>&lt;dbl&gt;</th><th scope=col>&lt;dbl&gt;</th><th scope=col>&lt;int&gt;</th></tr>\n",
       "</thead>\n",
       "<tbody>\n",
       "\t<tr><td>1</td><td>24975</td><td>27852</td><td>124</td></tr>\n",
       "\t<tr><td>2</td><td>24975</td><td>27852</td><td>125</td></tr>\n",
       "\t<tr><td>3</td><td>24975</td><td>27853</td><td>125</td></tr>\n",
       "\t<tr><td>4</td><td>24974</td><td>27850</td><td>123</td></tr>\n",
       "\t<tr><td>5</td><td>24975</td><td>27853</td><td>123</td></tr>\n",
       "</tbody>\n",
       "</table>\n"
      ],
      "text/latex": [
       "A tibble: 5 × 4\n",
       "\\begin{tabular}{llll}\n",
       " fold & gender & age\\_cat & ANY\\\\\n",
       " <int> & <dbl> & <dbl> & <int>\\\\\n",
       "\\hline\n",
       "\t 1 & 24975 & 27852 & 124\\\\\n",
       "\t 2 & 24975 & 27852 & 125\\\\\n",
       "\t 3 & 24975 & 27853 & 125\\\\\n",
       "\t 4 & 24974 & 27850 & 123\\\\\n",
       "\t 5 & 24975 & 27853 & 123\\\\\n",
       "\\end{tabular}\n"
      ],
      "text/markdown": [
       "\n",
       "A tibble: 5 × 4\n",
       "\n",
       "| fold &lt;int&gt; | gender &lt;dbl&gt; | age_cat &lt;dbl&gt; | ANY &lt;int&gt; |\n",
       "|---|---|---|---|\n",
       "| 1 | 24975 | 27852 | 124 |\n",
       "| 2 | 24975 | 27852 | 125 |\n",
       "| 3 | 24975 | 27853 | 125 |\n",
       "| 4 | 24974 | 27850 | 123 |\n",
       "| 5 | 24975 | 27853 | 123 |\n",
       "\n"
      ],
      "text/plain": [
       "  fold gender age_cat ANY\n",
       "1 1    24975  27852   124\n",
       "2 2    24975  27852   125\n",
       "3 3    24975  27853   125\n",
       "4 4    24974  27850   123\n",
       "5 5    24975  27853   123"
      ]
     },
     "metadata": {},
     "output_type": "display_data"
    }
   ],
   "source": [
    "nrow(derivation_dataset)\n",
    "k <- 5 \n",
    "datasetList <- list()\n",
    "for (i in 1:nrow(strata)){\n",
    "    sdataset <- subset(derivation_dataset, gender ==  strata[i, \"gender\"]$gender & age_cat == strata[i, \"age_cat\"]$age_cat  & ANY == strata[i, \"ANY\"]$ANY)\n",
    "    sdataset$fold <- attributeFold(sdataset, k)\n",
    "    datasetList[[ length( datasetList ) + 1 ]] <- sdataset\n",
    "}\n",
    "derivation_dataset <- do.call(rbind, datasetList)\n",
    "nrow( derivation_dataset)\n",
    "derivation_dataset  %>% group_by(fold) %>% summarise(gender = sum(ifelse(gender==\"Male\",1,0)), age_cat = sum(age_cat),ANY = sum(ANY==\"1\"))"
   ]
  },
  {
   "cell_type": "markdown",
   "id": "6d74e2ab",
   "metadata": {},
   "source": [
    "We now want to save our work to the corresponding file. "
   ]
  },
  {
   "cell_type": "markdown",
   "id": "bcb7037f",
   "metadata": {},
   "source": [
    "## 5.3 Save the stratified datasets"
   ]
  },
  {
   "cell_type": "code",
   "execution_count": 57,
   "id": "089b0d51",
   "metadata": {},
   "outputs": [],
   "source": [
    "saveRDS( feature_importance_dataset, \"./DataPartition/feature_importance_dataset.RDS\")\n",
    "saveRDS( derivation_dataset        , \"./DataPartition/derivation_dataset.RDS\")\n",
    "saveRDS( validation_dataset        , \"./DataPartition/validation_dataset.RDS\")"
   ]
  },
  {
   "cell_type": "markdown",
   "id": "d77db40a",
   "metadata": {},
   "source": [
    "# 6. Perform Missing Data Imputation"
   ]
  },
  {
   "cell_type": "markdown",
   "id": "418c5b5c",
   "metadata": {},
   "source": [
    "## 6.1 Load the data"
   ]
  },
  {
   "cell_type": "code",
   "execution_count": 58,
   "id": "c5f316b8",
   "metadata": {},
   "outputs": [],
   "source": [
    "feature_importance_dataset <- readRDS( \"./DataPartition/feature_importance_dataset.RDS\")\n",
    "derivation_dataset         <- readRDS( \"./DataPartition/derivation_dataset.RDS\")\n",
    "validation_dataset         <- readRDS( \"./DataPartition/validation_dataset.RDS\")"
   ]
  },
  {
   "cell_type": "markdown",
   "id": "c13c32d0",
   "metadata": {},
   "source": [
    "## 6.2 Install/Load the packages"
   ]
  },
  {
   "cell_type": "code",
   "execution_count": 72,
   "id": "1fd650ef",
   "metadata": {},
   "outputs": [
    {
     "name": "stderr",
     "output_type": "stream",
     "text": [
      "Installing package into ‘/usr/local/lib/R/site-library’\n",
      "(as ‘lib’ is unspecified)\n",
      "\n"
     ]
    }
   ],
   "source": [
    "# install.packages(\"mice\")\n",
    "# install.packages(\"future\")\n",
    "# install.packages(\"furrr\")\n",
    "# install.packages(\"nnet\")\n",
    "require(mice) # install.packages(\"mice\")\n",
    "require(furrr) # install.packages(\"furrr\")"
   ]
  },
  {
   "cell_type": "markdown",
   "id": "c3ce625b",
   "metadata": {},
   "source": [
    "## 6.3 Impute Feature Importance Dataset"
   ]
  },
  {
   "cell_type": "code",
   "execution_count": 74,
   "id": "7a058bbc",
   "metadata": {},
   "outputs": [
    {
     "name": "stderr",
     "output_type": "stream",
     "text": [
      "Warning message in futuremice(data = feature_importance_dataset, m = 5, parallelseed = 123, :\n",
      "“The number of cores exceeds the number of imputations. The number of cores used is set equal to the number of imputations (m = 5 ).”\n",
      "Warning message:\n",
      "“Number of logged events: 59”\n",
      "Warning message:\n",
      "“Number of logged events: 59”\n",
      "Warning message:\n",
      "“Number of logged events: 58”\n",
      "Warning message:\n",
      "“Number of logged events: 61”\n",
      "Warning message:\n",
      "“Number of logged events: 61”\n"
     ]
    },
    {
     "data": {
      "text/html": [
       "0"
      ],
      "text/latex": [
       "0"
      ],
      "text/markdown": [
       "0"
      ],
      "text/plain": [
       "[1] 0"
      ]
     },
     "metadata": {},
     "output_type": "display_data"
    }
   ],
   "source": [
    "mids <-  futuremice(data = feature_importance_dataset,\n",
    "                  m = 5, parallelseed = 123, use.logical = FALSE,\n",
    "                  n.core = 5,  maxit = 1)\n",
    "feature_importance_imputed_dataset <- complete(mids)\n",
    "sum(is.na(feature_importance_imputed_dataset))"
   ]
  },
  {
   "cell_type": "code",
   "execution_count": 75,
   "id": "f29b57e5",
   "metadata": {},
   "outputs": [],
   "source": [
    "saveRDS( feature_importance_imputed_dataset      , \"./DataPartition/feature_importance_imputed_dataset.RDS\")"
   ]
  },
  {
   "cell_type": "markdown",
   "id": "d25d9029",
   "metadata": {},
   "source": [
    "## 6.4 Impute Derivation dataset by CV fold"
   ]
  },
  {
   "cell_type": "code",
   "execution_count": 81,
   "id": "37c84de7",
   "metadata": {},
   "outputs": [
    {
     "name": "stderr",
     "output_type": "stream",
     "text": [
      "k is 1\n",
      "\n",
      "Warning message in futuremice(data = sdataset, use.logical = FALSE, m = 5, parallelseed = 123, :\n",
      "“The number of cores exceeds the number of imputations. The number of cores used is set equal to the number of imputations (m = 5 ).”\n",
      "Warning message:\n",
      "“Number of logged events: 60”\n",
      "Warning message:\n",
      "“Number of logged events: 58”\n",
      "Warning message:\n",
      "“Number of logged events: 59”\n",
      "Warning message:\n",
      "“Number of logged events: 58”\n",
      "Warning message:\n",
      "“Number of logged events: 59”\n",
      "k is 2\n",
      "\n",
      "Warning message in futuremice(data = sdataset, use.logical = FALSE, m = 5, parallelseed = 123, :\n",
      "“The number of cores exceeds the number of imputations. The number of cores used is set equal to the number of imputations (m = 5 ).”\n",
      "Warning message:\n",
      "“Number of logged events: 58”\n",
      "Warning message:\n",
      "“Number of logged events: 59”\n",
      "Warning message:\n",
      "“Number of logged events: 58”\n",
      "Warning message:\n",
      "“Number of logged events: 61”\n",
      "Warning message:\n",
      "“Number of logged events: 58”\n",
      "k is 3\n",
      "\n",
      "Warning message in futuremice(data = sdataset, use.logical = FALSE, m = 5, parallelseed = 123, :\n",
      "“The number of cores exceeds the number of imputations. The number of cores used is set equal to the number of imputations (m = 5 ).”\n",
      "Warning message:\n",
      "“Number of logged events: 57”\n",
      "Warning message:\n",
      "“Number of logged events: 58”\n",
      "Warning message:\n",
      "“Number of logged events: 59”\n",
      "Warning message:\n",
      "“Number of logged events: 60”\n",
      "Warning message:\n",
      "“Number of logged events: 59”\n",
      "k is 4\n",
      "\n",
      "Warning message in futuremice(data = sdataset, use.logical = FALSE, m = 5, parallelseed = 123, :\n",
      "“The number of cores exceeds the number of imputations. The number of cores used is set equal to the number of imputations (m = 5 ).”\n",
      "Warning message:\n",
      "“Number of logged events: 60”\n",
      "Warning message:\n",
      "“Number of logged events: 60”\n",
      "Warning message:\n",
      "“Number of logged events: 60”\n",
      "Warning message:\n",
      "“Number of logged events: 62”\n",
      "Warning message:\n",
      "“Number of logged events: 62”\n",
      "k is 5\n",
      "\n",
      "Warning message in futuremice(data = sdataset, use.logical = FALSE, m = 5, parallelseed = 123, :\n",
      "“The number of cores exceeds the number of imputations. The number of cores used is set equal to the number of imputations (m = 5 ).”\n",
      "Warning message:\n",
      "“Number of logged events: 62”\n",
      "Warning message:\n",
      "“Number of logged events: 60”\n",
      "Warning message:\n",
      "“Number of logged events: 60”\n",
      "Warning message:\n",
      "“Number of logged events: 59”\n",
      "Warning message:\n",
      "“Number of logged events: 60”\n"
     ]
    }
   ],
   "source": [
    "listImpDataset <- list()\n",
    "for (k in 1:max(derivation_dataset$fold)) {\n",
    "    message(paste(\"k is \", k, sep=\"\"))\n",
    "    sdataset    <- subset(derivation_dataset, fold == k)\n",
    "    mids        <-  futuremice(data = sdataset, use.logical = FALSE, \n",
    "                  m = 5, parallelseed = 123, \n",
    "                  n.core = 5,  maxit = 1)\n",
    "    listImpDataset[[ length( listImpDataset ) + 1  ]] <- complete(mids)\n",
    "}\n",
    "derivation_dataset_imputed_dataset <- do.call(rbind, listImpDataset)"
   ]
  },
  {
   "cell_type": "code",
   "execution_count": 83,
   "id": "799a8ecc",
   "metadata": {},
   "outputs": [],
   "source": [
    "saveRDS( derivation_dataset_imputed_dataset        , \"./DataPartition/derivation_imputed_dataset.RDS\")"
   ]
  },
  {
   "cell_type": "markdown",
   "id": "897145b2",
   "metadata": {},
   "source": [
    "## 6.5 Impute Validation dataset"
   ]
  },
  {
   "cell_type": "code",
   "execution_count": 77,
   "id": "e57f7e08",
   "metadata": {},
   "outputs": [
    {
     "name": "stderr",
     "output_type": "stream",
     "text": [
      "Warning message in futuremice(data = validation_dataset, m = 5, parallelseed = 123, :\n",
      "“The number of cores exceeds the number of imputations. The number of cores used is set equal to the number of imputations (m = 5 ).”\n",
      "Warning message:\n",
      "“Number of logged events: 61”\n",
      "Warning message:\n",
      "“Number of logged events: 60”\n",
      "Warning message:\n",
      "“Number of logged events: 60”\n",
      "Warning message:\n",
      "“Number of logged events: 57”\n",
      "Warning message:\n",
      "“Number of logged events: 59”\n"
     ]
    }
   ],
   "source": [
    "mids <-  futuremice(data = validation_dataset,\n",
    "                  m = 5, parallelseed = 123, use.logical = FALSE, \n",
    "                  n.core = 5,  maxit = 1)\n",
    "validation_imputed_dataset <- complete(mids)"
   ]
  },
  {
   "cell_type": "code",
   "execution_count": 80,
   "id": "9b8c4af4",
   "metadata": {},
   "outputs": [],
   "source": [
    "saveRDS( validation_imputed_dataset                , \"./DataPartition/validation_imputed_dataset.RDS\")"
   ]
  },
  {
   "cell_type": "code",
   "execution_count": null,
   "id": "65104511",
   "metadata": {},
   "outputs": [],
   "source": [
    "numeric_columns <- lapply(feature_importance_imputed_dataset, FUN = is.numeric) "
   ]
  },
  {
   "cell_type": "markdown",
   "id": "5addd0e0",
   "metadata": {},
   "source": [
    "# Scaling variables"
   ]
  },
  {
   "cell_type": "code",
   "execution_count": 90,
   "id": "ba979381",
   "metadata": {},
   "outputs": [],
   "source": [
    "feature_importance_imputed_scaled_dataset      <- readRDS(\"./DataPartition/feature_importance_imputed_dataset.RDS\")\n",
    "derivation_imputed_scaled_dataset              <- readRDS(\"./DataPartition/derivation_imputed_dataset.RDS\")\n",
    "validation_imputed_scaled_dataset              <- readRDS(\"./DataPartition/validation_imputed_dataset.RDS\")"
   ]
  },
  {
   "cell_type": "code",
   "execution_count": 91,
   "id": "442bc732",
   "metadata": {},
   "outputs": [],
   "source": [
    "feature_importance_imputed_scaled_dataset$pcsk9 <- NULL\n",
    "derivation_imputed_scaled_dataset$pcsk9         <- NULL\n",
    "validation_imputed_scaled_dataset$pcsk9         <- NULL"
   ]
  },
  {
   "cell_type": "code",
   "execution_count": 92,
   "id": "09570e51",
   "metadata": {},
   "outputs": [],
   "source": [
    "feature_importance_imputed_scaled_dataset$age_cat <- as.factor(feature_importance_imputed_scaled_dataset$age_cat)\n",
    "derivation_imputed_scaled_dataset$age_cat         <- as.factor(derivation_imputed_scaled_dataset$age_cat)\n",
    "validation_imputed_scaled_dataset$age_cat         <- as.factor(validation_imputed_scaled_dataset$age_cat)"
   ]
  },
  {
   "cell_type": "code",
   "execution_count": 93,
   "id": "74676a54",
   "metadata": {},
   "outputs": [],
   "source": [
    "numeric_columns <- colnames(feature_importance_imputed_scaled_dataset)[ unlist(lapply(feature_importance_imputed_scaled_dataset, FUN = is.numeric))]\n",
    "cat_columns     <- colnames(feature_importance_imputed_scaled_dataset)[ unlist(lapply(feature_importance_imputed_scaled_dataset, FUN = is.factor))]"
   ]
  },
  {
   "cell_type": "code",
   "execution_count": 94,
   "id": "c8d9cf78",
   "metadata": {},
   "outputs": [],
   "source": [
    "feature_importance_imputed_scaled_dataset[,numeric_columns] <- scale(feature_importance_imputed_scaled_dataset[,numeric_columns])\n",
    "derivation_imputed_scaled_dataset[,numeric_columns]         <- scale(derivation_imputed_scaled_dataset[,numeric_columns])\n",
    "validation_imputed_scaled_dataset[,numeric_columns]         <- scale(validation_imputed_scaled_dataset[,numeric_columns])"
   ]
  },
  {
   "cell_type": "code",
   "execution_count": 95,
   "id": "c9526dd2",
   "metadata": {},
   "outputs": [],
   "source": [
    "saveRDS(feature_importance_imputed_scaled_dataset, \"./DataPartition/feature_importance_imputed_scaled_dataset.RDS\")\n",
    "saveRDS(derivation_imputed_scaled_dataset, \"./DataPartition/derivation_imputed_scaled_dataset.RDS\")\n",
    "saveRDS(validation_imputed_scaled_dataset, \"./DataPartition/validation_imputed_scaled_dataset.RDS\")"
   ]
  }
 ],
 "metadata": {
  "kernelspec": {
   "display_name": "R",
   "language": "R",
   "name": "ir"
  },
  "language_info": {
   "codemirror_mode": "r",
   "file_extension": ".r",
   "mimetype": "text/x-r-source",
   "name": "R",
   "pygments_lexer": "r",
   "version": "4.2.0"
  }
 },
 "nbformat": 4,
 "nbformat_minor": 5
}
