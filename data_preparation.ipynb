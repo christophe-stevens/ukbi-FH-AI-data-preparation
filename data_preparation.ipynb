{
 "cells": [
  {
   "cell_type": "markdown",
   "id": "6c10b41a",
   "metadata": {},
   "source": [
    "# 1. Genotype"
   ]
  },
  {
   "cell_type": "markdown",
   "id": "06c085b2",
   "metadata": {},
   "source": [
    "First we load the eids of patients with a pathogenic variant in the Whole Exome 450K data"
   ]
  },
  {
   "cell_type": "code",
   "execution_count": null,
   "id": "5535012c",
   "metadata": {},
   "outputs": [],
   "source": [
    "outcome <- readRDS(\"outcome.rds\")\n",
    "head(outcome)"
   ]
  },
  {
   "cell_type": "markdown",
   "id": "6885ce7e",
   "metadata": {},
   "source": [
    "# 2. Phenotype\n",
    "\n",
    "We then load the phenotype data"
   ]
  },
  {
   "cell_type": "code",
   "execution_count": null,
   "id": "3616dcef",
   "metadata": {},
   "outputs": [],
   "source": [
    "require(data.table)\n",
    "phenotype  <- as.data.frame(fread(\"data_participant.tsv\"))\n",
    "phenotype2 <- as.data.frame(fread(\"data2_participant.tsv\"))\n",
    "data <- subset(phenotype, eid %in% outcome$eid)\n",
    "data2 <- subset(phenotype2, eid %in% outcome$eid)\n",
    "data <- merge(data,data2, by=\"eid\")"
   ]
  },
  {
   "cell_type": "markdown",
   "id": "ba1cc5ef",
   "metadata": {},
   "source": [
    "## 2.1 Prepare Phenotype"
   ]
  },
  {
   "cell_type": "markdown",
   "id": "e54d2ab2",
   "metadata": {},
   "source": [
    "We create a new function to remove levels from factors"
   ]
  },
  {
   "cell_type": "code",
   "execution_count": null,
   "id": "cdb4519e",
   "metadata": {},
   "outputs": [],
   "source": [
    "require(dplyr)\n",
    "removeLevels <- function(data, variable, excl.values){\n",
    "  data[which(data[,variable] %in% excl.values),variable]<- NA\n",
    "  data[,variable] <- droplevels(data[,variable])\n",
    "}"
   ]
  },
  {
   "cell_type": "markdown",
   "id": "f8273875",
   "metadata": {},
   "source": [
    "### 2.1.1 Demographics"
   ]
  },
  {
   "cell_type": "markdown",
   "id": "7b6b7e13",
   "metadata": {},
   "source": [
    "#### 2.1.2  Gender"
   ]
  },
  {
   "cell_type": "code",
   "execution_count": null,
   "id": "9f5807c3",
   "metadata": {},
   "outputs": [],
   "source": [
    "data$gender <- data$p31\n",
    "data$gender <- as.factor(data$gender)\n",
    "table(data$gender) # need to recode as in FHSC"
   ]
  },
  {
   "cell_type": "markdown",
   "id": "56f7c01b",
   "metadata": {},
   "source": [
    "#### 2.1.3 Country"
   ]
  },
  {
   "cell_type": "code",
   "execution_count": null,
   "id": "14143926",
   "metadata": {},
   "outputs": [],
   "source": [
    "data$country <- data$p1647_i0\n",
    "data$country[data$country==\"\"] <- \"Unknown\"\n",
    "data$country <- as.factor(data$country )\n",
    "\n",
    "data$country <- recode_factor(data$country,\n",
    "                              'Republic of Ireland'=\"Elsewhere\", \n",
    "                              'Do not know'='unknown/missing',\n",
    "                              'Prefer not to answer'='unknown/missing')\n",
    "\n",
    "data$country <- removeLevels(data, \"country\", c(\"unknown/missing\",\"Unknown\")) \n",
    "table(data$country)\n",
    "#unique(data$country)  # not very useful either UK or elsewhere!"
   ]
  },
  {
   "cell_type": "markdown",
   "id": "7ec1a478",
   "metadata": {},
   "source": [
    "#### 2.1.4 Ethnicity"
   ]
  },
  {
   "cell_type": "code",
   "execution_count": null,
   "id": "435f44ac",
   "metadata": {},
   "outputs": [],
   "source": [
    "data$ethnicity <- data$p21000_i0\n",
    "data$ethnicity[data$ethnicity==\"\"] <- \"unknown\"\n",
    "data$ethnicity <- as.factor(data$ethnicity )\n",
    "\n",
    "data$ethnicity <- recode_factor(data$ethnicity,\n",
    "                                  'Do not know'='unknown',\n",
    "                                  'Prefer not to answer'='unknown/missing',\n",
    "                                  \"Other ethnic group\"=\"unknown/missing\",\n",
    "                                  \"African\"=\"black\",\n",
    "                                  \"Caribbean\"=\"black\",\n",
    "                                  \"Black or Black British\"=\"black\",\n",
    "                                  \"Any other Black background\"=\"black\",\n",
    "                                  \"British\"=\"white\",\n",
    "                                  \"White\"=\"white\",\n",
    "                                  \"Any other white background\"=\"white\",\n",
    "                                  \"Irish\"=\"white\",\n",
    "                                  \"White and Black Caribbean\"=\"mixed\",\n",
    "                                  \"White and Black African\"=\"mixed\",\n",
    "                                  \"Any other mixed background\"=\"mixed\",\n",
    "                                  \"Mixed\"=\"mixed\",\n",
    "                                  \"White and Asian\"=\"mixed\",\n",
    "                                  \"Chinese\"=\"oriental/Asian\",\n",
    "                                  \"Indian\"=\"oriental/Asian\",\n",
    "                                  \"Pakistani\"=\"oriental/Asian\",\n",
    "                                  \"Bangladeshi\"=\"oriental/Asian\",\n",
    "                                  \"Asian or Asian British\"=\"oriental/Asian\",\n",
    "                                  \"Any other Asian background\"=\"oriental/Asian\")\n",
    "data$ethnicity <- removeLevels(data, \"ethnicity\", c(\"unknown/missing\",\"unknown\")) \n",
    "\n",
    "table(data$ethnicity) # useful "
   ]
  },
  {
   "cell_type": "markdown",
   "id": "b5238ca1",
   "metadata": {},
   "source": [
    "#### 2.1.5  Occupation"
   ]
  },
  {
   "cell_type": "code",
   "execution_count": null,
   "id": "44f81d64",
   "metadata": {},
   "outputs": [],
   "source": [
    "occupation_mapping <- read.csv(\"tables/occupations_table.csv\")\n",
    "data$occupation<- data$p20277_i0\n",
    "data$occupation[data$occupation==\"\"]<-\"unknown/missing\"\n",
    "data$occupation <- sapply(data$occupation, FUN =function(x){gsub(\"-\", \"\", x)} )\n",
    "for(i in 1:nrow(occupation_mapping)){\n",
    "    data$occupation[data$occupation==occupation_mapping[i,1]]<-occupation_mapping[i,2]\n",
    "}\n",
    "data$occupation <- as.factor(data$occupation)\n",
    "data$occupation <- removeLevels(data, \"occupation\", c(\"unknown/missing\")) \n",
    "table(data$occupation)"
   ]
  },
  {
   "cell_type": "markdown",
   "id": "90a08ea8",
   "metadata": {},
   "source": [
    "#### 2.1.6 Education"
   ]
  },
  {
   "cell_type": "code",
   "execution_count": null,
   "id": "fa395ffd",
   "metadata": {},
   "outputs": [],
   "source": [
    "data$education <- data$p6138_i0\n",
    "# find Highest qualification\n",
    "qualifications <- c(\"College or University degree\", \"A levels/AS levels or equivalent\",\n",
    "                    \"O levels/GCSEs or equivalent\",\"CSEs or equivalent\",\"NVQ or HND or HNC or equivalent\",\n",
    "                    \"Other professional qualifications eg: nursing, teaching\",\"None of the above\",\"Prefer not to answer\")\n",
    "data$education_tmp <- \"unknown/missing\"\n",
    "for( i in length(qualifications):1){\n",
    "    data$education_tmp <- ifelse(grepl(qualifications[i],data$education),qualifications[i],data$education_tmp)\n",
    "}\n",
    "data$education <- as.factor(data$education_tmp)\n",
    "data$education <- removeLevels(data, \"education\", c(\"unknown/missing\")) \n",
    "\n",
    "table(data$education)\n",
    "#sum(!is.na(data$education))\n",
    "#unique(data$education) # -- too many occupation need to regroup"
   ]
  },
  {
   "cell_type": "markdown",
   "id": "49945c43",
   "metadata": {},
   "source": [
    "#### 2.1.7 Year of birth (DOB)"
   ]
  },
  {
   "cell_type": "code",
   "execution_count": null,
   "id": "7becc7a3",
   "metadata": {},
   "outputs": [],
   "source": [
    "data$dob <- as.numeric(data$p34)\n",
    "hist(data$dob )"
   ]
  },
  {
   "cell_type": "markdown",
   "id": "d881c429",
   "metadata": {},
   "source": [
    "#### 2.1.8  Age at entry"
   ]
  },
  {
   "cell_type": "code",
   "execution_count": null,
   "id": "3c6f510f",
   "metadata": {},
   "outputs": [],
   "source": [
    "data$age <- data$p21003_i0\n",
    "hist(data$age)"
   ]
  },
  {
   "cell_type": "markdown",
   "id": "242578dd",
   "metadata": {},
   "source": [
    "### 2.2 Anthrompometric Measurements"
   ]
  },
  {
   "cell_type": "markdown",
   "id": "c373e318",
   "metadata": {},
   "source": [
    "#### 2.2.1 Waist Circumference"
   ]
  },
  {
   "cell_type": "code",
   "execution_count": null,
   "id": "dfdb07b9",
   "metadata": {},
   "outputs": [],
   "source": [
    "data$waist <- data$p48_i0\n",
    "hist(data$waist)"
   ]
  },
  {
   "cell_type": "markdown",
   "id": "5e62ed9b",
   "metadata": {},
   "source": [
    "#### 2.2.2 Weight"
   ]
  },
  {
   "cell_type": "code",
   "execution_count": null,
   "id": "74069a64",
   "metadata": {},
   "outputs": [],
   "source": [
    "data$weight <- data$p21002_i0\n",
    "hist(data$weight)"
   ]
  },
  {
   "cell_type": "markdown",
   "id": "81dc0af0",
   "metadata": {},
   "source": [
    "#### 2.2.3 BMI"
   ]
  },
  {
   "cell_type": "code",
   "execution_count": null,
   "id": "0d46acbb",
   "metadata": {},
   "outputs": [],
   "source": [
    "# max of boy mass index \n",
    "data$bmi <- apply( data[,paste('p21001_i',0:3,sep=\"\")],1, FUN = function(x){\n",
    "  x <- na.omit(x)\n",
    "  if (length(x)>0){max(x)}else{return(NA)}\n",
    "})\n",
    "data$bmi_cat <- ifelse( data$bmi < 18.5, \"underweight\",ifelse( data$bmi < 25, \"normal\", ifelse( data$bmi < 30, \"overweight\", \"obese\")))\n",
    "hist(data$bmi)\n",
    "table(data$bmi_cat)"
   ]
  },
  {
   "cell_type": "markdown",
   "id": "077c1e91",
   "metadata": {},
   "source": [
    "#### 2.2.4 Height"
   ]
  },
  {
   "cell_type": "code",
   "execution_count": null,
   "id": "7b516f19",
   "metadata": {},
   "outputs": [],
   "source": [
    "data$height <- sqrt(data$weight/data$bmi)\n",
    "hist(data$height)"
   ]
  },
  {
   "cell_type": "markdown",
   "id": "2b45f6b8",
   "metadata": {},
   "source": [
    "#### 2.2.5 SBP"
   ]
  },
  {
   "cell_type": "code",
   "execution_count": null,
   "id": "12d37d27",
   "metadata": {},
   "outputs": [],
   "source": [
    "columns <- as.vector(sapply(paste('p4080_i',0:2,\"_a\",sep=\"\"), paste, c(\"0\",\"1\"), sep=\"\"))\n",
    "data$sbp <- apply( data[,columns],1, FUN = function(x){\n",
    "  x <- na.omit(x)\n",
    "  if (length(x)>0){max(x)}else{return(NA)}\n",
    "})\n",
    "hist(data$sbp)"
   ]
  },
  {
   "cell_type": "markdown",
   "id": "dfb57146",
   "metadata": {},
   "source": [
    "#### 2.2.6 DBP"
   ]
  },
  {
   "cell_type": "code",
   "execution_count": null,
   "id": "f712b951",
   "metadata": {},
   "outputs": [],
   "source": [
    "columns <- as.vector(sapply(paste('p4079_i',0:2,\"_a\",sep=\"\"), paste, c(\"0\",\"1\"), sep=\"\"))\n",
    "data$dbp <- apply( data[,columns],1, FUN = function(x){\n",
    "  x <- na.omit(x)\n",
    "  if (length(x)>0){max(x)}else{return(NA)}\n",
    "})\n",
    "hist(data$dbp)"
   ]
  },
  {
   "cell_type": "markdown",
   "id": "22dd2cdb",
   "metadata": {},
   "source": [
    "#### 2.2.7 HR"
   ]
  },
  {
   "cell_type": "code",
   "execution_count": null,
   "id": "d42c3b2f",
   "metadata": {},
   "outputs": [],
   "source": [
    "columns <- as.vector(sapply(paste('p102_i',0:2,\"_a\",sep=\"\"), paste, c(\"0\",\"1\"), sep=\"\"))\n",
    "data$hr <- apply( data[,columns],1, FUN = function(x){\n",
    "  x <- na.omit(x)\n",
    "  if (length(x)>0){max(x)}else{return(NA)}\n",
    "})\n",
    "hist(data$hr)"
   ]
  },
  {
   "cell_type": "markdown",
   "id": "89def5c6",
   "metadata": {},
   "source": [
    "### 2.3 Lifestyle\n",
    "#### 2.3.1  Alcohol frequency"
   ]
  },
  {
   "cell_type": "code",
   "execution_count": null,
   "id": "0632a881",
   "metadata": {},
   "outputs": [],
   "source": [
    "data$alcohol <- as.factor(data[,\"p1558_i0\"])\n",
    "data$alcohol <- removeLevels(data, \"alcohol\", c(\"\")) \n",
    "table(data$alcohol)"
   ]
  },
  {
   "cell_type": "markdown",
   "id": "fb7061c7",
   "metadata": {},
   "source": [
    "#### 2.3.2 Smoking status"
   ]
  },
  {
   "cell_type": "code",
   "execution_count": null,
   "id": "0c3798e5",
   "metadata": {},
   "outputs": [],
   "source": [
    "data$smoking <- as.factor(data[,\"p20116_i0\"])\n",
    "data$smoking <- removeLevels(data, \"smoking\", c(\"\")) \n",
    "table(data$smoking )"
   ]
  },
  {
   "cell_type": "markdown",
   "id": "2e456137",
   "metadata": {},
   "source": [
    "#### 2.3.3 Smoking Pack-year"
   ]
  },
  {
   "cell_type": "code",
   "execution_count": null,
   "id": "895910dd",
   "metadata": {},
   "outputs": [],
   "source": [
    "data$smoking_py <- as.numeric(data[,\"p20161_i0\"])\n",
    "hist(data$smoking_py )"
   ]
  },
  {
   "cell_type": "markdown",
   "id": "c998ea9e",
   "metadata": {},
   "source": [
    "#### 2.3.4 Smoking time"
   ]
  },
  {
   "cell_type": "code",
   "execution_count": null,
   "id": "591c52eb",
   "metadata": {},
   "outputs": [],
   "source": [
    "options(warn=-1)\n",
    "data$smoking_start <- apply(data[,paste(\"p3436_i\",0:3, sep=\"\")], 1 , FUN= function(x) {\n",
    "    x[x==\"\"] <- NA\n",
    "    x <- na.omit(x)\n",
    "    if(length(x)==0){\n",
    "        return(NA)\n",
    "    }else{\n",
    "        return(min(as.numeric(x)))\n",
    "    }     \n",
    "})\n",
    "data$smoking_quit <- apply(data[,paste(\"p6194_i\",0:3, sep=\"\")], 1 , FUN= function(x) {\n",
    "    x[x==\"\"] <- NA\n",
    "    x <- na.omit(x)\n",
    "    if(length(x)==0){\n",
    "        return(NA)\n",
    "    }else{\n",
    "        return(max(as.numeric(x)))\n",
    "    }     \n",
    "})\n",
    "options(warn=1)\n",
    "\n",
    "data$smoking_time <-  as.numeric(data$smoking_quit-data$smoking_start)\n",
    "hist(data$smoking_time)"
   ]
  },
  {
   "cell_type": "markdown",
   "id": "c8b583e8",
   "metadata": {},
   "source": [
    "#### 2.3.5  Physical Activity "
   ]
  },
  {
   "cell_type": "code",
   "execution_count": null,
   "id": "8fbf3d37",
   "metadata": {},
   "outputs": [],
   "source": [
    "data$activity_computer <- as.numeric(data[,'p1080_i0'] )\n",
    "data$activity_tv       <- as.numeric(data[,'p1070_i0'] )\n",
    "hist(data$activity_computer)\n",
    "hist(data$activity_tv)"
   ]
  },
  {
   "cell_type": "markdown",
   "id": "ab011a6e",
   "metadata": {},
   "source": [
    "### 2.3.6 Diet"
   ]
  },
  {
   "cell_type": "code",
   "execution_count": null,
   "id": "4e973dad",
   "metadata": {},
   "outputs": [],
   "source": [
    "data$diet_meat         <- data[,'p1349_i0']\n",
    "data$diet_oily_fish    <- data[,'p1329_i0']\n",
    "data$diet_nonoily_fish <- data[,'p1339_i0']\n",
    "data$diet_cooked_veg   <- data[,'p1289_i0']\n",
    "data$diet_raw_veg      <- data[,'p1299_i0']"
   ]
  },
  {
   "cell_type": "markdown",
   "id": "6658adca",
   "metadata": {},
   "source": [
    "### 2.4 Comorbidities"
   ]
  },
  {
   "cell_type": "markdown",
   "id": "2eef116b",
   "metadata": {},
   "source": [
    "#### 2.4.1  Comorbidities (ICD10 codes)"
   ]
  },
  {
   "cell_type": "markdown",
   "id": "0c67c148",
   "metadata": {},
   "source": [
    "The code below load the data.frame containing the set of ICD10 code for each co-morbidities variables.\n",
    "For each patient and each variable, it then looks if there is a matching ICD10 code. \n",
    "If there is the age columns at onset are retrieved from another set of UK Biobank fields.     "
   ]
  },
  {
   "cell_type": "code",
   "execution_count": null,
   "id": "95189b80",
   "metadata": {},
   "outputs": [],
   "source": [
    "file_icd10 <- read.csv(\"tables/morbidities_final.csv\")\n",
    "### Find if ECD10 coded and earliest age \n",
    "getEarliestEventAndDate <- function(data_input, icd10_codes){  \n",
    "    ## provide ICD10\n",
    "    icd10_codes_regex <- paste(\"^.*(\", gsub(\".\",\"\\\\.\",paste(icd10_codes,collapse=\"|\"), fixed=T), \").*$\",sep=\"\")\n",
    "    ## Find which one match\n",
    "    data_input$has_event <- apply( data_input[,c('p41270','p41202','p41204')], 1, FUN = function(x){\n",
    "        newX <- paste(x, collapse= \" |--> \")\n",
    "        return(ifelse(grepl(icd10_codes_regex, newX),1,0))\n",
    "    })\n",
    "    data_input[ data_input$has_event==1, \"age_earliest_event\"] <- apply(data_input[ data_input$has_event==1,c('p41270','p41202',\n",
    "                        \"dob\",\n",
    "                        paste(\"p41280_a\",c(0:180), sep=\"\"),\n",
    "                        paste(\"p41262_a\",c(0:74), sep=\"\"))],1, FUN=function(x){ \n",
    "                                vect1 <- strsplit(as.character(x[1]), \"\\\\|\")\n",
    "                                datesFields1 <- x[4:(181+4)]\n",
    "                                dates1 <- datesFields1[unlist(sapply(vect1, FUN = function(y) { grep(icd10_codes_regex,y) }))]\n",
    "                                dx_dates1 <- unlist(sapply(dates1, as.Date, origin=\"1970-01-01\"))\n",
    "\n",
    "                                vect2 <- strsplit(as.character(x[2]), \"\\\\|\")\n",
    "                                datesFields2 <- x[(181+5):length(x)]\n",
    "                                dates2 <- datesFields2[unlist(sapply(vect2, FUN = function(y2) { grep(icd10_codes_regex,y2) }))]\n",
    "                                dx_dates2 <- unlist(sapply(dates2, as.Date, origin=\"1970-01-01\"))\n",
    "\n",
    "                                allDates <- na.omit(c(dx_dates1,dx_dates2))\n",
    "                                if(length(allDates)>0){\n",
    "                                    minDate <- min(allDates)\n",
    "                                    if (is.null(minDate) | is.na(minDate) | is.infinite(minDate)){\n",
    "                                        return(NA)\n",
    "                                    }else{\n",
    "                                        return(as.numeric(format(as.Date(minDate, origin=\"1970-01-01\"),\"%Y\")) - as.numeric(x[3]) )\n",
    "                                    }\n",
    "                                }else{\n",
    "                                  return(NA)   \n",
    "                                }\n",
    "    })\n",
    "    return(data_input[,c(\"has_event\",\"age_earliest_event\")])\n",
    "}"
   ]
  },
  {
   "cell_type": "code",
   "execution_count": null,
   "id": "b47937e8",
   "metadata": {},
   "outputs": [],
   "source": [
    "for ( disease in colnames(file_icd10)[! colnames(file_icd10) %in% c(\"Code\", \"Disease\")]) {\n",
    "    message(paste(\"starting \", disease, sep=\"\"))\n",
    "    icd10_filtered                    <- getEarliestEventAndDate(data, file_icd10[file_icd10[,disease]==1,\"Code\"])\n",
    "    data[, paste(disease, \"_dx\",sep=\"\")]     <- icd10_filtered$has_event\n",
    "    data[, paste(disease, \"_dx\",sep=\"\")]     <- recode_factor(data[, paste(disease, \"_dx\",sep=\"\")], \"0\"=\"no\",\"1\"=\"yes\")\n",
    "    data[, paste(disease, \"_age\",sep=\"\")]    <- icd10_filtered $age_earliest_event\n",
    "    message(paste(disease, \" ready\",sep=\"\"))\n",
    "}"
   ]
  },
  {
   "cell_type": "markdown",
   "id": "1a2cab1e",
   "metadata": {},
   "source": [
    "### 2.5 Operations"
   ]
  },
  {
   "cell_type": "markdown",
   "id": "c45a5f0e",
   "metadata": {},
   "source": [
    "#### 2.5.1  Operations (OPSC4 codes)"
   ]
  },
  {
   "cell_type": "code",
   "execution_count": null,
   "id": "eb97349a",
   "metadata": {},
   "outputs": [],
   "source": [
    "file_opsc4 <- read.csv(\"tables/operations_final.csv\")\n",
    "getOPSC4   <- function(data_input, opsc4_codes){\n",
    "    opsc4_codes_regex <- paste(\"^.*(\", paste(opsc4_codes,collapse=\"|\"), \").*$\",sep=\"\")\n",
    "    ## Find which one match\n",
    "    return(apply( data_input[,c('p41272','p41200','p41210')], 1, FUN = function(x){\n",
    "        newX <- paste(x, collapse= \" |--> \")\n",
    "        return(ifelse(grepl(opsc4_codes_regex, newX),1,0))\n",
    "    }))\n",
    "}"
   ]
  },
  {
   "cell_type": "code",
   "execution_count": null,
   "id": "cab51b7e",
   "metadata": {},
   "outputs": [],
   "source": [
    "for ( operation in colnames(file_opsc4)[! colnames(file_opsc4) %in% c(\"Full.Name\", \"Code\")][2:5]) {\n",
    "    message(paste(\"starting \", operation, sep=\"\"))\n",
    "    data[, operation ]    <- getOPSC4(data, file_opsc4[file_opsc4[,operation]==1,\"Code\"])\n",
    "    data[, operation ]    <- recode_factor(data[, operation ], \"0\"=\"no\",\"1\"=\"yes\")\n",
    "    message(paste(operation, \" ready\",sep=\"\"))\n",
    "}"
   ]
  },
  {
   "cell_type": "markdown",
   "id": "ddbc3e44",
   "metadata": {},
   "source": [
    "### 2.6 Imaging test"
   ]
  },
  {
   "cell_type": "markdown",
   "id": "dc82f5ac",
   "metadata": {},
   "source": [
    "#### 2.6.1 Carotid IMT"
   ]
  },
  {
   "cell_type": "code",
   "execution_count": null,
   "id": "55e8de72",
   "metadata": {},
   "outputs": [],
   "source": [
    "data$us_carotid_left_img1 <- data[,c(\"p20222_i2\")]\n",
    "data$us_carotid_left_img2 <- data[,c(\"p20222_i3\")]\n",
    "\n",
    "data$us_carotid_right_img1 <- data[,c(\"p20223_i2\")]\n",
    "data$us_carotid_right_img2 <- data[,c(\"p20223_i3\")]"
   ]
  },
  {
   "cell_type": "code",
   "execution_count": null,
   "id": "336b6bd7",
   "metadata": {},
   "outputs": [],
   "source": [
    "maxIMT <- function(x) { \n",
    "    x <- as.numeric(x)\n",
    "    if(sum(is.na(x)) == 2 )\n",
    "        return(NA)\n",
    "    else\n",
    "        return (max(x, na.rm=T)) \n",
    "}\n",
    "options(warn=-1)\n",
    "data$uscar_imt_120_max <- apply(data[,c(\"p22671_i2\",\"p22671_i3\")], 1, FUN= maxIMT)\n",
    "data$uscar_imt_150_max <- apply(data[,c(\"p22674_i2\",\"p22674_i3\")], 1, FUN= maxIMT)\n",
    "data$uscar_imt_210_max <- apply(data[,c(\"p22677_i2\",\"p22677_i3\")], 1, FUN= maxIMT)\n",
    "data$uscar_imt_240_max <- apply(data[,c(\"p22680_i2\",\"p22680_i3\")], 1, FUN= maxIMT)\n",
    "options(warn=1)"
   ]
  },
  {
   "cell_type": "markdown",
   "id": "9300abc6",
   "metadata": {},
   "source": [
    "#### 2.6.2  Arterial Stifness Index"
   ]
  },
  {
   "cell_type": "code",
   "execution_count": null,
   "id": "a8ac1e3a",
   "metadata": {},
   "outputs": [],
   "source": [
    "maxIMT <- function(x) { \n",
    "    x <- as.numeric(x)\n",
    "    if(sum(is.na(x)) == 4 )\n",
    "        return(NA)\n",
    "    else\n",
    "        return (max(x, na.rm=T)) \n",
    "}\n",
    "\n",
    "data$max_art_stiffness <- apply(data[,c(\"p21021_i0\", \"p21021_i1\", \"p21021_i2\", \"p21021_i3\")], 1, FUN = maxIMT)"
   ]
  },
  {
   "cell_type": "markdown",
   "id": "28a044ce",
   "metadata": {},
   "source": [
    "#### 2.6.3  ECG"
   ]
  },
  {
   "cell_type": "code",
   "execution_count": null,
   "id": "4c8b23f7",
   "metadata": {},
   "outputs": [],
   "source": [
    "data$ecg_dataset1 <- data[, 'p20205_i2'] \n",
    "data$ecg_dataset2 <- data[, 'p20205_i3'] "
   ]
  },
  {
   "cell_type": "markdown",
   "id": "3895971a",
   "metadata": {},
   "source": [
    "#### 2.6.4 MRI"
   ]
  },
  {
   "cell_type": "code",
   "execution_count": null,
   "id": "e60552e0",
   "metadata": {},
   "outputs": [],
   "source": [
    "data$mri_scout_img1 <- data[,'p20207_i2']\n",
    "data$mri_scout_img2 <- data[,'p20207_i3']\n",
    "\n",
    "data$mri_short_axis_img1 <- data[,'p20209_i2' ]\n",
    "data$mri_short_axis_img2 <- data[,'p20209_i3']\n",
    "\n",
    "data$mri_lv_out_img1 <- data[,'p20212_i3' ]\n",
    "data$mri_lv_out_img2 <- data[,'p20212_i2']\n",
    "\n",
    "data$mri_long_axis_img1 <- data[,'p20208_i2']\n",
    "data$mri_long_axis_img2 <- data[,'p20208_i3' ]"
   ]
  },
  {
   "cell_type": "markdown",
   "id": "fb3e0ea2",
   "metadata": {},
   "source": [
    "### 2.7 Family History"
   ]
  },
  {
   "cell_type": "code",
   "execution_count": null,
   "id": "0e53e9c5",
   "metadata": {},
   "outputs": [],
   "source": [
    "# These seem a little off! \n",
    "relevant_columns <- c(paste(\"p20107_i\",0:3, sep=\"\"),\n",
    "                      paste(\"p20110_i\",0:3, sep=\"\"),\n",
    "                      paste(\"p20111_i\",0:3, sep=\"\"))"
   ]
  },
  {
   "cell_type": "markdown",
   "id": "a1d8828f",
   "metadata": {},
   "source": [
    "#### 2.7.1 Family history of ischaemic heart disease and other diseases of the circulatory system"
   ]
  },
  {
   "cell_type": "code",
   "execution_count": null,
   "id": "d23be927",
   "metadata": {},
   "outputs": [],
   "source": [
    "data$famh_hd_sa <- apply( data[,relevant_columns], 1, FUN = function(x){\n",
    "    ifelse(sum(grepl(\"Heart disease\", x))>=1,1,0)\n",
    "})\n",
    "data$famh_hd_sa    <- recode_factor(data$famh_hd_sa, \"0\"=\"no\",\"1\"=\"yes\")\n",
    "table(data$famh_hd_sa)\n",
    "\n",
    "icd10_fmh_cad <- getEarliestEventAndDate(data, c(paste(\"Z\", c(\"82.4\"), sep=\"\")))\n",
    "data$famh_cad <- icd10_fmh_cad$has_event\n",
    "data$famh_cad <- recode_factor(data$famh_cad, \"0\"=\"no\",\"1\"=\"yes\")\n",
    "table(data$famh_cad)"
   ]
  },
  {
   "cell_type": "markdown",
   "id": "fad81279",
   "metadata": {},
   "source": [
    "#### 2.7.2 Family history of hypercholesterolemia"
   ]
  },
  {
   "cell_type": "code",
   "execution_count": null,
   "id": "d2b03594",
   "metadata": {},
   "outputs": [],
   "source": [
    "icd10_fmh_cad <- getEarliestEventAndDate(data, c(paste(\"Z\", c(\"83\\\\.43\"), sep=\"\")))\n",
    "sum(icd10_fmh_cad$has_event==1)\n",
    "# no patient found with this code!!!"
   ]
  },
  {
   "cell_type": "markdown",
   "id": "4be83d62",
   "metadata": {},
   "source": [
    "#### 2.7.2 Family history of stroke"
   ]
  },
  {
   "cell_type": "code",
   "execution_count": null,
   "id": "00f3da28",
   "metadata": {},
   "outputs": [],
   "source": [
    "data$famh_stroke_sa <- apply( data[,relevant_columns], 1, FUN = function(x){\n",
    "    ifelse(sum(grepl(\"Stroke\", x))>=1,1,0)\n",
    "})\n",
    "data$famh_stroke_sa <- recode_factor(data$famh_stroke_sa, \"0\"=\"no\",\"1\"=\"yes\")\n",
    "table(data$famh_stroke_sa)\n",
    "\n",
    "icd10_fmh_stroke <- getEarliestEventAndDate(data, c(paste(\"Z\", c(\"82.3\"), sep=\"\")))\n",
    "data$famh_stroke <- icd10_fmh_stroke$has_event\n",
    "data$famh_stroke <- recode_factor(data$famh_stroke, \"0\"=\"no\",\"1\"=\"yes\")\n",
    "table(data$famh_stroke)"
   ]
  },
  {
   "cell_type": "markdown",
   "id": "04c5234b",
   "metadata": {},
   "source": [
    "#### 2.7.3 Family history of Diabetes Melitus"
   ]
  },
  {
   "cell_type": "code",
   "execution_count": null,
   "id": "4dc4a368",
   "metadata": {},
   "outputs": [],
   "source": [
    "data$famh_dm_sa <- apply( data[,relevant_columns], 1, FUN = function(x){\n",
    "    ifelse(sum(grepl(\"Diabetes\", x))>=1,1,0)\n",
    "})\n",
    "data$famh_dm_sa <- recode_factor(data$famh_dm_sa, \"0\"=\"no\",\"1\"=\"yes\")\n",
    "table(data$famh_dm_sa)\n",
    "\n",
    "icd10_fmh_dm <- getEarliestEventAndDate(data, c(paste(\"Z\", c(\"83.3\"), sep=\"\")))\n",
    "data$famh_dm <- icd10_fmh_dm$has_event\n",
    "data$famh_dm <- recode_factor(data$famh_dm, \"0\"=\"no\",\"1\"=\"yes\")\n",
    "table(data$famh_dm)"
   ]
  },
  {
   "cell_type": "markdown",
   "id": "c60b1a2b",
   "metadata": {},
   "source": [
    "#### 2.7.4 High blood pressure"
   ]
  },
  {
   "cell_type": "code",
   "execution_count": null,
   "id": "374df037",
   "metadata": {},
   "outputs": [],
   "source": [
    "data$famh_ht_sa <- apply( data[,relevant_columns], 1, FUN = function(x){\n",
    "    ifelse(sum(grepl(\"High blood pressure\", x))>=1,1,0)\n",
    "})\n",
    "data$famh_ht_sa <- recode_factor(data$famh_ht_sa, \"0\"=\"no\",\"1\"=\"yes\")\n",
    "\n",
    "table(data$famh_ht_sa)"
   ]
  },
  {
   "cell_type": "markdown",
   "id": "1c97d5c1",
   "metadata": {},
   "source": [
    "#### 2.7.5 Cancer"
   ]
  },
  {
   "cell_type": "code",
   "execution_count": null,
   "id": "9b0cf499",
   "metadata": {},
   "outputs": [],
   "source": [
    "data$famh_cancer_sa <- apply( data[,relevant_columns], 1, FUN = function(x){\n",
    "    ifelse(sum(grepl(\"cancer\", x))>=1,1,0)\n",
    "})\n",
    "data$famh_cancer_sa <- recode_factor(data$famh_cancer_sa, \"0\"=\"no\",\"1\"=\"yes\")\n",
    "table(data$famh_cancer_sa)\n",
    "\n",
    "icd10_fmh_neoplasm <- getEarliestEventAndDate(data, c(paste(\"Z\", c(\"80\"), sep=\"\")))\n",
    "data$famh_cancer   <- icd10_fmh_neoplasm$has_event\n",
    "data$famh_cancer   <- recode_factor(data$famh_cancer, \"0\"=\"no\",\"1\"=\"yes\")\n",
    "table(data$famh_cancer)"
   ]
  },
  {
   "cell_type": "markdown",
   "id": "837e900d",
   "metadata": {},
   "source": [
    "#### 2.7.6 Overall  Death non-accidental"
   ]
  },
  {
   "cell_type": "code",
   "execution_count": null,
   "id": "44202f16",
   "metadata": {},
   "outputs": [],
   "source": [
    "relevant_columns <- paste('p4501_i',0:3, sep=\"\")\n",
    "data$famh_death_sa <- apply( data[,relevant_columns], 1, FUN = function(x){\n",
    "    ifelse(sum(grepl(\"Yes\", x))>=1,1,0)\n",
    "})\n",
    "data$famh_death_sa <- recode_factor(data$famh_death_sa, \"0\"=\"no\",\"1\"=\"yes\")\n",
    "table(data$famh_death_sa)"
   ]
  },
  {
   "cell_type": "markdown",
   "id": "047a905c",
   "metadata": {},
   "source": [
    "#### 2.8 Lab measurements"
   ]
  },
  {
   "cell_type": "code",
   "execution_count": null,
   "id": "d3af1a53",
   "metadata": {},
   "outputs": [],
   "source": [
    "labs <- read.csv(\"tables/labs.csv\")"
   ]
  },
  {
   "cell_type": "code",
   "execution_count": null,
   "id": "72dbe7e2",
   "metadata": {},
   "outputs": [],
   "source": [
    "for(i in 1:nrow(labs)){\n",
    "    data[,labs[i,\"field\"]] <- apply(data[,paste(labs[i,\"code\"],0:1, sep=\"\")], 1 , FUN= function(x) {\n",
    "    x[x==\"\"] <- NA\n",
    "    x <- na.omit(x)\n",
    "    if(length(x)==0){\n",
    "        return(NA)\n",
    "    }else{\n",
    "        return(max(as.numeric(x)))\n",
    "    }     \n",
    "})\n",
    "}"
   ]
  },
  {
   "cell_type": "code",
   "execution_count": null,
   "id": "c0da940b",
   "metadata": {},
   "outputs": [],
   "source": [
    "data$ldl_fw  <- (data %>% mutate(ldl_fw = tc-hdl-tg/2.2))$ldl_fw\n",
    "data$nonhdl  <- data$tc - data$hdl\n",
    "data$lpa_cat <- as.factor(ifelse( data$lpa > 105, 1, 0 ) )\n",
    "table(data$lpa_cat )"
   ]
  },
  {
   "cell_type": "markdown",
   "id": "9ff9cc6a",
   "metadata": {},
   "source": [
    "### 2.8 Medications"
   ]
  },
  {
   "cell_type": "code",
   "execution_count": null,
   "id": "6a868c13",
   "metadata": {},
   "outputs": [],
   "source": [
    "meds <- read.csv(\"tables/medications_final.csv\")"
   ]
  },
  {
   "cell_type": "code",
   "execution_count": null,
   "id": "78710c85",
   "metadata": {},
   "outputs": [],
   "source": [
    "columns <- paste(\"p20003_i\",0:3, sep=\"\")\n",
    "getMedications <- function(data, med_names){\n",
    "    apply( data, 1, FUN = function(x){\n",
    "        x[x==\"\"]<-NA\n",
    "        x <- na.omit(x)\n",
    "        collapsed <- paste(x, collapse=\"|\")\n",
    "        vect2 <- unlist(strsplit(collapsed, \"\\\\|\"))\n",
    "        ifelse(any(vect2 %in% med_names),1,0)\n",
    "    })\n",
    "}"
   ]
  },
  {
   "cell_type": "code",
   "execution_count": null,
   "id": "4e40dc94",
   "metadata": {},
   "outputs": [],
   "source": [
    "for ( med_name in colnames(meds)[! colnames(meds) %in% c(\"Category\",\"Count\",\"ATC\")]) {\n",
    "    data[,med_name] <- getMedications(data[,columns],meds[meds[,med_name]!=\"\",\"Category\"])\n",
    "    data[,med_name] <- as.factor(data[,med_name])\n",
    "}"
   ]
  },
  {
   "cell_type": "markdown",
   "id": "beee8f81",
   "metadata": {},
   "source": [
    "## 3. Finalise And Save Dataset\n",
    "\n",
    "We merge the phenotype dataset with the outcome and save the dataset containing the new columns "
   ]
  },
  {
   "cell_type": "code",
   "execution_count": null,
   "id": "cf4b2141",
   "metadata": {},
   "outputs": [],
   "source": [
    "prepared_dataset <- merge(data, outcome, by=\"eid\")\n",
    "saveRDS(prepared_dataset, \"prepared_dataset.rds\")"
   ]
  },
  {
   "cell_type": "code",
   "execution_count": null,
   "id": "dd2da034",
   "metadata": {},
   "outputs": [],
   "source": [
    "colnames(prepared_dataset)"
   ]
  },
  {
   "cell_type": "markdown",
   "id": "74df4323",
   "metadata": {},
   "source": [
    "# 4. Feature Engineering \n",
    "\n",
    "## 4.1 Load dataset"
   ]
  },
  {
   "cell_type": "code",
   "execution_count": null,
   "id": "c7a65b93",
   "metadata": {},
   "outputs": [],
   "source": [
    "prepared_dataset <- readRDS(\"prepared_dataset.rds\")"
   ]
  },
  {
   "cell_type": "markdown",
   "id": "661009b8",
   "metadata": {},
   "source": [
    "## 4.2 Remove original columns from UK Biobank and \"image\" columns (we do not need them for this analysis)"
   ]
  },
  {
   "cell_type": "code",
   "execution_count": null,
   "id": "e58bc8ab",
   "metadata": {},
   "outputs": [],
   "source": [
    "cols_remove <- colnames(prepared_dataset)[grep(\"^((p[0-9]{1,7}(_[ai0-9]{0,10}){0,1}(_[ai0-9]{0,10}){0,1})|(.*img.*)|(.*dataset.*))$\", colnames(prepared_dataset)) ]\n",
    "prepared_dataset[ , cols_remove ] <- NULL\n",
    "colnames(prepared_dataset)"
   ]
  },
  {
   "cell_type": "markdown",
   "id": "0bfa2af4",
   "metadata": {},
   "source": [
    "## 4.3 Derive the \"disease\" columns"
   ]
  },
  {
   "cell_type": "code",
   "execution_count": null,
   "id": "27cf7bdc",
   "metadata": {},
   "outputs": [],
   "source": [
    "cols_disease <- colnames(prepared_dataset)[grep(\"^.*_dx$\", colnames(prepared_dataset)) ]\n",
    "cols_age     <- gsub(\"_dx\",\"_age\", cols_disease)\n",
    "cols         <- gsub(\"_dx\",\"\", cols_disease)\n",
    "df           <- data.frame(dx = cols_disease, age = cols_age, col = cols )\n",
    "gender       <-  prepared_dataset[, \"gender\"]\n",
    "for (cdisease in 1:nrow(df)){\n",
    "    disease <- prepared_dataset[, df[cdisease, \"dx\"]]\n",
    "    onset   <- prepared_dataset[, df[cdisease, \"age\"]]\n",
    "    prepared_dataset[, df[cdisease, \"col\"]]  <- ifelse(   disease == \"no\", \n",
    "                                                           \"no disease\", \n",
    "                                                           ifelse(disease == \"yes\",  \n",
    "                                                                  ifelse(gender == \"Female\",  \n",
    "                                                                         ifelse(onset < 60, \n",
    "                                                                                \"premature disease\", \n",
    "                                                                                ifelse(onset >= 60, \n",
    "                                                                                        \"disease non-premature\",\n",
    "                                                                                        \"disease onset unknown\")),\n",
    "                                                                          ifelse(gender == \"Male\",   \n",
    "                                                                                ifelse(onset < 55, \n",
    "                                                                                        \"premature disease\", \n",
    "                                                                                        ifelse(onset >= 55, \n",
    "                                                                                               \"disease non-premature\",\n",
    "                                                                                               \"disease onset unknown\")),\n",
    "                                                                                \"disease onset unknown\")),\n",
    "                                                                    NA))\n",
    "    prepared_dataset[, df[cdisease, \"col\"]] <- as.factor(prepared_dataset[, df[cdisease, \"col\"]] )\n",
    "}"
   ]
  },
  {
   "cell_type": "markdown",
   "id": "f8d8b3e6",
   "metadata": {},
   "source": [
    " Check values"
   ]
  },
  {
   "cell_type": "code",
   "execution_count": null,
   "id": "5d903006",
   "metadata": {},
   "outputs": [],
   "source": [
    "require(dplyr)\n",
    "subset(prepared_dataset[, c(\"gender\", \"diabetes2_dx\",\"diabetes2\",\"diabetes2_age\")],diabetes2 == \"premature disease\") %>% group_by(gender) %>% summarise(minage=min(diabetes2_age),maxage=max(diabetes2_age))"
   ]
  },
  {
   "cell_type": "markdown",
   "id": "4a19b884",
   "metadata": {},
   "source": [
    "Remove intermediate variables"
   ]
  },
  {
   "cell_type": "code",
   "execution_count": null,
   "id": "c7386bec",
   "metadata": {},
   "outputs": [],
   "source": [
    "prepared_dataset$education_tmp <- NULL\n",
    "prepared_dataset[, grepl(\"_dx\", colnames(prepared_dataset))] <- NULL\n",
    "prepared_dataset[, grepl(\"_age\", colnames(prepared_dataset))] <- NULL\n",
    "prepared_dataset[,\"eid\"] <- NULL\n",
    "#colnames(prepared_dataset)"
   ]
  },
  {
   "cell_type": "markdown",
   "id": "6f878aae",
   "metadata": {},
   "source": [
    "## 4.4 Remove column with more than 20% missing"
   ]
  },
  {
   "cell_type": "code",
   "execution_count": null,
   "id": "a4e7ba24",
   "metadata": {},
   "outputs": [],
   "source": [
    "missing_columns <- apply(prepared_dataset, 2, function(x) ( sum(is.na(x))/length(x)> 0.20 ) )\n",
    "cols_remove      <- colnames(prepared_dataset)[missing_columns]\n",
    "prepared_dataset[ , cols_remove ] <- NULL      \n",
    "colnames(prepared_dataset)"
   ]
  },
  {
   "cell_type": "markdown",
   "id": "7de4f792",
   "metadata": {},
   "source": [
    "## 4.5 Set correct types for variables"
   ]
  },
  {
   "cell_type": "code",
   "execution_count": null,
   "id": "c0a118bc",
   "metadata": {},
   "outputs": [],
   "source": [
    "prepared_dataset$bmi_cat <- as.factor(prepared_dataset$bmi_cat)\n",
    "prepared_dataset$age_cat <- as.factor(prepared_dataset$age_cat)\n",
    "prepared_dataset$diet_meat <- as.factor(prepared_dataset$diet_meat)\n",
    "prepared_dataset$diet_oily_fish <- as.factor(prepared_dataset$diet_oily_fish)\n",
    "prepared_dataset$diet_nonoily_fish <- as.factor(prepared_dataset$diet_nonoily_fish)\n",
    "prepared_dataset$diet_cooked_veg <- as.numeric(prepared_dataset$diet_cooked_veg)\n",
    "prepared_dataset$diet_raw_veg <- as.numeric(prepared_dataset$diet_raw_veg)\n",
    "prepared_dataset$ANY <- as.factor(prepared_dataset$ANY)\n",
    "prepared_dataset$APOB <- as.factor(prepared_dataset$APOB)\n",
    "prepared_dataset$PCSK9 <- as.factor(prepared_dataset$PCSK9)\n",
    "prepared_dataset$LDLR <- as.factor(prepared_dataset$LDLR)\n",
    "prepared_dataset$bmi_cat <- as.factor(prepared_dataset$bmi_cat)"
   ]
  },
  {
   "cell_type": "markdown",
   "id": "66a2d36d",
   "metadata": {},
   "source": [
    "## 4.6 Replace \"Prefer not to answer\" with null (to decrease the number of rare levels)\n",
    "\n",
    "The motivation for doing so is that we do not want some of our dataset (feature importance/derivation/validation) with different levels of factors. \n",
    "Sinc the overall dataset is 500,000 and we have 10 dataset we want to keep levels at least 10 times in the dataset. "
   ]
  },
  {
   "cell_type": "code",
   "execution_count": null,
   "id": "a81eeae6",
   "metadata": {},
   "outputs": [],
   "source": [
    "col_factors <- colnames(prepared_dataset)[unlist(lapply(prepared_dataset, is.factor))]\n",
    "for (c in col_factors){\n",
    "    if ( \"Prefer not to answer\" %in% levels(prepared_dataset[,c])){\n",
    "        prepared_dataset[ !is.na(prepared_dataset[,c]) & prepared_dataset[,c]==\"Prefer not to answer\", c] <- NA\n",
    "    }\n",
    "}\n",
    "prepared_dataset <- droplevels(prepared_dataset)"
   ]
  },
  {
   "cell_type": "markdown",
   "id": "ed1c390a",
   "metadata": {},
   "source": [
    "## 4.7 Remove variable with rare levels < 1:50,000; \n"
   ]
  },
  {
   "cell_type": "code",
   "execution_count": null,
   "id": "96100d20",
   "metadata": {},
   "outputs": [],
   "source": [
    "for (c in col_factors){\n",
    "    tbl <- table(prepared_dataset[,c])/nrow(prepared_dataset)\n",
    "    if(length(tbl[tbl<0.00002])!=0){\n",
    "        cat(\"\\t\",c, \"\\n\")\n",
    "        cat(names(tbl[tbl<0.00002]),\"\\n\")\n",
    "    }\n",
    "}"
   ]
  },
  {
   "cell_type": "code",
   "execution_count": null,
   "id": "5edca190",
   "metadata": {},
   "outputs": [],
   "source": [
    "prepared_dataset$PCSK9             <- NULL\n",
    "prepared_dataset$APOB             <- NULL\n",
    "# remove unused levels\n",
    "prepared_dataset <- droplevels(prepared_dataset)"
   ]
  },
  {
   "cell_type": "markdown",
   "id": "3ab4e0a0",
   "metadata": {},
   "source": [
    "# 5. Perform Data Partitioning"
   ]
  },
  {
   "cell_type": "markdown",
   "id": "d4a7595c",
   "metadata": {},
   "source": [
    "## 5.1 Perform stratification by age (median), sex and FH-carrying status"
   ]
  },
  {
   "cell_type": "code",
   "execution_count": null,
   "id": "168f69d8",
   "metadata": {},
   "outputs": [],
   "source": [
    "prepared_dataset$age_cat <- ifelse(prepared_dataset$age < 58, 0, 1)\n",
    "strata <-  prepared_dataset %>% group_by(gender, age_cat,ANY) %>% summarise(count= n())\n",
    "strata "
   ]
  },
  {
   "cell_type": "markdown",
   "id": "5f68bf6b",
   "metadata": {},
   "source": [
    "In each strata, for each patient randomly allocated a number between 1 and 10.  "
   ]
  },
  {
   "cell_type": "code",
   "execution_count": null,
   "id": "418d8105",
   "metadata": {},
   "outputs": [],
   "source": [
    "set.seed(123)\n",
    "\n",
    "attributeFold <- function(data, k){\n",
    "    data <- data[sample(1:nrow(data)), ] # shuffling\n",
    "    eachGrp  <- floor(nrow(data)/k)      # find number of individual in each group\n",
    "    reminder <- nrow(data)-eachGrp*k     # find how many cannot fit in a group \n",
    "    return(c(rep(1:k, eachGrp), sample(1:k, reminder,replace=F)))\n",
    "}\n",
    "\n",
    "k <- 10 \n",
    "datasetList <- list()\n",
    "for (i in 1:nrow(strata)){\n",
    "    sdataset <- subset(prepared_dataset, gender ==  strata[i, \"gender\"]$gender & age_cat == strata[i, \"age_cat\"]$age_cat  & ANY == strata[i, \"ANY\"]$ANY)\n",
    "    sdataset$fold <- attributeFold(sdataset, k)\n",
    "    datasetList[[ length( datasetList ) + 1 ]] <- sdataset\n",
    "}\n",
    "sum(unlist(lapply(datasetList, nrow)))"
   ]
  },
  {
   "cell_type": "markdown",
   "id": "02b5d557",
   "metadata": {},
   "source": [
    "Pull all the data frame together"
   ]
  },
  {
   "cell_type": "code",
   "execution_count": null,
   "id": "e20621a0",
   "metadata": {},
   "outputs": [],
   "source": [
    "merged_data <- do.call(rbind, datasetList)\n",
    "nrow(merged_data )"
   ]
  },
  {
   "cell_type": "code",
   "execution_count": null,
   "id": "41886bfc",
   "metadata": {},
   "outputs": [],
   "source": [
    "merged_data  %>% group_by(fold) %>% summarise(gender = sum(ifelse(gender==\"Male\",1,0)), age_cat = sum(age_cat),ANY = sum(ANY==\"1\"))"
   ]
  },
  {
   "cell_type": "markdown",
   "id": "dfe0a342",
   "metadata": {},
   "source": [
    "## 5.2 Attribute subset of dataset by random/stratified folds to the  3 datasets"
   ]
  },
  {
   "cell_type": "code",
   "execution_count": null,
   "id": "928c7906",
   "metadata": {},
   "outputs": [],
   "source": [
    "feature_importance_dataset <- subset(merged_data, fold %in% 1:2 )\n",
    "derivation_dataset         <- subset(merged_data, fold %in% 3:8)\n",
    "validation_dataset         <- subset(merged_data, fold %in% 9:10)\n",
    "\n",
    "feature_importance_dataset$fold <- NULL\n",
    "derivation_dataset$fold         <- NULL\n",
    "validation_dataset$fold         <- NULL"
   ]
  },
  {
   "cell_type": "markdown",
   "id": "08906d4d",
   "metadata": {},
   "source": [
    "### 5.2.1 Furter stratify the derivation dataset into 5 folds using (median age, sex, FH-carrying status)"
   ]
  },
  {
   "cell_type": "markdown",
   "id": "8d9650a2",
   "metadata": {},
   "source": [
    "In the derivation dataset we want to assign 5 folds for CV. "
   ]
  },
  {
   "cell_type": "code",
   "execution_count": null,
   "id": "eb013cdb",
   "metadata": {},
   "outputs": [],
   "source": [
    "strata <-  derivation_dataset %>% group_by(gender, age_cat,ANY) %>% summarise(count= n())\n",
    "strata "
   ]
  },
  {
   "cell_type": "code",
   "execution_count": null,
   "id": "92c89a9e",
   "metadata": {},
   "outputs": [],
   "source": [
    "nrow(derivation_dataset)\n",
    "k <- 5 \n",
    "datasetList <- list()\n",
    "for (i in 1:nrow(strata)){\n",
    "    sdataset <- subset(derivation_dataset, gender ==  strata[i, \"gender\"]$gender & age_cat == strata[i, \"age_cat\"]$age_cat  & ANY == strata[i, \"ANY\"]$ANY)\n",
    "    sdataset$fold <- attributeFold(sdataset, k)\n",
    "    datasetList[[ length( datasetList ) + 1 ]] <- sdataset\n",
    "}\n",
    "derivation_dataset <- do.call(rbind, datasetList)\n",
    "nrow( derivation_dataset)\n",
    "derivation_dataset  %>% group_by(fold) %>% summarise(gender = sum(ifelse(gender==\"Male\",1,0)), age_cat = sum(age_cat),ANY = sum(ANY==\"1\"))"
   ]
  },
  {
   "cell_type": "markdown",
   "id": "6d74e2ab",
   "metadata": {},
   "source": [
    "We now want to save our work to the corresponding file. "
   ]
  },
  {
   "cell_type": "markdown",
   "id": "bcb7037f",
   "metadata": {},
   "source": [
    "## 5.3 Save the stratified datasets"
   ]
  },
  {
   "cell_type": "code",
   "execution_count": null,
   "id": "089b0d51",
   "metadata": {},
   "outputs": [],
   "source": [
    "saveRDS( feature_importance_dataset, \"./DataPartition/feature_importance_dataset.RDS\")\n",
    "saveRDS( derivation_dataset        , \"./DataPartition/derivation_dataset.RDS\")\n",
    "saveRDS( validation_dataset        , \"./DataPartition/validation_dataset.RDS\")"
   ]
  },
  {
   "cell_type": "markdown",
   "id": "d77db40a",
   "metadata": {},
   "source": [
    "# 6. Perform Missing Data Imputation"
   ]
  },
  {
   "cell_type": "markdown",
   "id": "418c5b5c",
   "metadata": {},
   "source": [
    "## 6.1 Load the data"
   ]
  },
  {
   "cell_type": "code",
   "execution_count": null,
   "id": "c5f316b8",
   "metadata": {},
   "outputs": [],
   "source": [
    "feature_importance_dataset <- readRDS( \"./DataPartition/feature_importance_dataset.RDS\")\n",
    "derivation_dataset         <- readRDS( \"./DataPartition/derivation_dataset.RDS\")\n",
    "validation_dataset         <- readRDS( \"./DataPartition/validation_dataset.RDS\")"
   ]
  },
  {
   "cell_type": "markdown",
   "id": "c13c32d0",
   "metadata": {},
   "source": [
    "## 6.2 Install/Load the packages"
   ]
  },
  {
   "cell_type": "code",
   "execution_count": null,
   "id": "1fd650ef",
   "metadata": {},
   "outputs": [],
   "source": [
    "# install.packages(\"mice\")\n",
    "# install.packages(\"future\")\n",
    "# install.packages(\"furrr\")\n",
    "# install.packages(\"nnet\")\n",
    "require(mice) # install.packages(\"mice\")\n",
    "require(furrr) # install.packages(\"furrr\")"
   ]
  },
  {
   "cell_type": "markdown",
   "id": "c3ce625b",
   "metadata": {},
   "source": [
    "## 6.3 Impute Feature Importance Dataset"
   ]
  },
  {
   "cell_type": "code",
   "execution_count": null,
   "id": "7a058bbc",
   "metadata": {},
   "outputs": [],
   "source": [
    "mids <-  futuremice(data = feature_importance_dataset,\n",
    "                  m = 5, parallelseed = 123, use.logical = FALSE,\n",
    "                  n.core = 5,  maxit = 1)\n",
    "feature_importance_imputed_dataset <- complete(mids)\n",
    "sum(is.na(feature_importance_imputed_dataset))"
   ]
  },
  {
   "cell_type": "code",
   "execution_count": null,
   "id": "f29b57e5",
   "metadata": {},
   "outputs": [],
   "source": [
    "saveRDS( feature_importance_imputed_dataset      , \"./DataPartition/feature_importance_imputed_dataset.RDS\")"
   ]
  },
  {
   "cell_type": "markdown",
   "id": "d25d9029",
   "metadata": {},
   "source": [
    "## 6.4 Impute Derivation dataset by CV fold"
   ]
  },
  {
   "cell_type": "code",
   "execution_count": null,
   "id": "37c84de7",
   "metadata": {},
   "outputs": [],
   "source": [
    "listImpDataset <- list()\n",
    "for (k in 1:max(derivation_dataset$fold)) {\n",
    "    message(paste(\"k is \", k, sep=\"\"))\n",
    "    sdataset    <- subset(derivation_dataset, fold == k)\n",
    "    mids        <-  futuremice(data = sdataset, use.logical = FALSE, \n",
    "                  m = 5, parallelseed = 123, \n",
    "                  n.core = 5,  maxit = 1)\n",
    "    listImpDataset[[ length( listImpDataset ) + 1  ]] <- complete(mids)\n",
    "}\n",
    "derivation_dataset_imputed_dataset <- do.call(rbind, listImpDataset)"
   ]
  },
  {
   "cell_type": "code",
   "execution_count": null,
   "id": "799a8ecc",
   "metadata": {},
   "outputs": [],
   "source": [
    "saveRDS( derivation_dataset_imputed_dataset        , \"./DataPartition/derivation_imputed_dataset.RDS\")"
   ]
  },
  {
   "cell_type": "markdown",
   "id": "897145b2",
   "metadata": {},
   "source": [
    "## 6.5 Impute Validation dataset"
   ]
  },
  {
   "cell_type": "code",
   "execution_count": null,
   "id": "e57f7e08",
   "metadata": {},
   "outputs": [],
   "source": [
    "mids <-  futuremice(data = validation_dataset,\n",
    "                  m = 5, parallelseed = 123, use.logical = FALSE, \n",
    "                  n.core = 5,  maxit = 1)\n",
    "validation_imputed_dataset <- complete(mids)"
   ]
  },
  {
   "cell_type": "code",
   "execution_count": null,
   "id": "9b8c4af4",
   "metadata": {},
   "outputs": [],
   "source": [
    "saveRDS( validation_imputed_dataset                , \"./DataPartition/validation_imputed_dataset.RDS\")"
   ]
  },
  {
   "cell_type": "code",
   "execution_count": null,
   "id": "65104511",
   "metadata": {},
   "outputs": [],
   "source": [
    "numeric_columns <- lapply(feature_importance_imputed_dataset, FUN = is.numeric) "
   ]
  },
  {
   "cell_type": "markdown",
   "id": "5addd0e0",
   "metadata": {},
   "source": [
    "# Scaling variables"
   ]
  },
  {
   "cell_type": "code",
   "execution_count": null,
   "id": "ba979381",
   "metadata": {},
   "outputs": [],
   "source": [
    "feature_importance_imputed_scaled_dataset      <- readRDS(\"./DataPartition/feature_importance_imputed_dataset.RDS\")\n",
    "derivation_imputed_scaled_dataset              <- readRDS(\"./DataPartition/derivation_imputed_dataset.RDS\")\n",
    "validation_imputed_scaled_dataset              <- readRDS(\"./DataPartition/validation_imputed_dataset.RDS\")"
   ]
  },
  {
   "cell_type": "code",
   "execution_count": null,
   "id": "442bc732",
   "metadata": {},
   "outputs": [],
   "source": [
    "feature_importance_imputed_scaled_dataset$pcsk9 <- NULL\n",
    "derivation_imputed_scaled_dataset$pcsk9         <- NULL\n",
    "validation_imputed_scaled_dataset$pcsk9         <- NULL"
   ]
  },
  {
   "cell_type": "code",
   "execution_count": null,
   "id": "09570e51",
   "metadata": {},
   "outputs": [],
   "source": [
    "feature_importance_imputed_scaled_dataset$age_cat <- as.factor(feature_importance_imputed_scaled_dataset$age_cat)\n",
    "derivation_imputed_scaled_dataset$age_cat         <- as.factor(derivation_imputed_scaled_dataset$age_cat)\n",
    "validation_imputed_scaled_dataset$age_cat         <- as.factor(validation_imputed_scaled_dataset$age_cat)"
   ]
  },
  {
   "cell_type": "code",
   "execution_count": null,
   "id": "74676a54",
   "metadata": {},
   "outputs": [],
   "source": [
    "numeric_columns <- colnames(feature_importance_imputed_scaled_dataset)[ unlist(lapply(feature_importance_imputed_scaled_dataset, FUN = is.numeric))]\n",
    "cat_columns     <- colnames(feature_importance_imputed_scaled_dataset)[ unlist(lapply(feature_importance_imputed_scaled_dataset, FUN = is.factor))]"
   ]
  },
  {
   "cell_type": "code",
   "execution_count": null,
   "id": "c8d9cf78",
   "metadata": {},
   "outputs": [],
   "source": [
    "feature_importance_imputed_scaled_dataset[,numeric_columns] <- scale(feature_importance_imputed_scaled_dataset[,numeric_columns])\n",
    "derivation_imputed_scaled_dataset[,numeric_columns]         <- scale(derivation_imputed_scaled_dataset[,numeric_columns])\n",
    "validation_imputed_scaled_dataset[,numeric_columns]         <- scale(validation_imputed_scaled_dataset[,numeric_columns])"
   ]
  },
  {
   "cell_type": "code",
   "execution_count": null,
   "id": "c9526dd2",
   "metadata": {},
   "outputs": [],
   "source": [
    "saveRDS(feature_importance_imputed_scaled_dataset, \"./DataPartition/feature_importance_imputed_scaled_dataset.RDS\")\n",
    "saveRDS(derivation_imputed_scaled_dataset, \"./DataPartition/derivation_imputed_scaled_dataset.RDS\")\n",
    "saveRDS(validation_imputed_scaled_dataset, \"./DataPartition/validation_imputed_scaled_dataset.RDS\")"
   ]
  }
 ],
 "metadata": {
  "kernelspec": {
   "display_name": "R",
   "language": "R",
   "name": "ir"
  },
  "language_info": {
   "codemirror_mode": "r",
   "file_extension": ".r",
   "mimetype": "text/x-r-source",
   "name": "R",
   "pygments_lexer": "r",
   "version": "4.3.1"
  }
 },
 "nbformat": 4,
 "nbformat_minor": 5
}
